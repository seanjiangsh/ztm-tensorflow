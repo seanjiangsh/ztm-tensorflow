{
  "cells": [
    {
      "cell_type": "markdown",
      "id": "6ac43dcb",
      "metadata": {},
      "source": [
        "# 09. Milestone Project 2: SkimLit 📄🔥\n",
        "\n",
        "In the previous notebook ([NLP fundamentals in TensorFlow](https://github.com/mrdbourke/tensorflow-deep-learning/blob/main/08_introduction_to_nlp_in_tensorflow.ipynb)), we went through some fundamental natural lanuage processing concepts. The main ones being **tokenzation** (turning words into numbers) and **creating embeddings** (creating a numerical representation of words).\n",
        "\n",
        "In this project, we're going to be putting what we've learned into practice.\n",
        "\n",
        "More specificially, we're going to be replicating the deep learning model behind the 2017 paper [*PubMed 200k RCT: a Dataset for Sequenctial Sentence Classification in Medical Abstracts*](https://arxiv.org/abs/1710.06071).\n",
        "\n",
        "When it was released, the paper presented a new dataset called PubMed 200k RCT which consists of ~200,000 labelled Randomized Controlled Trial (RCT) abstracts.\n",
        "\n",
        "The goal of the dataset was to explore the ability for NLP models to classify sentences which appear in sequential order.\n",
        "\n",
        "In other words, given the abstract of a RCT, what role does each sentence serve in the abstract?\n",
        "\n",
        "![Skimlit example inputs and outputs](https://raw.githubusercontent.com/mrdbourke/tensorflow-deep-learning/main/images/09-skimlit-overview-input-and-output.png)\n",
        "\n",
        "*Example inputs ([harder to read abstract from PubMed](https://pubmed.ncbi.nlm.nih.gov/28942748/)) and outputs ([easier to read abstract](https://pubmed.ncbi.nlm.nih.gov/32537182/)) of the model we're going to build. The model will take an abstract wall of text and predict the section label each sentence should have.*  \n",
        "\n",
        "### Model Input\n",
        "\n",
        "For example, can we train an NLP model which takes the following input (note: the following sample has had all numerical symbols replaced with \"@\"):\n",
        "\n",
        "> To investigate the efficacy of @ weeks of daily low-dose oral prednisolone in improving pain , mobility , and systemic low-grade inflammation in the short term and whether the effect would be sustained at @ weeks in older adults with moderate to severe knee osteoarthritis ( OA ). A total of @ patients with primary knee OA were randomized @:@ ; @ received @ mg/day of prednisolone and @ received placebo for @ weeks. Outcome measures included pain reduction and improvement in function scores and systemic inflammation markers. Pain was assessed using the visual analog pain scale ( @-@ mm ).\n",
        "Secondary outcome measures included the Western Ontario and McMaster Universities Osteoarthritis Index scores , patient global assessment ( PGA ) of the severity of knee OA , and @-min walk distance ( @MWD ).,\n",
        "Serum levels of interleukin @ ( IL-@ ) , IL-@ , tumor necrosis factor ( TNF ) - , and high-sensitivity C-reactive protein ( hsCRP ) were measured.\n",
        "There was a clinically relevant reduction in the intervention group compared to the placebo group for knee pain , physical function , PGA , and @MWD at @ weeks. The mean difference between treatment arms ( @ % CI ) was @ ( @-@ @ ) , p < @ ; @ ( @-@ @ ) , p < @ ; @ ( @-@ @ ) , p < @ ; and @ ( @-@ @ ) , p < @ , respectively. Further , there was a clinically relevant reduction in the serum levels of IL-@ , IL-@ , TNF - , and hsCRP at @ weeks in the intervention group when compared to the placebo group. These differences remained significant at @ weeks. The Outcome Measures in Rheumatology Clinical Trials-Osteoarthritis Research Society International responder rate was @ % in the intervention group and @ % in the placebo group ( p < @ ). Low-dose oral prednisolone had both a short-term and a longer sustained effect resulting in less knee pain , better physical function , and attenuation of systemic inflammation in older patients with knee OA ( ClinicalTrials.gov identifier NCT@ ).\n",
        "\n",
        "### Model output\n",
        "\n",
        "And returns the following output:\n",
        "\n",
        "```\n",
        "['###24293578\\n',\n",
        " 'OBJECTIVE\\tTo investigate the efficacy of @ weeks of daily low-dose oral prednisolone in improving pain , mobility , and systemic low-grade inflammation in the short term and whether the effect would be sustained at @ weeks in older adults with moderate to severe knee osteoarthritis ( OA ) .\\n',\n",
        " 'METHODS\\tA total of @ patients with primary knee OA were randomized @:@ ; @ received @ mg/day of prednisolone and @ received placebo for @ weeks .\\n',\n",
        " 'METHODS\\tOutcome measures included pain reduction and improvement in function scores and systemic inflammation markers .\\n',\n",
        " 'METHODS\\tPain was assessed using the visual analog pain scale ( @-@ mm ) .\\n',\n",
        " 'METHODS\\tSecondary outcome measures included the Western Ontario and McMaster Universities Osteoarthritis Index scores , patient global assessment ( PGA ) of the severity of knee OA , and @-min walk distance ( @MWD ) .\\n',\n",
        " 'METHODS\\tSerum levels of interleukin @ ( IL-@ ) , IL-@ , tumor necrosis factor ( TNF ) - , and high-sensitivity C-reactive protein ( hsCRP ) were measured .\\n',\n",
        " 'RESULTS\\tThere was a clinically relevant reduction in the intervention group compared to the placebo group for knee pain , physical function , PGA , and @MWD at @ weeks .\\n',\n",
        " 'RESULTS\\tThe mean difference between treatment arms ( @ % CI ) was @ ( @-@ @ ) , p < @ ; @ ( @-@ @ ) , p < @ ; @ ( @-@ @ ) , p < @ ; and @ ( @-@ @ ) , p < @ , respectively .\\n',\n",
        " 'RESULTS\\tFurther , there was a clinically relevant reduction in the serum levels of IL-@ , IL-@ , TNF - , and hsCRP at @ weeks in the intervention group when compared to the placebo group .\\n',\n",
        " 'RESULTS\\tThese differences remained significant at @ weeks .\\n',\n",
        " 'RESULTS\\tThe Outcome Measures in Rheumatology Clinical Trials-Osteoarthritis Research Society International responder rate was @ % in the intervention group and @ % in the placebo group ( p < @ ) .\\n',\n",
        " 'CONCLUSIONS\\tLow-dose oral prednisolone had both a short-term and a longer sustained effect resulting in less knee pain , better physical function , and attenuation of systemic inflammation in older patients with knee OA ( ClinicalTrials.gov identifier NCT@ ) .\\n',\n",
        " '\\n']\n",
        " ```\n",
        "\n",
        "### Problem in a sentence\n",
        "\n",
        "The number of RCT papers released is continuing to increase, those without structured abstracts can be hard to read and in turn slow down researchers moving through the literature. \n",
        "\n",
        "### Solution in a sentence\n",
        "\n",
        "Create an NLP model to classify abstract sentences into the role they play (e.g. objective, methods, results, etc)  to enable researchers to skim through the literature (hence SkimLit 🤓🔥) and dive deeper when necessary.\n",
        "\n",
        "> 📖 **Resources:** Before going through the code in this notebook, you might want to get a background of what we're going to be doing. To do so, spend an hour (or two) going through the following papers and then return to this notebook:\n",
        "1. Where our data is coming from: [*PubMed 200k RCT: a Dataset for Sequential Sentence Classification in Medical Abstracts*](https://arxiv.org/abs/1710.06071)\n",
        "2. Where our model is coming from: [*Neural networks for joint sentence\n",
        "classification in medical paper abstracts*](https://arxiv.org/pdf/1612.05251.pdf).\n",
        "\n",
        "## What we're going to cover\n",
        "\n",
        "Time to take what we've learned in the NLP fundmentals notebook and build our biggest NLP model yet:\n",
        "\n",
        "* Downloading a text dataset ([PubMed RCT200k from GitHub](https://github.com/Franck-Dernoncourt/pubmed-rct))\n",
        "* Writing a preprocessing function to prepare our data for modelling\n",
        "* Setting up a series of modelling experiments\n",
        "  * Making a baseline (TF-IDF classifier)\n",
        "  * Deep models with different combinations of: token embeddings, character embeddings, pretrained embeddings, positional embeddings\n",
        "* Building our first multimodal model (taking multiple types of data inputs)\n",
        "  * Replicating the model architecture from https://arxiv.org/abs/1612.05251\n",
        "* Find the most wrong predictions\n",
        "* Making predictions on PubMed abstracts from the wild\n"
      ]
    },
    {
      "cell_type": "markdown",
      "id": "2fe1dae9",
      "metadata": {},
      "source": [
        "## Confirm access to a GPU\n",
        "\n",
        "Since we're going to be building deep learning models, let's make sure we have a GPU.\n",
        "\n",
        "In Google Colab, you can set this up by going to Runtime -> Change runtime type -> Hardware accelerator -> GPU.\n",
        "\n",
        "If you don't have access to a GPU, the models we're building here will likely take up to 10x longer to run."
      ]
    },
    {
      "cell_type": "code",
      "execution_count": 1,
      "id": "0eeea117",
      "metadata": {},
      "outputs": [
        {
          "name": "stdout",
          "output_type": "stream",
          "text": [
            "GPU 0: NVIDIA GeForce RTX 4070 Laptop GPU (UUID: GPU-f2fc91ef-d4e3-c010-ebf9-2d38bc5874e8)\n"
          ]
        }
      ],
      "source": [
        "# Check for GPU\n",
        "!nvidia-smi -L"
      ]
    },
    {
      "cell_type": "markdown",
      "id": "862ed039",
      "metadata": {},
      "source": [
        "## Get data\n",
        "\n",
        "Before we can start building a model, we've got to download the PubMed 200k RCT dataset.\n",
        "\n",
        "In a phenomenal act of kindness, the authors of the paper have made the data they used for their research availably publically and for free in the form of .txt files [on GitHub](https://github.com/Franck-Dernoncourt/pubmed-rct).\n",
        "\n",
        "We can copy them to our local directory using `git clone https://github.com/Franck-Dernoncourt/pubmed-rct`."
      ]
    },
    {
      "cell_type": "code",
      "execution_count": 2,
      "id": "3d943154",
      "metadata": {},
      "outputs": [
        {
          "name": "stdout",
          "output_type": "stream",
          "text": [
            "PubMed_200k_RCT\n",
            "PubMed_200k_RCT_numbers_replaced_with_at_sign\n",
            "PubMed_20k_RCT\n",
            "PubMed_20k_RCT_numbers_replaced_with_at_sign\n",
            "README.md\n"
          ]
        }
      ],
      "source": [
        "RCT_DIR = 'data/pubmed-rct/'\n",
        "!ls {RCT_DIR}"
      ]
    },
    {
      "cell_type": "markdown",
      "id": "f8116645",
      "metadata": {},
      "source": [
        "Checking the contents of the downloaded repository, you can see there are four folders.\n",
        "\n",
        "Each contains a different version of the PubMed 200k RCT dataset.\n",
        "\n",
        "Looking at the [README file](https://github.com/Franck-Dernoncourt/pubmed-rct) from the GitHub page, we get the following information:\n",
        "* PubMed 20k is a subset of PubMed 200k. I.e., any abstract present in PubMed 20k is also present in PubMed 200k.\n",
        "* `PubMed_200k_RCT` is the same as `PubMed_200k_RCT_numbers_replaced_with_at_sign`, except that in the latter all numbers had been replaced by `@`. (same for `PubMed_20k_RCT` vs. `PubMed_20k_RCT_numbers_replaced_with_at_sign`).\n",
        "* Since Github file size limit is 100 MiB, we had to compress `PubMed_200k_RCT\\train.7z` and `PubMed_200k_RCT_numbers_replaced_with_at_sign\\train.zip`. To uncompress `train.7z`, you may use 7-Zip on Windows, Keka on Mac OS X, or p7zip on Linux.\n",
        "\n",
        "To begin with, the dataset we're going to be focused on is `PubMed_20k_RCT_numbers_replaced_with_at_sign`.\n",
        "\n",
        "Why this one?\n",
        "\n",
        "Rather than working with the whole 200k dataset, we'll keep our experiments quick by starting with a smaller subset. We could've chosen the dataset with numbers instead of having them replaced with `@` but we didn't.\n",
        "\n",
        "Let's check the file contents. "
      ]
    },
    {
      "cell_type": "code",
      "execution_count": 3,
      "id": "eb824cb2",
      "metadata": {},
      "outputs": [
        {
          "name": "stdout",
          "output_type": "stream",
          "text": [
            "dev.txt  test.txt  train.txt\n"
          ]
        }
      ],
      "source": [
        "# Check what files are in the PubMed_20K dataset \n",
        "!ls {RCT_DIR}PubMed_20k_RCT_numbers_replaced_with_at_sign"
      ]
    },
    {
      "cell_type": "markdown",
      "id": "432b3196",
      "metadata": {},
      "source": [
        "Beautiful, looks like we've got three separate text files:\n",
        "* `train.txt` - training samples.\n",
        "* `dev.txt` - dev is short for development set, which is another name for validation set (in our case, we'll be using and referring to this file as our validation set).\n",
        "* `test.txt` - test samples.\n",
        "\n",
        "To save ourselves typing out the filepath to our target directory each time, let's turn it into a variable."
      ]
    },
    {
      "cell_type": "code",
      "execution_count": 4,
      "id": "4a427bb8",
      "metadata": {},
      "outputs": [],
      "source": [
        "# Start by using the 20k dataset\n",
        "data_dir = RCT_DIR + \"PubMed_20k_RCT_numbers_replaced_with_at_sign/\""
      ]
    },
    {
      "cell_type": "code",
      "execution_count": 5,
      "id": "dfb7413f",
      "metadata": {},
      "outputs": [
        {
          "data": {
            "text/plain": [
              "['data/pubmed-rct/PubMed_20k_RCT_numbers_replaced_with_at_sign/dev.txt',\n",
              " 'data/pubmed-rct/PubMed_20k_RCT_numbers_replaced_with_at_sign/test.txt',\n",
              " 'data/pubmed-rct/PubMed_20k_RCT_numbers_replaced_with_at_sign/train.txt']"
            ]
          },
          "execution_count": 5,
          "metadata": {},
          "output_type": "execute_result"
        }
      ],
      "source": [
        "# Check all of the filenames in the target directory\n",
        "import os\n",
        "\n",
        "filenames = [data_dir + filename for filename in os.listdir(data_dir)]\n",
        "filenames"
      ]
    },
    {
      "cell_type": "markdown",
      "id": "a995bb83",
      "metadata": {},
      "source": [
        "## Preprocess data\n",
        "\n",
        "Okay, now we've downloaded some text data, do you think we're ready to model it?\n",
        "\n",
        "Wait...\n",
        "\n",
        "We've downloaded the data but we haven't even looked at it yet.\n",
        "\n",
        "What's the motto for getting familiar with any new dataset?\n",
        "\n",
        "I'll give you a clue, the word begins with \"v\" and we say it three times.\n",
        "\n",
        "> Vibe, vibe, vibe?\n",
        "\n",
        "Sort of... we've definitely got to the feel the vibe of our data.\n",
        "\n",
        "> Values, values, values?\n",
        "\n",
        "Right again, we want to *see* lots of values but not quite what we're looking for.\n",
        "\n",
        "> Visualize, visualize, visualize?\n",
        "\n",
        "Boom! That's it. To get familiar and understand how we have to prepare our data for our deep learning models, we've got to visualize it.\n",
        "\n",
        "Because our data is in the form of text files, let's write some code to read each of the lines in a target file."
      ]
    },
    {
      "cell_type": "code",
      "execution_count": 6,
      "id": "5d0ae796",
      "metadata": {},
      "outputs": [],
      "source": [
        "# Create function to read the lines of a document\n",
        "def get_lines(filename):\n",
        "    \"\"\"\n",
        "  Reads filename (a text file) and returns the lines of text as a list.\n",
        "  \n",
        "  Args:\n",
        "      filename: a string containing the target filepath to read.\n",
        "  \n",
        "  Returns:\n",
        "      A list of strings with one string per line from the target filename.\n",
        "      For example:\n",
        "      [\"this is the first line of filename\",\n",
        "       \"this is the second line of filename\",\n",
        "       \"...\"]\n",
        "  \"\"\"\n",
        "    with open(filename, \"r\") as f:\n",
        "        return f.readlines()"
      ]
    },
    {
      "cell_type": "markdown",
      "id": "0b5f5b44",
      "metadata": {},
      "source": [
        "Alright, we've got a little function, `get_lines()` which takes the filepath of a text file, opens it, reads each of the lines and returns them.\n",
        "\n",
        "Let's try it out on the training data (`train.txt`)."
      ]
    },
    {
      "cell_type": "code",
      "execution_count": 7,
      "id": "c25dbde0",
      "metadata": {},
      "outputs": [
        {
          "data": {
            "text/plain": [
              "['###24293578\\n',\n",
              " 'OBJECTIVE\\tTo investigate the efficacy of @ weeks of daily low-dose oral prednisolone in improving pain , mobility , and systemic low-grade inflammation in the short term and whether the effect would be sustained at @ weeks in older adults with moderate to severe knee osteoarthritis ( OA ) .\\n',\n",
              " 'METHODS\\tA total of @ patients with primary knee OA were randomized @:@ ; @ received @ mg/day of prednisolone and @ received placebo for @ weeks .\\n',\n",
              " 'METHODS\\tOutcome measures included pain reduction and improvement in function scores and systemic inflammation markers .\\n',\n",
              " 'METHODS\\tPain was assessed using the visual analog pain scale ( @-@ mm ) .\\n',\n",
              " 'METHODS\\tSecondary outcome measures included the Western Ontario and McMaster Universities Osteoarthritis Index scores , patient global assessment ( PGA ) of the severity of knee OA , and @-min walk distance ( @MWD ) .\\n',\n",
              " 'METHODS\\tSerum levels of interleukin @ ( IL-@ ) , IL-@ , tumor necrosis factor ( TNF ) - , and high-sensitivity C-reactive protein ( hsCRP ) were measured .\\n',\n",
              " 'RESULTS\\tThere was a clinically relevant reduction in the intervention group compared to the placebo group for knee pain , physical function , PGA , and @MWD at @ weeks .\\n',\n",
              " 'RESULTS\\tThe mean difference between treatment arms ( @ % CI ) was @ ( @-@ @ ) , p < @ ; @ ( @-@ @ ) , p < @ ; @ ( @-@ @ ) , p < @ ; and @ ( @-@ @ ) , p < @ , respectively .\\n',\n",
              " 'RESULTS\\tFurther , there was a clinically relevant reduction in the serum levels of IL-@ , IL-@ , TNF - , and hsCRP at @ weeks in the intervention group when compared to the placebo group .\\n',\n",
              " 'RESULTS\\tThese differences remained significant at @ weeks .\\n',\n",
              " 'RESULTS\\tThe Outcome Measures in Rheumatology Clinical Trials-Osteoarthritis Research Society International responder rate was @ % in the intervention group and @ % in the placebo group ( p < @ ) .\\n',\n",
              " 'CONCLUSIONS\\tLow-dose oral prednisolone had both a short-term and a longer sustained effect resulting in less knee pain , better physical function , and attenuation of systemic inflammation in older patients with knee OA ( ClinicalTrials.gov identifier NCT@ ) .\\n',\n",
              " '\\n',\n",
              " '###24854809\\n',\n",
              " 'BACKGROUND\\tEmotional eating is associated with overeating and the development of obesity .\\n',\n",
              " 'BACKGROUND\\tYet , empirical evidence for individual ( trait ) differences in emotional eating and cognitive mechanisms that contribute to eating during sad mood remain equivocal .\\n',\n",
              " 'OBJECTIVE\\tThe aim of this study was to test if attention bias for food moderates the effect of self-reported emotional eating during sad mood ( vs neutral mood ) on actual food intake .\\n',\n",
              " 'OBJECTIVE\\tIt was expected that emotional eating is predictive of elevated attention for food and higher food intake after an experimentally induced sad mood and that attentional maintenance on food predicts food intake during a sad versus a neutral mood .\\n',\n",
              " 'METHODS\\tParticipants ( N = @ ) were randomly assigned to one of the two experimental mood induction conditions ( sad/neutral ) .\\n']"
            ]
          },
          "execution_count": 7,
          "metadata": {},
          "output_type": "execute_result"
        }
      ],
      "source": [
        "train_lines = get_lines(data_dir + \"train.txt\")\n",
        "train_lines[:20]  # the whole first example of an abstract + a little more of the next one"
      ]
    },
    {
      "cell_type": "markdown",
      "id": "15dffdb4",
      "metadata": {},
      "source": [
        "Reading the lines from the training text file results in a list of strings containing different abstract samples, the sentences in a sample along with the role the sentence plays in the abstract.\n",
        "\n",
        "The role of each sentence is prefixed at the start of each line separated by a tab (`\\t`) and each sentence finishes with a new line (`\\n`).\n",
        "\n",
        "Different abstracts are separated by abstract ID's (lines beginning with `###`) and newlines (`\\n`).\n",
        "\n",
        "Knowing this, it looks like we've got a couple of steps to do to get our samples ready to pass as training data to our future machine learning model.\n",
        "\n",
        "Let's write a function to perform the following steps:\n",
        "* Take a target file of abstract samples.\n",
        "* Read the lines in the target file.\n",
        "* For each line in the target file:  \n",
        "  * If the line begins with `###` mark it as an abstract ID and the beginning of a new abstract.\n",
        "    * Keep count of the number of lines in a sample.\n",
        "  * If the line begins with `\\n` mark it as the end of an abstract sample.\n",
        "    * Keep count of the total lines in a sample.\n",
        "  * Record the text before the `\\t` as the label of the line.\n",
        "  * Record the text after the `\\t` as the text of the line.\n",
        "* Return all of the lines in the target text file as a list of dictionaries containing the key/value pairs:\n",
        "  * `\"line_number\"` - the position of the line in the abstract (e.g. `3`).\n",
        "  * `\"target\"` - the role of the line in the abstract (e.g. `OBJECTIVE`).\n",
        "  * `\"text\"` - the text of the line in the abstract.\n",
        "  * `\"total_lines\"` - the total lines in an abstract sample (e.g. `14`).\n",
        "* Abstract ID's and newlines should be omitted from the returned preprocessed data.\n",
        "\n",
        "Example returned preprocessed sample (a single line from an abstract):\n",
        "\n",
        "```\n",
        "[{'line_number': 0,\n",
        "  'target': 'OBJECTIVE',\n",
        "  'text': 'to investigate the efficacy of @ weeks of daily low-dose oral prednisolone in improving pain , mobility , and systemic low-grade inflammation in the short term and whether the effect would be sustained at @ weeks in older adults with moderate to severe knee osteoarthritis ( oa ) .',\n",
        "  'total_lines': 11},\n",
        "  ...]\n",
        "```"
      ]
    },
    {
      "cell_type": "code",
      "execution_count": 8,
      "id": "65c4ea2f",
      "metadata": {},
      "outputs": [],
      "source": [
        "def preprocess_text_with_line_numbers(filename):\n",
        "    \"\"\"Returns a list of dictionaries of abstract line data.\n",
        "\n",
        "  Takes in filename, reads its contents and sorts through each line,\n",
        "  extracting things like the target label, the text of the sentence,\n",
        "  how many sentences are in the current abstract and what sentence number\n",
        "  the target line is.\n",
        "\n",
        "  Args:\n",
        "      filename: a string of the target text file to read and extract line data\n",
        "      from.\n",
        "\n",
        "  Returns:\n",
        "      A list of dictionaries each containing a line from an abstract,\n",
        "      the lines label, the lines position in the abstract and the total number\n",
        "      of lines in the abstract where the line is from. For example:\n",
        "\n",
        "      [{\"target\": 'CONCLUSION',\n",
        "        \"text\": The study couldn't have gone better, turns out people are kinder than you think\",\n",
        "        \"line_number\": 8,\n",
        "        \"total_lines\": 8}]\n",
        "  \"\"\"\n",
        "    input_lines = get_lines(filename)  # get all lines from filename\n",
        "    abstract_lines = \"\"  # create an empty abstract\n",
        "    abstract_samples = []  # create an empty list of abstracts\n",
        "\n",
        "    # Loop through each line in target file\n",
        "    for line in input_lines:\n",
        "        if line.startswith(\"###\"):  # check to see if line is an ID line\n",
        "            abstract_id = line\n",
        "            abstract_lines = \"\"  # reset abstract string\n",
        "        elif line.isspace():  # check to see if line is a new line\n",
        "            abstract_line_split = abstract_lines.splitlines()  # split abstract into separate lines\n",
        "\n",
        "            # Iterate through each line in abstract and count them at the same time\n",
        "            for abstract_line_number, abstract_line in enumerate(abstract_line_split):\n",
        "                line_data = {}  # create empty dict to store data from line\n",
        "                target_text_split = abstract_line.split(\"\\t\")  # split target label from text\n",
        "                line_data[\"target\"] = target_text_split[0]  # get target label\n",
        "                line_data[\"text\"] = target_text_split[1].lower()  # get target text and lower it\n",
        "                line_data[\"line_number\"] = abstract_line_number  # what number line does the line appear in the abstract?\n",
        "                line_data[\"total_lines\"] = len(abstract_line_split) - 1  # how many total lines are in the abstract? (start from 0)\n",
        "                abstract_samples.append(line_data)  # add line data to abstract samples list\n",
        "\n",
        "        else:  # if the above conditions aren't fulfilled, the line contains a labelled sentence\n",
        "            abstract_lines += line\n",
        "\n",
        "    return abstract_samples"
      ]
    },
    {
      "cell_type": "code",
      "execution_count": 9,
      "id": "cf62efce",
      "metadata": {},
      "outputs": [
        {
          "name": "stdout",
          "output_type": "stream",
          "text": [
            "Time taken: 1.39 seconds\n"
          ]
        },
        {
          "data": {
            "text/plain": [
              "(180040, 30212, 30135)"
            ]
          },
          "execution_count": 9,
          "metadata": {},
          "output_type": "execute_result"
        }
      ],
      "source": [
        "import time\n",
        "\n",
        "# Get data from file and preprocess it\n",
        "# Get data from file and preprocess it\n",
        "start_time = time.time()\n",
        "\n",
        "train_samples = preprocess_text_with_line_numbers(data_dir + \"train.txt\")\n",
        "val_samples = preprocess_text_with_line_numbers(data_dir + \"dev.txt\")  # dev is another name for validation set\n",
        "test_samples = preprocess_text_with_line_numbers(data_dir + \"test.txt\")\n",
        "\n",
        "print(f\"Time taken: {time.time() - start_time:.2f} seconds\")\n",
        "len(train_samples), len(val_samples), len(test_samples)\n",
        "\n",
        "train_samples = preprocess_text_with_line_numbers(data_dir + \"train.txt\")\n",
        "val_samples = preprocess_text_with_line_numbers(data_dir + \"dev.txt\")  # dev is another name for validation set\n",
        "test_samples = preprocess_text_with_line_numbers(data_dir + \"test.txt\")\n",
        "len(train_samples), len(val_samples), len(test_samples)"
      ]
    },
    {
      "cell_type": "markdown",
      "id": "5a4e7128",
      "metadata": {},
      "source": [
        "How do our training samples look?"
      ]
    },
    {
      "cell_type": "code",
      "execution_count": 10,
      "id": "f980636d",
      "metadata": {},
      "outputs": [
        {
          "data": {
            "text/plain": [
              "[{'target': 'OBJECTIVE',\n",
              "  'text': 'to investigate the efficacy of @ weeks of daily low-dose oral prednisolone in improving pain , mobility , and systemic low-grade inflammation in the short term and whether the effect would be sustained at @ weeks in older adults with moderate to severe knee osteoarthritis ( oa ) .',\n",
              "  'line_number': 0,\n",
              "  'total_lines': 11},\n",
              " {'target': 'METHODS',\n",
              "  'text': 'a total of @ patients with primary knee oa were randomized @:@ ; @ received @ mg/day of prednisolone and @ received placebo for @ weeks .',\n",
              "  'line_number': 1,\n",
              "  'total_lines': 11},\n",
              " {'target': 'METHODS',\n",
              "  'text': 'outcome measures included pain reduction and improvement in function scores and systemic inflammation markers .',\n",
              "  'line_number': 2,\n",
              "  'total_lines': 11},\n",
              " {'target': 'METHODS',\n",
              "  'text': 'pain was assessed using the visual analog pain scale ( @-@ mm ) .',\n",
              "  'line_number': 3,\n",
              "  'total_lines': 11},\n",
              " {'target': 'METHODS',\n",
              "  'text': 'secondary outcome measures included the western ontario and mcmaster universities osteoarthritis index scores , patient global assessment ( pga ) of the severity of knee oa , and @-min walk distance ( @mwd ) .',\n",
              "  'line_number': 4,\n",
              "  'total_lines': 11},\n",
              " {'target': 'METHODS',\n",
              "  'text': 'serum levels of interleukin @ ( il-@ ) , il-@ , tumor necrosis factor ( tnf ) - , and high-sensitivity c-reactive protein ( hscrp ) were measured .',\n",
              "  'line_number': 5,\n",
              "  'total_lines': 11},\n",
              " {'target': 'RESULTS',\n",
              "  'text': 'there was a clinically relevant reduction in the intervention group compared to the placebo group for knee pain , physical function , pga , and @mwd at @ weeks .',\n",
              "  'line_number': 6,\n",
              "  'total_lines': 11},\n",
              " {'target': 'RESULTS',\n",
              "  'text': 'the mean difference between treatment arms ( @ % ci ) was @ ( @-@ @ ) , p < @ ; @ ( @-@ @ ) , p < @ ; @ ( @-@ @ ) , p < @ ; and @ ( @-@ @ ) , p < @ , respectively .',\n",
              "  'line_number': 7,\n",
              "  'total_lines': 11},\n",
              " {'target': 'RESULTS',\n",
              "  'text': 'further , there was a clinically relevant reduction in the serum levels of il-@ , il-@ , tnf - , and hscrp at @ weeks in the intervention group when compared to the placebo group .',\n",
              "  'line_number': 8,\n",
              "  'total_lines': 11},\n",
              " {'target': 'RESULTS',\n",
              "  'text': 'these differences remained significant at @ weeks .',\n",
              "  'line_number': 9,\n",
              "  'total_lines': 11},\n",
              " {'target': 'RESULTS',\n",
              "  'text': 'the outcome measures in rheumatology clinical trials-osteoarthritis research society international responder rate was @ % in the intervention group and @ % in the placebo group ( p < @ ) .',\n",
              "  'line_number': 10,\n",
              "  'total_lines': 11},\n",
              " {'target': 'CONCLUSIONS',\n",
              "  'text': 'low-dose oral prednisolone had both a short-term and a longer sustained effect resulting in less knee pain , better physical function , and attenuation of systemic inflammation in older patients with knee oa ( clinicaltrials.gov identifier nct@ ) .',\n",
              "  'line_number': 11,\n",
              "  'total_lines': 11},\n",
              " {'target': 'BACKGROUND',\n",
              "  'text': 'emotional eating is associated with overeating and the development of obesity .',\n",
              "  'line_number': 0,\n",
              "  'total_lines': 10},\n",
              " {'target': 'BACKGROUND',\n",
              "  'text': 'yet , empirical evidence for individual ( trait ) differences in emotional eating and cognitive mechanisms that contribute to eating during sad mood remain equivocal .',\n",
              "  'line_number': 1,\n",
              "  'total_lines': 10}]"
            ]
          },
          "execution_count": 10,
          "metadata": {},
          "output_type": "execute_result"
        }
      ],
      "source": [
        "# Check the first abstract of our training data\n",
        "train_samples[:14]"
      ]
    },
    {
      "cell_type": "markdown",
      "id": "ca666f0e",
      "metadata": {},
      "source": [
        "Fantastic! Looks like our `preprocess_text_with_line_numbers()` function worked great. \n",
        "\n",
        "How about we turn our list of dictionaries into pandas DataFrame's so we visualize them better?"
      ]
    },
    {
      "cell_type": "code",
      "execution_count": 11,
      "id": "cd865b9b",
      "metadata": {},
      "outputs": [
        {
          "data": {
            "text/html": [
              "<div>\n",
              "<style scoped>\n",
              "    .dataframe tbody tr th:only-of-type {\n",
              "        vertical-align: middle;\n",
              "    }\n",
              "\n",
              "    .dataframe tbody tr th {\n",
              "        vertical-align: top;\n",
              "    }\n",
              "\n",
              "    .dataframe thead th {\n",
              "        text-align: right;\n",
              "    }\n",
              "</style>\n",
              "<table border=\"1\" class=\"dataframe\">\n",
              "  <thead>\n",
              "    <tr style=\"text-align: right;\">\n",
              "      <th></th>\n",
              "      <th>target</th>\n",
              "      <th>text</th>\n",
              "      <th>line_number</th>\n",
              "      <th>total_lines</th>\n",
              "    </tr>\n",
              "  </thead>\n",
              "  <tbody>\n",
              "    <tr>\n",
              "      <th>0</th>\n",
              "      <td>OBJECTIVE</td>\n",
              "      <td>to investigate the efficacy of @ weeks of dail...</td>\n",
              "      <td>0</td>\n",
              "      <td>11</td>\n",
              "    </tr>\n",
              "    <tr>\n",
              "      <th>1</th>\n",
              "      <td>METHODS</td>\n",
              "      <td>a total of @ patients with primary knee oa wer...</td>\n",
              "      <td>1</td>\n",
              "      <td>11</td>\n",
              "    </tr>\n",
              "    <tr>\n",
              "      <th>2</th>\n",
              "      <td>METHODS</td>\n",
              "      <td>outcome measures included pain reduction and i...</td>\n",
              "      <td>2</td>\n",
              "      <td>11</td>\n",
              "    </tr>\n",
              "    <tr>\n",
              "      <th>3</th>\n",
              "      <td>METHODS</td>\n",
              "      <td>pain was assessed using the visual analog pain...</td>\n",
              "      <td>3</td>\n",
              "      <td>11</td>\n",
              "    </tr>\n",
              "    <tr>\n",
              "      <th>4</th>\n",
              "      <td>METHODS</td>\n",
              "      <td>secondary outcome measures included the wester...</td>\n",
              "      <td>4</td>\n",
              "      <td>11</td>\n",
              "    </tr>\n",
              "    <tr>\n",
              "      <th>5</th>\n",
              "      <td>METHODS</td>\n",
              "      <td>serum levels of interleukin @ ( il-@ ) , il-@ ...</td>\n",
              "      <td>5</td>\n",
              "      <td>11</td>\n",
              "    </tr>\n",
              "    <tr>\n",
              "      <th>6</th>\n",
              "      <td>RESULTS</td>\n",
              "      <td>there was a clinically relevant reduction in t...</td>\n",
              "      <td>6</td>\n",
              "      <td>11</td>\n",
              "    </tr>\n",
              "    <tr>\n",
              "      <th>7</th>\n",
              "      <td>RESULTS</td>\n",
              "      <td>the mean difference between treatment arms ( @...</td>\n",
              "      <td>7</td>\n",
              "      <td>11</td>\n",
              "    </tr>\n",
              "    <tr>\n",
              "      <th>8</th>\n",
              "      <td>RESULTS</td>\n",
              "      <td>further , there was a clinically relevant redu...</td>\n",
              "      <td>8</td>\n",
              "      <td>11</td>\n",
              "    </tr>\n",
              "    <tr>\n",
              "      <th>9</th>\n",
              "      <td>RESULTS</td>\n",
              "      <td>these differences remained significant at @ we...</td>\n",
              "      <td>9</td>\n",
              "      <td>11</td>\n",
              "    </tr>\n",
              "    <tr>\n",
              "      <th>10</th>\n",
              "      <td>RESULTS</td>\n",
              "      <td>the outcome measures in rheumatology clinical ...</td>\n",
              "      <td>10</td>\n",
              "      <td>11</td>\n",
              "    </tr>\n",
              "    <tr>\n",
              "      <th>11</th>\n",
              "      <td>CONCLUSIONS</td>\n",
              "      <td>low-dose oral prednisolone had both a short-te...</td>\n",
              "      <td>11</td>\n",
              "      <td>11</td>\n",
              "    </tr>\n",
              "    <tr>\n",
              "      <th>12</th>\n",
              "      <td>BACKGROUND</td>\n",
              "      <td>emotional eating is associated with overeating...</td>\n",
              "      <td>0</td>\n",
              "      <td>10</td>\n",
              "    </tr>\n",
              "    <tr>\n",
              "      <th>13</th>\n",
              "      <td>BACKGROUND</td>\n",
              "      <td>yet , empirical evidence for individual ( trai...</td>\n",
              "      <td>1</td>\n",
              "      <td>10</td>\n",
              "    </tr>\n",
              "  </tbody>\n",
              "</table>\n",
              "</div>"
            ],
            "text/plain": [
              "         target                                               text  \\\n",
              "0     OBJECTIVE  to investigate the efficacy of @ weeks of dail...   \n",
              "1       METHODS  a total of @ patients with primary knee oa wer...   \n",
              "2       METHODS  outcome measures included pain reduction and i...   \n",
              "3       METHODS  pain was assessed using the visual analog pain...   \n",
              "4       METHODS  secondary outcome measures included the wester...   \n",
              "5       METHODS  serum levels of interleukin @ ( il-@ ) , il-@ ...   \n",
              "6       RESULTS  there was a clinically relevant reduction in t...   \n",
              "7       RESULTS  the mean difference between treatment arms ( @...   \n",
              "8       RESULTS  further , there was a clinically relevant redu...   \n",
              "9       RESULTS  these differences remained significant at @ we...   \n",
              "10      RESULTS  the outcome measures in rheumatology clinical ...   \n",
              "11  CONCLUSIONS  low-dose oral prednisolone had both a short-te...   \n",
              "12   BACKGROUND  emotional eating is associated with overeating...   \n",
              "13   BACKGROUND  yet , empirical evidence for individual ( trai...   \n",
              "\n",
              "    line_number  total_lines  \n",
              "0             0           11  \n",
              "1             1           11  \n",
              "2             2           11  \n",
              "3             3           11  \n",
              "4             4           11  \n",
              "5             5           11  \n",
              "6             6           11  \n",
              "7             7           11  \n",
              "8             8           11  \n",
              "9             9           11  \n",
              "10           10           11  \n",
              "11           11           11  \n",
              "12            0           10  \n",
              "13            1           10  "
            ]
          },
          "execution_count": 11,
          "metadata": {},
          "output_type": "execute_result"
        }
      ],
      "source": [
        "import pandas as pd\n",
        "\n",
        "train_df = pd.DataFrame(train_samples)\n",
        "val_df = pd.DataFrame(val_samples)\n",
        "test_df = pd.DataFrame(test_samples)\n",
        "train_df.head(14)"
      ]
    },
    {
      "cell_type": "markdown",
      "id": "2473c5d0",
      "metadata": {},
      "source": [
        "Now our data is in DataFrame form, we can perform some data analysis on it. "
      ]
    },
    {
      "cell_type": "code",
      "execution_count": 12,
      "id": "b91fb0bf",
      "metadata": {},
      "outputs": [
        {
          "data": {
            "text/plain": [
              "target\n",
              "METHODS        59353\n",
              "RESULTS        57953\n",
              "CONCLUSIONS    27168\n",
              "BACKGROUND     21727\n",
              "OBJECTIVE      13839\n",
              "Name: count, dtype: int64"
            ]
          },
          "execution_count": 12,
          "metadata": {},
          "output_type": "execute_result"
        }
      ],
      "source": [
        "# Distribution of labels in training data\n",
        "train_df.target.value_counts()"
      ]
    },
    {
      "cell_type": "markdown",
      "id": "f7f9e901",
      "metadata": {},
      "source": [
        "Looks like sentences with the `OBJECTIVE` label are the least common.\n",
        "\n",
        "How about we check the distribution of our abstract lengths?"
      ]
    },
    {
      "cell_type": "code",
      "execution_count": 13,
      "id": "ec155a68",
      "metadata": {},
      "outputs": [
        {
          "data": {
            "image/png": "[encoded data removed]",
            "text/plain": [
              "<Figure size 640x480 with 1 Axes>"
            ]
          },
          "metadata": {},
          "output_type": "display_data"
        }
      ],
      "source": [
        "train_df.total_lines.plot.hist();"
      ]
    },
    {
      "cell_type": "markdown",
      "id": "a48bc2e3",
      "metadata": {},
      "source": [
        "Okay, looks like most of the abstracts are around 7 to 15 sentences in length.\n",
        "\n",
        "It's good to check these things out to make sure when we do train a model or test it on unseen samples, our results aren't outlandish."
      ]
    },
    {
      "cell_type": "markdown",
      "id": "52f355af",
      "metadata": {},
      "source": [
        "### Get lists of sentences\n",
        "\n",
        "When we build our deep learning model, one of its main inputs will be a list of strings (the lines of an abstract).\n",
        "\n",
        "We can get these easily from our DataFrames by calling the `tolist()` method on our `\"text\"` columns."
      ]
    },
    {
      "cell_type": "code",
      "execution_count": 14,
      "id": "255cefde",
      "metadata": {},
      "outputs": [
        {
          "data": {
            "text/plain": [
              "(180040, 30212, 30135)"
            ]
          },
          "execution_count": 14,
          "metadata": {},
          "output_type": "execute_result"
        }
      ],
      "source": [
        "# Convert abstract text lines into lists\n",
        "train_sentences = train_df[\"text\"].tolist()\n",
        "val_sentences = val_df[\"text\"].tolist()\n",
        "test_sentences = test_df[\"text\"].tolist()\n",
        "len(train_sentences), len(val_sentences), len(test_sentences)"
      ]
    },
    {
      "cell_type": "code",
      "execution_count": 15,
      "id": "b11d1431",
      "metadata": {},
      "outputs": [
        {
          "data": {
            "text/plain": [
              "['to investigate the efficacy of @ weeks of daily low-dose oral prednisolone in improving pain , mobility , and systemic low-grade inflammation in the short term and whether the effect would be sustained at @ weeks in older adults with moderate to severe knee osteoarthritis ( oa ) .',\n",
              " 'a total of @ patients with primary knee oa were randomized @:@ ; @ received @ mg/day of prednisolone and @ received placebo for @ weeks .',\n",
              " 'outcome measures included pain reduction and improvement in function scores and systemic inflammation markers .',\n",
              " 'pain was assessed using the visual analog pain scale ( @-@ mm ) .',\n",
              " 'secondary outcome measures included the western ontario and mcmaster universities osteoarthritis index scores , patient global assessment ( pga ) of the severity of knee oa , and @-min walk distance ( @mwd ) .',\n",
              " 'serum levels of interleukin @ ( il-@ ) , il-@ , tumor necrosis factor ( tnf ) - , and high-sensitivity c-reactive protein ( hscrp ) were measured .',\n",
              " 'there was a clinically relevant reduction in the intervention group compared to the placebo group for knee pain , physical function , pga , and @mwd at @ weeks .',\n",
              " 'the mean difference between treatment arms ( @ % ci ) was @ ( @-@ @ ) , p < @ ; @ ( @-@ @ ) , p < @ ; @ ( @-@ @ ) , p < @ ; and @ ( @-@ @ ) , p < @ , respectively .',\n",
              " 'further , there was a clinically relevant reduction in the serum levels of il-@ , il-@ , tnf - , and hscrp at @ weeks in the intervention group when compared to the placebo group .',\n",
              " 'these differences remained significant at @ weeks .']"
            ]
          },
          "execution_count": 15,
          "metadata": {},
          "output_type": "execute_result"
        }
      ],
      "source": [
        "# View first 10 lines of training sentences\n",
        "train_sentences[:10]"
      ]
    },
    {
      "cell_type": "markdown",
      "id": "145eb58a",
      "metadata": {},
      "source": [
        "Alright, we've separated our text samples. As you might've guessed, we'll have to write code to convert the text to numbers before we can use it with our machine learning models, we'll get to this soon."
      ]
    },
    {
      "cell_type": "markdown",
      "id": "c9a89fc8",
      "metadata": {},
      "source": [
        "## Make numeric labels (ML models require numeric labels)\n",
        "\n",
        "We're going to create one hot and label encoded labels.\n",
        "\n",
        "We could get away with just making label encoded labels, however, TensorFlow's CategoricalCrossentropy loss function likes to have one hot encoded labels (this will enable us to use label smoothing later on).\n",
        "\n",
        "To numerically encode labels we'll use Scikit-Learn's [`OneHotEncoder`](https://scikit-learn.org/stable/modules/generated/sklearn.preprocessing.OneHotEncoder.html) and [`LabelEncoder`](http://scikit-learn.org/stable/modules/generated/sklearn.preprocessing.LabelEncoder.html) classes."
      ]
    },
    {
      "cell_type": "code",
      "execution_count": 16,
      "id": "e8d16b8a",
      "metadata": {},
      "outputs": [
        {
          "data": {
            "text/plain": [
              "array([[0., 0., 0., 1., 0.],\n",
              "       [0., 0., 1., 0., 0.],\n",
              "       [0., 0., 1., 0., 0.],\n",
              "       ...,\n",
              "       [0., 0., 0., 0., 1.],\n",
              "       [0., 1., 0., 0., 0.],\n",
              "       [0., 1., 0., 0., 0.]])"
            ]
          },
          "execution_count": 16,
          "metadata": {},
          "output_type": "execute_result"
        }
      ],
      "source": [
        "# One hot encode labels\n",
        "from sklearn.preprocessing import OneHotEncoder\n",
        "\n",
        "one_hot_encoder = OneHotEncoder(sparse_output=False)\n",
        "train_labels_one_hot = one_hot_encoder.fit_transform(train_df[\"target\"].to_numpy().reshape(-1, 1))\n",
        "val_labels_one_hot = one_hot_encoder.transform(val_df[\"target\"].to_numpy().reshape(-1, 1))\n",
        "test_labels_one_hot = one_hot_encoder.transform(test_df[\"target\"].to_numpy().reshape(-1, 1))\n",
        "\n",
        "# Check what training labels look like\n",
        "train_labels_one_hot"
      ]
    },
    {
      "cell_type": "markdown",
      "id": "31f07381",
      "metadata": {},
      "source": [
        "### Label encode labels"
      ]
    },
    {
      "cell_type": "code",
      "execution_count": 17,
      "id": "bcb30e91",
      "metadata": {},
      "outputs": [
        {
          "data": {
            "text/plain": [
              "array([3, 2, 2, ..., 4, 1, 1])"
            ]
          },
          "execution_count": 17,
          "metadata": {},
          "output_type": "execute_result"
        }
      ],
      "source": [
        "# Extract labels (\"target\" columns) and encode them into integers\n",
        "from sklearn.preprocessing import LabelEncoder\n",
        "\n",
        "label_encoder = LabelEncoder()\n",
        "train_labels_encoded = label_encoder.fit_transform(train_df[\"target\"].to_numpy())\n",
        "val_labels_encoded = label_encoder.transform(val_df[\"target\"].to_numpy())\n",
        "test_labels_encoded = label_encoder.transform(test_df[\"target\"].to_numpy())\n",
        "\n",
        "# Check what training labels look like\n",
        "train_labels_encoded"
      ]
    },
    {
      "cell_type": "markdown",
      "id": "605fd219",
      "metadata": {},
      "source": [
        "Now we've trained an instance of `LabelEncoder`, we can get the class names and number of classes using the `classes_` attribute.\n"
      ]
    },
    {
      "cell_type": "code",
      "execution_count": 18,
      "id": "6a16bc51",
      "metadata": {},
      "outputs": [
        {
          "data": {
            "text/plain": [
              "(5,\n",
              " array(['BACKGROUND', 'CONCLUSIONS', 'METHODS', 'OBJECTIVE', 'RESULTS'],\n",
              "       dtype=object))"
            ]
          },
          "execution_count": 18,
          "metadata": {},
          "output_type": "execute_result"
        }
      ],
      "source": [
        "# Get class names and number of classes from LabelEncoder instance\n",
        "num_classes = len(label_encoder.classes_)\n",
        "class_names = label_encoder.classes_\n",
        "\n",
        "num_classes, class_names"
      ]
    },
    {
      "cell_type": "markdown",
      "id": "f5cebee2",
      "metadata": {},
      "source": [
        "## Creating a series of model experiments\n",
        "\n",
        "We've proprocessed our data so now, in true machine learning fashion, it's time to setup a series of modelling experiments.\n",
        "\n",
        "We'll start by creating a simple baseline model to obtain a score we'll try to beat by building more and more complex models as we move towards replicating the sequence model outlined in [*Neural networks for joint sentence\n",
        "classification in medical paper abstracts*](https://arxiv.org/pdf/1612.05251.pdf).\n",
        "\n",
        "For each model, we'll train it on the training data and evaluate it on the validation data."
      ]
    },
    {
      "cell_type": "markdown",
      "id": "b84b6cc2",
      "metadata": {},
      "source": [
        "## Model 0: Getting a baseline \n",
        "\n",
        "Our first model we'll be a TF-IDF Multinomial Naive Bayes as recommended by [Scikit-Learn's machine learning map](https://scikit-learn.org/stable/tutorial/machine_learning_map/index.html).\n",
        "\n",
        "To build it, we'll create a Scikit-Learn `Pipeline` which uses the [`TfidfVectorizer`](https://scikit-learn.org/stable/modules/generated/sklearn.feature_extraction.text.TfidfVectorizer.html) class to convert our abstract sentences to numbers using the TF-IDF (term frequency-inverse document frequecy) algorithm and then learns to classify our sentences using the [`MultinomialNB`](https://scikit-learn.org/stable/modules/generated/sklearn.naive_bayes.MultinomialNB.html) aglorithm."
      ]
    },
    {
      "cell_type": "code",
      "execution_count": 19,
      "id": "06cdf88b",
      "metadata": {},
      "outputs": [
        {
          "data": {
            "text/html": [
              "<style>#sk-container-id-1 {\n",
              "  /* Definition of color scheme common for light and dark mode */\n",
              "  --sklearn-color-text: black;\n",
              "  --sklearn-color-line: gray;\n",
              "  /* Definition of color scheme for unfitted estimators */\n",
              "  --sklearn-color-unfitted-level-0: #fff5e6;\n",
              "  --sklearn-color-unfitted-level-1: #f6e4d2;\n",
              "  --sklearn-color-unfitted-level-2: #ffe0b3;\n",
              "  --sklearn-color-unfitted-level-3: chocolate;\n",
              "  /* Definition of color scheme for fitted estimators */\n",
              "  --sklearn-color-fitted-level-0: #f0f8ff;\n",
              "  --sklearn-color-fitted-level-1: #d4ebff;\n",
              "  --sklearn-color-fitted-level-2: #b3dbfd;\n",
              "  --sklearn-color-fitted-level-3: cornflowerblue;\n",
              "\n",
              "  /* Specific color for light theme */\n",
              "  --sklearn-color-text-on-default-background: var(--sg-text-color, var(--theme-code-foreground, var(--jp-content-font-color1, black)));\n",
              "  --sklearn-color-background: var(--sg-background-color, var(--theme-background, var(--jp-layout-color0, white)));\n",
              "  --sklearn-color-border-box: var(--sg-text-color, var(--theme-code-foreground, var(--jp-content-font-color1, black)));\n",
              "  --sklearn-color-icon: #696969;\n",
              "\n",
              "  @media (prefers-color-scheme: dark) {\n",
              "    /* Redefinition of color scheme for dark theme */\n",
              "    --sklearn-color-text-on-default-background: var(--sg-text-color, var(--theme-code-foreground, var(--jp-content-font-color1, white)));\n",
              "    --sklearn-color-background: var(--sg-background-color, var(--theme-background, var(--jp-layout-color0, #111)));\n",
              "    --sklearn-color-border-box: var(--sg-text-color, var(--theme-code-foreground, var(--jp-content-font-color1, white)));\n",
              "    --sklearn-color-icon: #878787;\n",
              "  }\n",
              "}\n",
              "\n",
              "#sk-container-id-1 {\n",
              "  color: var(--sklearn-color-text);\n",
              "}\n",
              "\n",
              "#sk-container-id-1 pre {\n",
              "  padding: 0;\n",
              "}\n",
              "\n",
              "#sk-container-id-1 input.sk-hidden--visually {\n",
              "  border: 0;\n",
              "  clip: rect(1px 1px 1px 1px);\n",
              "  clip: rect(1px, 1px, 1px, 1px);\n",
              "  height: 1px;\n",
              "  margin: -1px;\n",
              "  overflow: hidden;\n",
              "  padding: 0;\n",
              "  position: absolute;\n",
              "  width: 1px;\n",
              "}\n",
              "\n",
              "#sk-container-id-1 div.sk-dashed-wrapped {\n",
              "  border: 1px dashed var(--sklearn-color-line);\n",
              "  margin: 0 0.4em 0.5em 0.4em;\n",
              "  box-sizing: border-box;\n",
              "  padding-bottom: 0.4em;\n",
              "  background-color: var(--sklearn-color-background);\n",
              "}\n",
              "\n",
              "#sk-container-id-1 div.sk-container {\n",
              "  /* jupyter's `normalize.less` sets `[hidden] { display: none; }`\n",
              "     but bootstrap.min.css set `[hidden] { display: none !important; }`\n",
              "     so we also need the `!important` here to be able to override the\n",
              "     default hidden behavior on the sphinx rendered scikit-learn.org.\n",
              "     See: https://github.com/scikit-learn/scikit-learn/issues/21755 */\n",
              "  display: inline-block !important;\n",
              "  position: relative;\n",
              "}\n",
              "\n",
              "#sk-container-id-1 div.sk-text-repr-fallback {\n",
              "  display: none;\n",
              "}\n",
              "\n",
              "div.sk-parallel-item,\n",
              "div.sk-serial,\n",
              "div.sk-item {\n",
              "  /* draw centered vertical line to link estimators */\n",
              "  background-image: linear-gradient(var(--sklearn-color-text-on-default-background), var(--sklearn-color-text-on-default-background));\n",
              "  background-size: 2px 100%;\n",
              "  background-repeat: no-repeat;\n",
              "  background-position: center center;\n",
              "}\n",
              "\n",
              "/* Parallel-specific style estimator block */\n",
              "\n",
              "#sk-container-id-1 div.sk-parallel-item::after {\n",
              "  content: \"\";\n",
              "  width: 100%;\n",
              "  border-bottom: 2px solid var(--sklearn-color-text-on-default-background);\n",
              "  flex-grow: 1;\n",
              "}\n",
              "\n",
              "#sk-container-id-1 div.sk-parallel {\n",
              "  display: flex;\n",
              "  align-items: stretch;\n",
              "  justify-content: center;\n",
              "  background-color: var(--sklearn-color-background);\n",
              "  position: relative;\n",
              "}\n",
              "\n",
              "#sk-container-id-1 div.sk-parallel-item {\n",
              "  display: flex;\n",
              "  flex-direction: column;\n",
              "}\n",
              "\n",
              "#sk-container-id-1 div.sk-parallel-item:first-child::after {\n",
              "  align-self: flex-end;\n",
              "  width: 50%;\n",
              "}\n",
              "\n",
              "#sk-container-id-1 div.sk-parallel-item:last-child::after {\n",
              "  align-self: flex-start;\n",
              "  width: 50%;\n",
              "}\n",
              "\n",
              "#sk-container-id-1 div.sk-parallel-item:only-child::after {\n",
              "  width: 0;\n",
              "}\n",
              "\n",
              "/* Serial-specific style estimator block */\n",
              "\n",
              "#sk-container-id-1 div.sk-serial {\n",
              "  display: flex;\n",
              "  flex-direction: column;\n",
              "  align-items: center;\n",
              "  background-color: var(--sklearn-color-background);\n",
              "  padding-right: 1em;\n",
              "  padding-left: 1em;\n",
              "}\n",
              "\n",
              "\n",
              "/* Toggleable style: style used for estimator/Pipeline/ColumnTransformer box that is\n",
              "clickable and can be expanded/collapsed.\n",
              "- Pipeline and ColumnTransformer use this feature and define the default style\n",
              "- Estimators will overwrite some part of the style using the `sk-estimator` class\n",
              "*/\n",
              "\n",
              "/* Pipeline and ColumnTransformer style (default) */\n",
              "\n",
              "#sk-container-id-1 div.sk-toggleable {\n",
              "  /* Default theme specific background. It is overwritten whether we have a\n",
              "  specific estimator or a Pipeline/ColumnTransformer */\n",
              "  background-color: var(--sklearn-color-background);\n",
              "}\n",
              "\n",
              "/* Toggleable label */\n",
              "#sk-container-id-1 label.sk-toggleable__label {\n",
              "  cursor: pointer;\n",
              "  display: block;\n",
              "  width: 100%;\n",
              "  margin-bottom: 0;\n",
              "  padding: 0.5em;\n",
              "  box-sizing: border-box;\n",
              "  text-align: center;\n",
              "}\n",
              "\n",
              "#sk-container-id-1 label.sk-toggleable__label-arrow:before {\n",
              "  /* Arrow on the left of the label */\n",
              "  content: \"▸\";\n",
              "  float: left;\n",
              "  margin-right: 0.25em;\n",
              "  color: var(--sklearn-color-icon);\n",
              "}\n",
              "\n",
              "#sk-container-id-1 label.sk-toggleable__label-arrow:hover:before {\n",
              "  color: var(--sklearn-color-text);\n",
              "}\n",
              "\n",
              "/* Toggleable content - dropdown */\n",
              "\n",
              "#sk-container-id-1 div.sk-toggleable__content {\n",
              "  max-height: 0;\n",
              "  max-width: 0;\n",
              "  overflow: hidden;\n",
              "  text-align: left;\n",
              "  /* unfitted */\n",
              "  background-color: var(--sklearn-color-unfitted-level-0);\n",
              "}\n",
              "\n",
              "#sk-container-id-1 div.sk-toggleable__content.fitted {\n",
              "  /* fitted */\n",
              "  background-color: var(--sklearn-color-fitted-level-0);\n",
              "}\n",
              "\n",
              "#sk-container-id-1 div.sk-toggleable__content pre {\n",
              "  margin: 0.2em;\n",
              "  border-radius: 0.25em;\n",
              "  color: var(--sklearn-color-text);\n",
              "  /* unfitted */\n",
              "  background-color: var(--sklearn-color-unfitted-level-0);\n",
              "}\n",
              "\n",
              "#sk-container-id-1 div.sk-toggleable__content.fitted pre {\n",
              "  /* unfitted */\n",
              "  background-color: var(--sklearn-color-fitted-level-0);\n",
              "}\n",
              "\n",
              "#sk-container-id-1 input.sk-toggleable__control:checked~div.sk-toggleable__content {\n",
              "  /* Expand drop-down */\n",
              "  max-height: 200px;\n",
              "  max-width: 100%;\n",
              "  overflow: auto;\n",
              "}\n",
              "\n",
              "#sk-container-id-1 input.sk-toggleable__control:checked~label.sk-toggleable__label-arrow:before {\n",
              "  content: \"▾\";\n",
              "}\n",
              "\n",
              "/* Pipeline/ColumnTransformer-specific style */\n",
              "\n",
              "#sk-container-id-1 div.sk-label input.sk-toggleable__control:checked~label.sk-toggleable__label {\n",
              "  color: var(--sklearn-color-text);\n",
              "  background-color: var(--sklearn-color-unfitted-level-2);\n",
              "}\n",
              "\n",
              "#sk-container-id-1 div.sk-label.fitted input.sk-toggleable__control:checked~label.sk-toggleable__label {\n",
              "  background-color: var(--sklearn-color-fitted-level-2);\n",
              "}\n",
              "\n",
              "/* Estimator-specific style */\n",
              "\n",
              "/* Colorize estimator box */\n",
              "#sk-container-id-1 div.sk-estimator input.sk-toggleable__control:checked~label.sk-toggleable__label {\n",
              "  /* unfitted */\n",
              "  background-color: var(--sklearn-color-unfitted-level-2);\n",
              "}\n",
              "\n",
              "#sk-container-id-1 div.sk-estimator.fitted input.sk-toggleable__control:checked~label.sk-toggleable__label {\n",
              "  /* fitted */\n",
              "  background-color: var(--sklearn-color-fitted-level-2);\n",
              "}\n",
              "\n",
              "#sk-container-id-1 div.sk-label label.sk-toggleable__label,\n",
              "#sk-container-id-1 div.sk-label label {\n",
              "  /* The background is the default theme color */\n",
              "  color: var(--sklearn-color-text-on-default-background);\n",
              "}\n",
              "\n",
              "/* On hover, darken the color of the background */\n",
              "#sk-container-id-1 div.sk-label:hover label.sk-toggleable__label {\n",
              "  color: var(--sklearn-color-text);\n",
              "  background-color: var(--sklearn-color-unfitted-level-2);\n",
              "}\n",
              "\n",
              "/* Label box, darken color on hover, fitted */\n",
              "#sk-container-id-1 div.sk-label.fitted:hover label.sk-toggleable__label.fitted {\n",
              "  color: var(--sklearn-color-text);\n",
              "  background-color: var(--sklearn-color-fitted-level-2);\n",
              "}\n",
              "\n",
              "/* Estimator label */\n",
              "\n",
              "#sk-container-id-1 div.sk-label label {\n",
              "  font-family: monospace;\n",
              "  font-weight: bold;\n",
              "  display: inline-block;\n",
              "  line-height: 1.2em;\n",
              "}\n",
              "\n",
              "#sk-container-id-1 div.sk-label-container {\n",
              "  text-align: center;\n",
              "}\n",
              "\n",
              "/* Estimator-specific */\n",
              "#sk-container-id-1 div.sk-estimator {\n",
              "  font-family: monospace;\n",
              "  border: 1px dotted var(--sklearn-color-border-box);\n",
              "  border-radius: 0.25em;\n",
              "  box-sizing: border-box;\n",
              "  margin-bottom: 0.5em;\n",
              "  /* unfitted */\n",
              "  background-color: var(--sklearn-color-unfitted-level-0);\n",
              "}\n",
              "\n",
              "#sk-container-id-1 div.sk-estimator.fitted {\n",
              "  /* fitted */\n",
              "  background-color: var(--sklearn-color-fitted-level-0);\n",
              "}\n",
              "\n",
              "/* on hover */\n",
              "#sk-container-id-1 div.sk-estimator:hover {\n",
              "  /* unfitted */\n",
              "  background-color: var(--sklearn-color-unfitted-level-2);\n",
              "}\n",
              "\n",
              "#sk-container-id-1 div.sk-estimator.fitted:hover {\n",
              "  /* fitted */\n",
              "  background-color: var(--sklearn-color-fitted-level-2);\n",
              "}\n",
              "\n",
              "/* Specification for estimator info (e.g. \"i\" and \"?\") */\n",
              "\n",
              "/* Common style for \"i\" and \"?\" */\n",
              "\n",
              ".sk-estimator-doc-link,\n",
              "a:link.sk-estimator-doc-link,\n",
              "a:visited.sk-estimator-doc-link {\n",
              "  float: right;\n",
              "  font-size: smaller;\n",
              "  line-height: 1em;\n",
              "  font-family: monospace;\n",
              "  background-color: var(--sklearn-color-background);\n",
              "  border-radius: 1em;\n",
              "  height: 1em;\n",
              "  width: 1em;\n",
              "  text-decoration: none !important;\n",
              "  margin-left: 1ex;\n",
              "  /* unfitted */\n",
              "  border: var(--sklearn-color-unfitted-level-1) 1pt solid;\n",
              "  color: var(--sklearn-color-unfitted-level-1);\n",
              "}\n",
              "\n",
              ".sk-estimator-doc-link.fitted,\n",
              "a:link.sk-estimator-doc-link.fitted,\n",
              "a:visited.sk-estimator-doc-link.fitted {\n",
              "  /* fitted */\n",
              "  border: var(--sklearn-color-fitted-level-1) 1pt solid;\n",
              "  color: var(--sklearn-color-fitted-level-1);\n",
              "}\n",
              "\n",
              "/* On hover */\n",
              "div.sk-estimator:hover .sk-estimator-doc-link:hover,\n",
              ".sk-estimator-doc-link:hover,\n",
              "div.sk-label-container:hover .sk-estimator-doc-link:hover,\n",
              ".sk-estimator-doc-link:hover {\n",
              "  /* unfitted */\n",
              "  background-color: var(--sklearn-color-unfitted-level-3);\n",
              "  color: var(--sklearn-color-background);\n",
              "  text-decoration: none;\n",
              "}\n",
              "\n",
              "div.sk-estimator.fitted:hover .sk-estimator-doc-link.fitted:hover,\n",
              ".sk-estimator-doc-link.fitted:hover,\n",
              "div.sk-label-container:hover .sk-estimator-doc-link.fitted:hover,\n",
              ".sk-estimator-doc-link.fitted:hover {\n",
              "  /* fitted */\n",
              "  background-color: var(--sklearn-color-fitted-level-3);\n",
              "  color: var(--sklearn-color-background);\n",
              "  text-decoration: none;\n",
              "}\n",
              "\n",
              "/* Span, style for the box shown on hovering the info icon */\n",
              ".sk-estimator-doc-link span {\n",
              "  display: none;\n",
              "  z-index: 9999;\n",
              "  position: relative;\n",
              "  font-weight: normal;\n",
              "  right: .2ex;\n",
              "  padding: .5ex;\n",
              "  margin: .5ex;\n",
              "  width: min-content;\n",
              "  min-width: 20ex;\n",
              "  max-width: 50ex;\n",
              "  color: var(--sklearn-color-text);\n",
              "  box-shadow: 2pt 2pt 4pt #999;\n",
              "  /* unfitted */\n",
              "  background: var(--sklearn-color-unfitted-level-0);\n",
              "  border: .5pt solid var(--sklearn-color-unfitted-level-3);\n",
              "}\n",
              "\n",
              ".sk-estimator-doc-link.fitted span {\n",
              "  /* fitted */\n",
              "  background: var(--sklearn-color-fitted-level-0);\n",
              "  border: var(--sklearn-color-fitted-level-3);\n",
              "}\n",
              "\n",
              ".sk-estimator-doc-link:hover span {\n",
              "  display: block;\n",
              "}\n",
              "\n",
              "/* \"?\"-specific style due to the `<a>` HTML tag */\n",
              "\n",
              "#sk-container-id-1 a.estimator_doc_link {\n",
              "  float: right;\n",
              "  font-size: 1rem;\n",
              "  line-height: 1em;\n",
              "  font-family: monospace;\n",
              "  background-color: var(--sklearn-color-background);\n",
              "  border-radius: 1rem;\n",
              "  height: 1rem;\n",
              "  width: 1rem;\n",
              "  text-decoration: none;\n",
              "  /* unfitted */\n",
              "  color: var(--sklearn-color-unfitted-level-1);\n",
              "  border: var(--sklearn-color-unfitted-level-1) 1pt solid;\n",
              "}\n",
              "\n",
              "#sk-container-id-1 a.estimator_doc_link.fitted {\n",
              "  /* fitted */\n",
              "  border: var(--sklearn-color-fitted-level-1) 1pt solid;\n",
              "  color: var(--sklearn-color-fitted-level-1);\n",
              "}\n",
              "\n",
              "/* On hover */\n",
              "#sk-container-id-1 a.estimator_doc_link:hover {\n",
              "  /* unfitted */\n",
              "  background-color: var(--sklearn-color-unfitted-level-3);\n",
              "  color: var(--sklearn-color-background);\n",
              "  text-decoration: none;\n",
              "}\n",
              "\n",
              "#sk-container-id-1 a.estimator_doc_link.fitted:hover {\n",
              "  /* fitted */\n",
              "  background-color: var(--sklearn-color-fitted-level-3);\n",
              "}\n",
              "</style><div id=\"sk-container-id-1\" class=\"sk-top-container\"><div class=\"sk-text-repr-fallback\"><pre>Pipeline(steps=[(&#x27;tf-idf&#x27;, TfidfVectorizer()), (&#x27;clf&#x27;, MultinomialNB())])</pre><b>In a Jupyter environment, please rerun this cell to show the HTML representation or trust the notebook. <br />On GitHub, the HTML representation is unable to render, please try loading this page with nbviewer.org.</b></div><div class=\"sk-container\" hidden><div class=\"sk-item sk-dashed-wrapped\"><div class=\"sk-label-container\"><div class=\"sk-label fitted sk-toggleable\"><input class=\"sk-toggleable__control sk-hidden--visually\" id=\"sk-estimator-id-1\" type=\"checkbox\" ><label for=\"sk-estimator-id-1\" class=\"sk-toggleable__label fitted sk-toggleable__label-arrow fitted\">&nbsp;&nbsp;Pipeline<a class=\"sk-estimator-doc-link fitted\" rel=\"noreferrer\" target=\"_blank\" href=\"https://scikit-learn.org/1.5/modules/generated/sklearn.pipeline.Pipeline.html\">?<span>Documentation for Pipeline</span></a><span class=\"sk-estimator-doc-link fitted\">i<span>Fitted</span></span></label><div class=\"sk-toggleable__content fitted\"><pre>Pipeline(steps=[(&#x27;tf-idf&#x27;, TfidfVectorizer()), (&#x27;clf&#x27;, MultinomialNB())])</pre></div> </div></div><div class=\"sk-serial\"><div class=\"sk-item\"><div class=\"sk-estimator fitted sk-toggleable\"><input class=\"sk-toggleable__control sk-hidden--visually\" id=\"sk-estimator-id-2\" type=\"checkbox\" ><label for=\"sk-estimator-id-2\" class=\"sk-toggleable__label fitted sk-toggleable__label-arrow fitted\">&nbsp;TfidfVectorizer<a class=\"sk-estimator-doc-link fitted\" rel=\"noreferrer\" target=\"_blank\" href=\"https://scikit-learn.org/1.5/modules/generated/sklearn.feature_extraction.text.TfidfVectorizer.html\">?<span>Documentation for TfidfVectorizer</span></a></label><div class=\"sk-toggleable__content fitted\"><pre>TfidfVectorizer()</pre></div> </div></div><div class=\"sk-item\"><div class=\"sk-estimator fitted sk-toggleable\"><input class=\"sk-toggleable__control sk-hidden--visually\" id=\"sk-estimator-id-3\" type=\"checkbox\" ><label for=\"sk-estimator-id-3\" class=\"sk-toggleable__label fitted sk-toggleable__label-arrow fitted\">&nbsp;MultinomialNB<a class=\"sk-estimator-doc-link fitted\" rel=\"noreferrer\" target=\"_blank\" href=\"https://scikit-learn.org/1.5/modules/generated/sklearn.naive_bayes.MultinomialNB.html\">?<span>Documentation for MultinomialNB</span></a></label><div class=\"sk-toggleable__content fitted\"><pre>MultinomialNB()</pre></div> </div></div></div></div></div></div>"
            ],
            "text/plain": [
              "Pipeline(steps=[('tf-idf', TfidfVectorizer()), ('clf', MultinomialNB())])"
            ]
          },
          "execution_count": 19,
          "metadata": {},
          "output_type": "execute_result"
        }
      ],
      "source": [
        "from sklearn.feature_extraction.text import TfidfVectorizer\n",
        "from sklearn.naive_bayes import MultinomialNB\n",
        "from sklearn.pipeline import Pipeline\n",
        "\n",
        "# Create a pipeline\n",
        "model_0 = Pipeline([(\"tf-idf\", TfidfVectorizer()), (\"clf\", MultinomialNB())])\n",
        "\n",
        "# Fit the pipeline to the training data\n",
        "model_0.fit(X=train_sentences, y=train_labels_encoded)"
      ]
    },
    {
      "cell_type": "markdown",
      "id": "b159ae15",
      "metadata": {},
      "source": [
        "Due to the speed of the Multinomial Naive Bayes algorithm, it trains very quickly.\n",
        "\n",
        "We can evaluate our model's accuracy on the validation dataset using the `score()` method."
      ]
    },
    {
      "cell_type": "code",
      "execution_count": 20,
      "id": "c860cb91",
      "metadata": {},
      "outputs": [
        {
          "data": {
            "text/plain": [
              "0.7218323844829869"
            ]
          },
          "execution_count": 20,
          "metadata": {},
          "output_type": "execute_result"
        }
      ],
      "source": [
        "# Evaluate baseline on validation dataset\n",
        "model_0.score(X=val_sentences, y=val_labels_encoded)"
      ]
    },
    {
      "cell_type": "markdown",
      "id": "c461df11",
      "metadata": {},
      "source": [
        "Nice! Looks like 72.1% accuracy will be the number to beat with our deeper models.\n",
        "\n",
        "Now let's make some predictions with our baseline model to further evaluate it."
      ]
    },
    {
      "cell_type": "code",
      "execution_count": 21,
      "id": "b2c11ac4",
      "metadata": {},
      "outputs": [
        {
          "data": {
            "text/plain": [
              "array([4, 1, 3, ..., 4, 4, 1])"
            ]
          },
          "execution_count": 21,
          "metadata": {},
          "output_type": "execute_result"
        }
      ],
      "source": [
        "# Make predictions\n",
        "baseline_preds = model_0.predict(val_sentences)\n",
        "baseline_preds"
      ]
    },
    {
      "cell_type": "markdown",
      "id": "abddb939",
      "metadata": {},
      "source": [
        "To evaluate our baseline's predictions, we'll import the `calculate_results()` function we created in the [previous notebook](https://github.com/mrdbourke/tensorflow-deep-learning/blob/main/08_introduction_to_nlp_in_tensorflow.ipynb) and added it to our [`helper_functions.py` script](https://github.com/mrdbourke/tensorflow-deep-learning/blob/main/extras/helper_functions.py) to compare them to the ground truth labels.\n",
        "\n",
        "More specificially the `calculate_results()` function will help us obtain the following:\n",
        "\n",
        "- Accuracy\n",
        "- Precision\n",
        "- Recall\n",
        "- F1-score\n"
      ]
    },
    {
      "cell_type": "markdown",
      "id": "b4c0fcfd",
      "metadata": {},
      "source": [
        "### Download helper functions script\n",
        "\n",
        "Let's get our `helper_functions.py` script we've been using to store helper functions we've created in previous notebooks."
      ]
    },
    {
      "cell_type": "code",
      "execution_count": 22,
      "id": "780dbe1d",
      "metadata": {},
      "outputs": [],
      "source": [
        "# Download helper functions script\n",
        "# !wget https://raw.githubusercontent.com/mrdbourke/tensorflow-deep-learning/main/extras/helper_functions.py"
      ]
    },
    {
      "cell_type": "markdown",
      "id": "aeb8ba18",
      "metadata": {},
      "source": [
        "Now we've got the helper functions script we can import the `caculate_results()` function and see how our baseline model went."
      ]
    },
    {
      "cell_type": "code",
      "execution_count": 23,
      "id": "90ef5017",
      "metadata": {},
      "outputs": [
        {
          "name": "stderr",
          "output_type": "stream",
          "text": [
            "2025-05-14 06:27:11.181183: I tensorflow/core/util/port.cc:153] oneDNN custom operations are on. You may see slightly different numerical results due to floating-point round-off errors from different computation orders. To turn them off, set the environment variable `TF_ENABLE_ONEDNN_OPTS=0`.\n",
            "2025-05-14 06:27:15.981037: E external/local_xla/xla/stream_executor/cuda/cuda_fft.cc:485] Unable to register cuFFT factory: Attempting to register factory for plugin cuFFT when one has already been registered\n",
            "2025-05-14 06:27:17.645237: E external/local_xla/xla/stream_executor/cuda/cuda_dnn.cc:8454] Unable to register cuDNN factory: Attempting to register factory for plugin cuDNN when one has already been registered\n",
            "2025-05-14 06:27:18.089575: E external/local_xla/xla/stream_executor/cuda/cuda_blas.cc:1452] Unable to register cuBLAS factory: Attempting to register factory for plugin cuBLAS when one has already been registered\n",
            "2025-05-14 06:27:21.333093: I tensorflow/core/platform/cpu_feature_guard.cc:210] This TensorFlow binary is optimized to use available CPU instructions in performance-critical operations.\n",
            "To enable the following instructions: AVX2 AVX512F AVX512_VNNI AVX512_BF16 AVX_VNNI FMA, in other operations, rebuild TensorFlow with the appropriate compiler flags.\n",
            "2025-05-14 06:27:43.711777: W tensorflow/compiler/tf2tensorrt/utils/py_utils.cc:38] TF-TRT Warning: Could not find TensorRT\n"
          ]
        },
        {
          "data": {
            "text/plain": [
              "{'accuracy': 72.1832384482987,\n",
              " 'precision': 0.7186466952323352,\n",
              " 'recall': 0.7218323844829869,\n",
              " 'f1': 0.6989250353450294}"
            ]
          },
          "execution_count": 23,
          "metadata": {},
          "output_type": "execute_result"
        }
      ],
      "source": [
        "# Import calculate_results helper function\n",
        "from helper_functions import calculate_results\n",
        "\n",
        "# Calculate baseline results\n",
        "baseline_results = calculate_results(y_true=val_labels_encoded, y_pred=baseline_preds)\n",
        "baseline_results"
      ]
    },
    {
      "cell_type": "markdown",
      "id": "cc233412",
      "metadata": {},
      "source": [
        "## Preparing our data for deep sequence models\n",
        "\n",
        "Excellent! We've got a working baseline to try and improve upon.\n",
        "\n",
        "But before we start building deeper models, we've got to create vectorization and embedding layers.\n",
        "\n",
        "The vectorization layer will convert our text to numbers and the embedding layer will capture the relationships between those numbers.\n",
        "\n",
        "To start creating our vectorization and embedding layers, we'll need to import the appropriate libraries (namely TensorFlow and NumPy)."
      ]
    },
    {
      "cell_type": "code",
      "execution_count": 24,
      "id": "6a2f1ce8",
      "metadata": {},
      "outputs": [],
      "source": [
        "import numpy as np\n",
        "import tensorflow as tf\n",
        "import tf_keras as keras\n",
        "from tf_keras import layers"
      ]
    },
    {
      "cell_type": "markdown",
      "id": "5de40712",
      "metadata": {},
      "source": [
        "Since we'll be turning our sentences into numbers, it's a good idea to figure out how many words are in each sentence.\n",
        "\n",
        "When our model goes through our sentences, it works best when they're all the same length (this is important for creating batches of the same size tensors).\n",
        "\n",
        "For example, if one sentence is eight words long and another is 29 words long, we want to pad the eight word sentence with zeros so it ends up being the same length as the 29 word sentence.\n",
        "\n",
        "Let's write some code to find the average length of sentences in the training set."
      ]
    },
    {
      "cell_type": "code",
      "execution_count": 25,
      "id": "d4a8de61",
      "metadata": {},
      "outputs": [
        {
          "data": {
            "text/plain": [
              "26.338269273494777"
            ]
          },
          "execution_count": 25,
          "metadata": {},
          "output_type": "execute_result"
        }
      ],
      "source": [
        "# How long is each sentence on average?\n",
        "sent_lens = [len(sentence.split()) for sentence in train_sentences]\n",
        "avg_sent_len = np.mean(sent_lens)\n",
        "avg_sent_len  # return average sentence length (in tokens)"
      ]
    },
    {
      "cell_type": "markdown",
      "id": "21c46e36",
      "metadata": {},
      "source": [
        "How about the distribution of sentence lengths?"
      ]
    },
    {
      "cell_type": "code",
      "execution_count": 26,
      "id": "e8b2577b",
      "metadata": {},
      "outputs": [
        {
          "data": {
            "text/plain": [
              "(array([1.5999e+05, 1.8760e+04, 1.1510e+03, 9.9000e+01, 2.8000e+01,\n",
              "        1.0000e+01, 2.0000e+00]),\n",
              " array([  1.        ,  43.14285714,  85.28571429, 127.42857143,\n",
              "        169.57142857, 211.71428571, 253.85714286, 296.        ]),\n",
              " <BarContainer object of 7 artists>)"
            ]
          },
          "execution_count": 26,
          "metadata": {},
          "output_type": "execute_result"
        },
        {
          "data": {
            "image/png": "[encoded data removed]",
            "text/plain": [
              "<Figure size 640x480 with 1 Axes>"
            ]
          },
          "metadata": {},
          "output_type": "display_data"
        }
      ],
      "source": [
        "# What's the distribution look like?\n",
        "import matplotlib.pyplot as plt\n",
        "\n",
        "plt.hist(sent_lens, bins=7)"
      ]
    },
    {
      "cell_type": "markdown",
      "id": "375c6f2d",
      "metadata": {},
      "source": [
        "Looks like the vast majority of sentences are between 0 and 50 tokens in length.\n",
        "\n",
        "We can use NumPy's [`percentile`](https://numpy.org/doc/stable/reference/generated/numpy.percentile.html) to find the value which covers 95% of the sentence lengths.\n"
      ]
    },
    {
      "cell_type": "code",
      "execution_count": 27,
      "id": "4b36322e",
      "metadata": {},
      "outputs": [
        {
          "data": {
            "text/plain": [
              "55"
            ]
          },
          "execution_count": 27,
          "metadata": {},
          "output_type": "execute_result"
        }
      ],
      "source": [
        "# How long of a sentence covers 95% of the lengths?\n",
        "output_seq_len = int(np.percentile(sent_lens, 95))\n",
        "output_seq_len"
      ]
    },
    {
      "cell_type": "markdown",
      "id": "9e187751",
      "metadata": {},
      "source": [
        "Wonderful! It looks like 95% of the sentences in our training set have a length of 55 tokens or less.\n",
        "\n",
        "When we create our tokenization layer, we'll use this value to turn all of our sentences into the same length. Meaning sentences with a length below 55 get padded with zeros and sentences with a length above 55 get truncated (words after 55 get cut off).\n",
        "\n",
        "> 🤔 **Question:** Why 95%?\n",
        "\n",
        "We could use the max sentence length of the sentences in the training set.\n"
      ]
    },
    {
      "cell_type": "code",
      "execution_count": 28,
      "id": "48f24e6d",
      "metadata": {},
      "outputs": [
        {
          "data": {
            "text/plain": [
              "296"
            ]
          },
          "execution_count": 28,
          "metadata": {},
          "output_type": "execute_result"
        }
      ],
      "source": [
        "# Maximum sentence length in the training set\n",
        "max(sent_lens)"
      ]
    },
    {
      "cell_type": "markdown",
      "id": "08c13454",
      "metadata": {},
      "source": [
        "However, since hardly any sentences even come close to the max length, it would mean the majority of the data we pass to our model would be zeros (sinces all sentences below the max length would get padded with zeros).\n",
        "\n",
        "> 🔑 **Note:** The steps we've gone through are good practice when working with a text corpus for a NLP problem. You want to know how long your samples are and what the distribution of them is. See section 4 Data Analysis of the [PubMed 200k RCT paper](https://arxiv.org/pdf/1710.06071.pdf) for further examples."
      ]
    },
    {
      "cell_type": "markdown",
      "id": "3a1fd503",
      "metadata": {},
      "source": [
        "### Create text vectorizer\n",
        "\n",
        "Now we've got a little more information about our texts, let's create a way to turn it into numbers.\n",
        "\n",
        "To do so, we'll use the [`TextVectorization`](https://www.tensorflow.org/api_docs/python/tf/keras/layers/experimental/preprocessing/TextVectorization) layer from TensorFlow.\n",
        "\n",
        "We'll keep all the parameters default except for `max_tokens` (the number of unique words in our dataset) and `output_sequence_length` (our desired output length for each vectorized sentence).\n",
        "\n",
        "Section 3.2 of the [PubMed 200k RCT paper](https://arxiv.org/pdf/1710.06071.pdf) states the vocabulary size of the PubMed 20k dataset as 68,000. So we'll use that as our `max_tokens` parameter."
      ]
    },
    {
      "cell_type": "code",
      "execution_count": 29,
      "id": "aefcbaf8",
      "metadata": {},
      "outputs": [],
      "source": [
        "# How many words are in our vocabulary? (taken from 3.2 in https://arxiv.org/pdf/1710.06071.pdf)\n",
        "max_tokens = 68000"
      ]
    },
    {
      "cell_type": "markdown",
      "id": "a91a1104",
      "metadata": {},
      "source": [
        "And since discovered a sentence length of 55 covers 95% of the training sentences, we'll use that as our `output_sequence_length` parameter."
      ]
    },
    {
      "cell_type": "code",
      "execution_count": 30,
      "id": "949a1498",
      "metadata": {},
      "outputs": [
        {
          "name": "stderr",
          "output_type": "stream",
          "text": [
            "WARNING: All log messages before absl::InitializeLog() is called are written to STDERR\n",
            "I0000 00:00:1747175300.383913    2143 cuda_executor.cc:1001] could not open file to read NUMA node: /sys/bus/pci/devices/0000:65:00.0/numa_node\n",
            "Your kernel may have been built without NUMA support.\n",
            "I0000 00:00:1747175304.802155    2143 cuda_executor.cc:1001] could not open file to read NUMA node: /sys/bus/pci/devices/0000:65:00.0/numa_node\n",
            "Your kernel may have been built without NUMA support.\n",
            "I0000 00:00:1747175304.802224    2143 cuda_executor.cc:1001] could not open file to read NUMA node: /sys/bus/pci/devices/0000:65:00.0/numa_node\n",
            "Your kernel may have been built without NUMA support.\n",
            "I0000 00:00:1747175304.818204    2143 cuda_executor.cc:1001] could not open file to read NUMA node: /sys/bus/pci/devices/0000:65:00.0/numa_node\n",
            "Your kernel may have been built without NUMA support.\n",
            "I0000 00:00:1747175304.818261    2143 cuda_executor.cc:1001] could not open file to read NUMA node: /sys/bus/pci/devices/0000:65:00.0/numa_node\n",
            "Your kernel may have been built without NUMA support.\n",
            "I0000 00:00:1747175304.818278    2143 cuda_executor.cc:1001] could not open file to read NUMA node: /sys/bus/pci/devices/0000:65:00.0/numa_node\n",
            "Your kernel may have been built without NUMA support.\n",
            "I0000 00:00:1747175305.075868    2143 cuda_executor.cc:1001] could not open file to read NUMA node: /sys/bus/pci/devices/0000:65:00.0/numa_node\n",
            "Your kernel may have been built without NUMA support.\n",
            "I0000 00:00:1747175305.075943    2143 cuda_executor.cc:1001] could not open file to read NUMA node: /sys/bus/pci/devices/0000:65:00.0/numa_node\n",
            "Your kernel may have been built without NUMA support.\n",
            "2025-05-14 06:28:25.075955: I tensorflow/core/common_runtime/gpu/gpu_device.cc:2112] Could not identify NUMA node of platform GPU id 0, defaulting to 0.  Your kernel may not have been built with NUMA support.\n",
            "I0000 00:00:1747175305.076005    2143 cuda_executor.cc:1001] could not open file to read NUMA node: /sys/bus/pci/devices/0000:65:00.0/numa_node\n",
            "Your kernel may have been built without NUMA support.\n",
            "2025-05-14 06:28:25.084829: I tensorflow/core/common_runtime/gpu/gpu_device.cc:2021] Created device /job:localhost/replica:0/task:0/device:GPU:0 with 5520 MB memory:  -> device: 0, name: NVIDIA GeForce RTX 4070 Laptop GPU, pci bus id: 0000:65:00.0, compute capability: 8.9\n"
          ]
        }
      ],
      "source": [
        "# Create text vectorizer\n",
        "\n",
        "from tf_keras.layers import TextVectorization\n",
        "\n",
        "text_vectorizer = TextVectorization(\n",
        "    max_tokens=max_tokens,  # number of words in vocabulary\n",
        "    output_sequence_length=55)  # desired output length of vectorized sequences"
      ]
    },
    {
      "cell_type": "markdown",
      "id": "16d0333e",
      "metadata": {},
      "source": [
        "Great! Looks like our `text_vectorizer` is ready, let's adapt it to the training data (let it read the training data and figure out what number should represent what word) and then test it out. "
      ]
    },
    {
      "cell_type": "code",
      "execution_count": 31,
      "id": "f5c1aca9",
      "metadata": {},
      "outputs": [],
      "source": [
        "# Adapt text vectorizer to training sentences\n",
        "text_vectorizer.adapt(train_sentences)"
      ]
    },
    {
      "cell_type": "code",
      "execution_count": 32,
      "id": "db18e569",
      "metadata": {},
      "outputs": [
        {
          "name": "stdout",
          "output_type": "stream",
          "text": [
            "Text:\n",
            "the primary outcome was compression depth .\n",
            "\n",
            "Length of text: 7\n",
            "\n",
            "Vectorized text:\n",
            "[[   2   56   86   10 1849 1920    0    0    0    0    0    0    0    0\n",
            "     0    0    0    0    0    0    0    0    0    0    0    0    0    0\n",
            "     0    0    0    0    0    0    0    0    0    0    0    0    0    0\n",
            "     0    0    0    0    0    0    0    0    0    0    0    0    0]]\n"
          ]
        }
      ],
      "source": [
        "# Test out text vectorizer\n",
        "import random\n",
        "\n",
        "target_sentence = random.choice(train_sentences)\n",
        "print(f\"Text:\\n{target_sentence}\")\n",
        "print(f\"\\nLength of text: {len(target_sentence.split())}\")\n",
        "print(f\"\\nVectorized text:\\n{text_vectorizer([target_sentence])}\")"
      ]
    },
    {
      "cell_type": "markdown",
      "id": "03b1b2fc",
      "metadata": {},
      "source": [
        "Cool, we've now got a way to turn our sequences into numbers.\n",
        "\n",
        "> 🛠 **Exercise:** Try running the cell above a dozen or so times. What do you notice about sequences with a length less than 55?\n",
        "\n",
        "Using the [`get_vocabulary()`](https://www.tensorflow.org/api_docs/python/tf/keras/layers/experimental/preprocessing/TextVectorization) method of our `text_vectorizer` we can find out a few different tidbits about our text."
      ]
    },
    {
      "cell_type": "code",
      "execution_count": 33,
      "id": "8dde1c25",
      "metadata": {},
      "outputs": [
        {
          "name": "stdout",
          "output_type": "stream",
          "text": [
            "Number of words in vocabulary: 64841\n",
            "Most common words in the vocabulary: ['', '[UNK]', 'the', 'and', 'of']\n",
            "Least common words in the vocabulary: ['aainduced', 'aaigroup', 'aachener', 'aachen', 'aaacp']\n"
          ]
        }
      ],
      "source": [
        "# How many words in our training vocabulary?\n",
        "rct_20k_text_vocab = text_vectorizer.get_vocabulary()\n",
        "\n",
        "print(f\"Number of words in vocabulary: {len(rct_20k_text_vocab)}\"),\n",
        "print(f\"Most common words in the vocabulary: {rct_20k_text_vocab[:5]}\")\n",
        "print(f\"Least common words in the vocabulary: {rct_20k_text_vocab[-5:]}\")"
      ]
    },
    {
      "cell_type": "markdown",
      "id": "288c7c40",
      "metadata": {},
      "source": [
        "And if we wanted to figure out the configuration of our `text_vectorizer` we can use the `get_config()` method."
      ]
    },
    {
      "cell_type": "code",
      "execution_count": 34,
      "id": "a76200e1",
      "metadata": {},
      "outputs": [
        {
          "data": {
            "text/plain": [
              "{'name': 'text_vectorization',\n",
              " 'trainable': True,\n",
              " 'dtype': 'string',\n",
              " 'batch_input_shape': (None,),\n",
              " 'max_tokens': 68000,\n",
              " 'standardize': 'lower_and_strip_punctuation',\n",
              " 'split': 'whitespace',\n",
              " 'ngrams': None,\n",
              " 'output_mode': 'int',\n",
              " 'output_sequence_length': 55,\n",
              " 'pad_to_max_tokens': False,\n",
              " 'sparse': False,\n",
              " 'ragged': False,\n",
              " 'vocabulary': None,\n",
              " 'idf_weights': None,\n",
              " 'encoding': 'utf-8',\n",
              " 'vocabulary_size': 64841}"
            ]
          },
          "execution_count": 34,
          "metadata": {},
          "output_type": "execute_result"
        }
      ],
      "source": [
        "# Get the config of our text vectorizer\n",
        "text_vectorizer.get_config()"
      ]
    },
    {
      "cell_type": "markdown",
      "id": "6b9380b8",
      "metadata": {},
      "source": [
        "### Create custom text embedding\n",
        "\n",
        "Our `token_vectorization` layer maps the words in our text directly to numbers. However, this doesn't necessarily capture the relationships between those numbers.\n",
        "\n",
        "To create a richer numerical representation of our text, we can use an **embedding**.\n",
        "\n",
        "As our model learns (by going through many different examples of abstract sentences and their labels), it'll update its embedding to better represent the relationships between tokens in our corpus.\n",
        "\n",
        "We can create a trainable embedding layer using TensorFlow's [`Embedding`](https://www.tensorflow.org/tutorials/text/word_embeddings) layer.\n",
        "\n",
        "Once again, the main parameters we're concerned with here are the inputs and outputs of our `Embedding` layer.\n",
        "\n",
        "The `input_dim` parameter defines the size of our vocabulary. And the `output_dim` parameter defines the dimension of the embedding output.\n",
        "\n",
        "Once created, our embedding layer will take the integer outputs of our `text_vectorization` layer as inputs and convert them to feature vectors of size `output_dim`.\n",
        "\n",
        "Let's see it in action."
      ]
    },
    {
      "cell_type": "code",
      "execution_count": 35,
      "id": "44430c7a",
      "metadata": {},
      "outputs": [
        {
          "name": "stdout",
          "output_type": "stream",
          "text": [
            "Sentence before vectorization:\n",
            "the primary outcome was compression depth .\n",
            "\n",
            "Sentence after vectorization (before embedding):\n",
            "[[   2   56   86   10 1849 1920    0    0    0    0    0    0    0    0\n",
            "     0    0    0    0    0    0    0    0    0    0    0    0    0    0\n",
            "     0    0    0    0    0    0    0    0    0    0    0    0    0    0\n",
            "     0    0    0    0    0    0    0    0    0    0    0    0    0]]\n",
            "\n",
            "Sentence after embedding:\n",
            "[[[-0.02492513  0.04077638  0.01407755 ...  0.04819027  0.02710548\n",
            "   -0.00281036]\n",
            "  [ 0.00325032 -0.04062959 -0.0367354  ...  0.03026584  0.01771405\n",
            "    0.0054931 ]\n",
            "  [-0.02518984  0.03641238 -0.03238466 ...  0.01665373  0.02361866\n",
            "    0.02388639]\n",
            "  ...\n",
            "  [-0.02354738  0.01034993  0.04462892 ... -0.04648807  0.00263684\n",
            "    0.03980311]\n",
            "  [-0.02354738  0.01034993  0.04462892 ... -0.04648807  0.00263684\n",
            "    0.03980311]\n",
            "  [-0.02354738  0.01034993  0.04462892 ... -0.04648807  0.00263684\n",
            "    0.03980311]]]\n",
            "\n",
            "Embedded sentence shape: (1, 55, 128)\n"
          ]
        }
      ],
      "source": [
        "# Create token embedding layer\n",
        "token_embed = layers.Embedding(\n",
        "    input_dim=len(rct_20k_text_vocab),  # length of vocabulary\n",
        "    output_dim=128,  # Note: different embedding sizes result in drastically different numbers of parameters to train\n",
        "    # Use masking to handle variable sequence lengths (save space)\n",
        "    mask_zero=True,\n",
        "    name=\"token_embedding\")\n",
        "\n",
        "# Show example embedding\n",
        "print(f\"Sentence before vectorization:\\n{target_sentence}\\n\")\n",
        "\n",
        "vectorized_sentence = text_vectorizer([target_sentence])\n",
        "print(f\"Sentence after vectorization (before embedding):\\n{vectorized_sentence}\\n\")\n",
        "\n",
        "embedded_sentence = token_embed(vectorized_sentence)\n",
        "print(f\"Sentence after embedding:\\n{embedded_sentence}\\n\")\n",
        "print(f\"Embedded sentence shape: {embedded_sentence.shape}\")"
      ]
    },
    {
      "cell_type": "markdown",
      "id": "a80276cd",
      "metadata": {},
      "source": [
        "## Create datasets\n",
        "\n",
        "We've gone through all the trouble of preprocessing our datasets to be used with a machine learning model, however, there are still a few steps we can use to make them work faster with our models.\n",
        "\n",
        "Namely, the `tf.data` API provides methods which enable faster data loading.\n",
        "\n",
        "> 📖 **Resource:** For best practices on data loading in TensorFlow, check out the following:\n",
        "* [tf.data: Build TensorFlow input pipelines](https://www.tensorflow.org/guide/data)\n",
        "* [Better performance with the tf.data API](https://www.tensorflow.org/guide/data_performance)\n",
        "\n",
        "The main steps we'll want to use with our data is to turn it into a `PrefetchDataset` of batches.\n",
        "\n",
        "Doing so we'll ensure TensorFlow loads our data onto the GPU as fast as possible, in turn leading to faster training time.\n",
        "\n",
        "To create a batched `PrefetchDataset` we can use the methods [`batch()`](https://www.tensorflow.org/api_docs/python/tf/data/Dataset#batch) and [`prefetch()`](https://www.tensorflow.org/api_docs/python/tf/data/Dataset#prefetch), the parameter [`tf.data.AUTOTUNE`](https://www.tensorflow.org/api_docs/python/tf/data#AUTOTUNE) will also allow TensorFlow to determine the optimal amount of compute to use to prepare datasets."
      ]
    },
    {
      "cell_type": "code",
      "execution_count": 36,
      "id": "f7471e93",
      "metadata": {},
      "outputs": [
        {
          "data": {
            "text/plain": [
              "<_TensorSliceDataset element_spec=(TensorSpec(shape=(), dtype=tf.string, name=None), TensorSpec(shape=(5,), dtype=tf.float64, name=None))>"
            ]
          },
          "execution_count": 36,
          "metadata": {},
          "output_type": "execute_result"
        }
      ],
      "source": [
        "# Turn our data into TensorFlow Datasets\n",
        "train_dataset = tf.data.Dataset.from_tensor_slices((train_sentences, train_labels_one_hot))\n",
        "valid_dataset = tf.data.Dataset.from_tensor_slices((val_sentences, val_labels_one_hot))\n",
        "test_dataset = tf.data.Dataset.from_tensor_slices((test_sentences, test_labels_one_hot))\n",
        "\n",
        "train_dataset"
      ]
    },
    {
      "cell_type": "code",
      "execution_count": 37,
      "id": "e5e82b3c",
      "metadata": {},
      "outputs": [
        {
          "data": {
            "text/plain": [
              "<_PrefetchDataset element_spec=(TensorSpec(shape=(None,), dtype=tf.string, name=None), TensorSpec(shape=(None, 5), dtype=tf.float64, name=None))>"
            ]
          },
          "execution_count": 37,
          "metadata": {},
          "output_type": "execute_result"
        }
      ],
      "source": [
        "# Take the TensorSliceDataset's and turn them into prefetched batches\n",
        "train_dataset = train_dataset.batch(32).prefetch(tf.data.AUTOTUNE)\n",
        "valid_dataset = valid_dataset.batch(32).prefetch(tf.data.AUTOTUNE)\n",
        "test_dataset = test_dataset.batch(32).prefetch(tf.data.AUTOTUNE)\n",
        "\n",
        "train_dataset"
      ]
    },
    {
      "cell_type": "markdown",
      "id": "362ef722",
      "metadata": {},
      "source": [
        "## Model 1: Conv1D with token embeddings\n",
        "\n",
        "Alright, we've now got a way to numerically represent our text and labels, time to build a series of deep models to try and improve upon our baseline.\n",
        "\n",
        "All of our deep models will follow a similar structure:\n",
        "\n",
        "```\n",
        "Input (text) -> Tokenize -> Embedding -> Layers -> Output (label probability)\n",
        "```\n",
        "\n",
        "The main component we'll be changing throughout is the `Layers` component. Because any modern deep NLP model requires text to be converted into an embedding before meaningful patterns can be discovered within.\n",
        "\n",
        "The first model we're going to build is a 1-dimensional Convolutional Neural Network. \n",
        "\n",
        "We're also going to be following the standard machine learning workflow of:\n",
        "- Build model\n",
        "- Train model\n",
        "- Evaluate model (make predictions and compare to ground truth)\n"
      ]
    },
    {
      "cell_type": "code",
      "execution_count": 38,
      "id": "3bae5ccb",
      "metadata": {},
      "outputs": [],
      "source": [
        "# Create 1D convolutional model to process sequences\n",
        "inputs = layers.Input(shape=(1,), dtype=tf.string)\n",
        "text_vectors = text_vectorizer(inputs)  # vectorize text inputs\n",
        "token_embeddings = token_embed(text_vectors)  # create embedding\n",
        "x = layers.Conv1D(64, kernel_size=5, padding=\"same\", activation=\"relu\")(token_embeddings)\n",
        "x = layers.GlobalAveragePooling1D()(x)  # condense the output of our feature vector\n",
        "outputs = layers.Dense(num_classes, activation=\"softmax\")(x)\n",
        "model_1 = keras.Model(inputs, outputs)\n",
        "\n",
        "# Compile\n",
        "model_1.compile(\n",
        "    loss=\"categorical_crossentropy\",  # if your labels are integer form (not one hot) use sparse_categorical_crossentropy\n",
        "    optimizer=keras.optimizers.Adam(),\n",
        "    metrics=[\"accuracy\"])"
      ]
    },
    {
      "cell_type": "code",
      "execution_count": 39,
      "id": "e92567b7",
      "metadata": {},
      "outputs": [
        {
          "name": "stdout",
          "output_type": "stream",
          "text": [
            "Model: \"model\"\n",
            "_________________________________________________________________\n",
            " Layer (type)                Output Shape              Param #   \n",
            "=================================================================\n",
            " input_1 (InputLayer)        [(None, 1)]               0         \n",
            "                                                                 \n",
            " text_vectorization (TextVe  (None, 55)                0         \n",
            " ctorization)                                                    \n",
            "                                                                 \n",
            " token_embedding (Embedding  (None, 55, 128)           8299648   \n",
            " )                                                               \n",
            "                                                                 \n",
            " conv1d (Conv1D)             (None, 55, 64)            41024     \n",
            "                                                                 \n",
            " global_average_pooling1d (  (None, 64)                0         \n",
            " GlobalAveragePooling1D)                                         \n",
            "                                                                 \n",
            " dense (Dense)               (None, 5)                 325       \n",
            "                                                                 \n",
            "=================================================================\n",
            "Total params: 8340997 (31.82 MB)\n",
            "Trainable params: 8340997 (31.82 MB)\n",
            "Non-trainable params: 0 (0.00 Byte)\n",
            "_________________________________________________________________\n"
          ]
        }
      ],
      "source": [
        "# Get summary of Conv1D model\n",
        "model_1.summary()"
      ]
    },
    {
      "cell_type": "markdown",
      "id": "fbc58760",
      "metadata": {},
      "source": [
        "Wonderful! We've got our first deep sequence model built and ready to go. \n",
        "\n",
        "Checking out the model summary, you'll notice the majority of the trainable parameters are within the embedding layer. If we were to increase the size of the embedding (by increasing the `output_dim` parameter of the `Embedding` layer), the number of trainable parameters would increase dramatically.\n",
        "\n",
        "It's time to fit our model to the training data but we're going to make a mindful change.\n",
        "\n",
        "Since our training data contains nearly 200,000 sentences, fitting a deep model may take a while even with a GPU. So to keep our experiments swift, we're going to run them on a subset of the training dataset.\n",
        "\n",
        "More specifically, we'll only use the first 10% of batches (about 18,000 samples) of the training set to train on and the first 10% of batches from the validation set to validate on.\n",
        "\n",
        "> 🔑 **Note:** It's a standard practice in machine learning to test your models on smaller subsets of data first to make sure they work before scaling them to larger amounts of data. You should aim to run many smaller experiments rather than only a handful of large experiments. And since your time is limited, one of the best ways to run smaller experiments is to reduce the amount of data you're working with (10% of the full dataset is usually a good amount, as long as it covers a similar distribution)."
      ]
    },
    {
      "cell_type": "code",
      "execution_count": 40,
      "id": "b138ebda",
      "metadata": {},
      "outputs": [
        {
          "name": "stdout",
          "output_type": "stream",
          "text": [
            "Epoch 1/3\n"
          ]
        },
        {
          "name": "stderr",
          "output_type": "stream",
          "text": [
            "2025-05-14 06:28:41.593870: I external/local_xla/xla/stream_executor/cuda/cuda_dnn.cc:531] Loaded cuDNN version 8907\n",
            "W0000 00:00:1747175324.747461    8791 gpu_timer.cc:114] Skipping the delay kernel, measurement accuracy will be reduced\n",
            "W0000 00:00:1747175324.911299    8791 gpu_timer.cc:114] Skipping the delay kernel, measurement accuracy will be reduced\n",
            "W0000 00:00:1747175324.954441    8791 gpu_timer.cc:114] Skipping the delay kernel, measurement accuracy will be reduced\n",
            "W0000 00:00:1747175324.996175    8791 gpu_timer.cc:114] Skipping the delay kernel, measurement accuracy will be reduced\n",
            "W0000 00:00:1747175325.106568    8791 gpu_timer.cc:114] Skipping the delay kernel, measurement accuracy will be reduced\n",
            "W0000 00:00:1747175325.111182    8791 gpu_timer.cc:114] Skipping the delay kernel, measurement accuracy will be reduced\n",
            "W0000 00:00:1747175325.152040    8791 gpu_timer.cc:114] Skipping the delay kernel, measurement accuracy will be reduced\n",
            "W0000 00:00:1747175325.197653    8791 gpu_timer.cc:114] Skipping the delay kernel, measurement accuracy will be reduced\n",
            "W0000 00:00:1747175325.217353    8791 gpu_timer.cc:114] Skipping the delay kernel, measurement accuracy will be reduced\n",
            "W0000 00:00:1747175325.222596    8791 gpu_timer.cc:114] Skipping the delay kernel, measurement accuracy will be reduced\n",
            "W0000 00:00:1747175325.265095    8791 gpu_timer.cc:114] Skipping the delay kernel, measurement accuracy will be reduced\n",
            "W0000 00:00:1747175325.269755    8791 gpu_timer.cc:114] Skipping the delay kernel, measurement accuracy will be reduced\n",
            "W0000 00:00:1747175325.460089    8791 gpu_timer.cc:114] Skipping the delay kernel, measurement accuracy will be reduced\n",
            "W0000 00:00:1747175325.465131    8791 gpu_timer.cc:114] Skipping the delay kernel, measurement accuracy will be reduced\n",
            "W0000 00:00:1747175325.499686    8791 gpu_timer.cc:114] Skipping the delay kernel, measurement accuracy will be reduced\n",
            "W0000 00:00:1747175325.504320    8791 gpu_timer.cc:114] Skipping the delay kernel, measurement accuracy will be reduced\n",
            "W0000 00:00:1747175325.809569    8791 gpu_timer.cc:114] Skipping the delay kernel, measurement accuracy will be reduced\n",
            "W0000 00:00:1747175325.852171    8791 gpu_timer.cc:114] Skipping the delay kernel, measurement accuracy will be reduced\n",
            "W0000 00:00:1747175325.857254    8791 gpu_timer.cc:114] Skipping the delay kernel, measurement accuracy will be reduced\n",
            "W0000 00:00:1747175325.887282    8791 gpu_timer.cc:114] Skipping the delay kernel, measurement accuracy will be reduced\n",
            "W0000 00:00:1747175325.915974    8791 gpu_timer.cc:114] Skipping the delay kernel, measurement accuracy will be reduced\n",
            "W0000 00:00:1747175326.033223    8791 gpu_timer.cc:114] Skipping the delay kernel, measurement accuracy will be reduced\n",
            "W0000 00:00:1747175326.038644    8791 gpu_timer.cc:114] Skipping the delay kernel, measurement accuracy will be reduced\n",
            "W0000 00:00:1747175326.043257    8791 gpu_timer.cc:114] Skipping the delay kernel, measurement accuracy will be reduced\n",
            "W0000 00:00:1747175326.047878    8791 gpu_timer.cc:114] Skipping the delay kernel, measurement accuracy will be reduced\n",
            "W0000 00:00:1747175326.052464    8791 gpu_timer.cc:114] Skipping the delay kernel, measurement accuracy will be reduced\n",
            "W0000 00:00:1747175326.057462    8791 gpu_timer.cc:114] Skipping the delay kernel, measurement accuracy will be reduced\n",
            "W0000 00:00:1747175326.062354    8791 gpu_timer.cc:114] Skipping the delay kernel, measurement accuracy will be reduced\n",
            "WARNING: All log messages before absl::InitializeLog() is called are written to STDERR\n",
            "I0000 00:00:1747175326.914854    8793 service.cc:146] XLA service 0x7fbde5119420 initialized for platform CUDA (this does not guarantee that XLA will be used). Devices:\n",
            "I0000 00:00:1747175326.914905    8793 service.cc:154]   StreamExecutor device (0): NVIDIA GeForce RTX 4070 Laptop GPU, Compute Capability 8.9\n",
            "2025-05-14 06:28:47.203942: I tensorflow/compiler/mlir/tensorflow/utils/dump_mlir_util.cc:268] disabling MLIR crash reproducer, set env var `MLIR_CRASH_REPRODUCER_DIRECTORY` to enable.\n",
            "I0000 00:00:1747175327.676933    8793 device_compiler.h:188] Compiled cluster using XLA!  This line is logged at most once for the lifetime of the process.\n",
            "W0000 00:00:1747175329.066725    8793 gpu_timer.cc:114] Skipping the delay kernel, measurement accuracy will be reduced\n",
            "W0000 00:00:1747175329.071742    8793 gpu_timer.cc:114] Skipping the delay kernel, measurement accuracy will be reduced\n",
            "W0000 00:00:1747175329.076750    8793 gpu_timer.cc:114] Skipping the delay kernel, measurement accuracy will be reduced\n",
            "W0000 00:00:1747175329.101213    8793 gpu_timer.cc:114] Skipping the delay kernel, measurement accuracy will be reduced\n",
            "W0000 00:00:1747175329.106165    8793 gpu_timer.cc:114] Skipping the delay kernel, measurement accuracy will be reduced\n",
            "W0000 00:00:1747175329.111219    8793 gpu_timer.cc:114] Skipping the delay kernel, measurement accuracy will be reduced\n",
            "W0000 00:00:1747175329.116115    8793 gpu_timer.cc:114] Skipping the delay kernel, measurement accuracy will be reduced\n",
            "W0000 00:00:1747175329.120794    8793 gpu_timer.cc:114] Skipping the delay kernel, measurement accuracy will be reduced\n",
            "W0000 00:00:1747175329.125760    8793 gpu_timer.cc:114] Skipping the delay kernel, measurement accuracy will be reduced\n",
            "W0000 00:00:1747175329.167337    8793 gpu_timer.cc:114] Skipping the delay kernel, measurement accuracy will be reduced\n",
            "W0000 00:00:1747175329.172822    8793 gpu_timer.cc:114] Skipping the delay kernel, measurement accuracy will be reduced\n",
            "W0000 00:00:1747175329.217895    8793 gpu_timer.cc:114] Skipping the delay kernel, measurement accuracy will be reduced\n",
            "W0000 00:00:1747175329.222511    8793 gpu_timer.cc:114] Skipping the delay kernel, measurement accuracy will be reduced\n",
            "W0000 00:00:1747175329.227536    8793 gpu_timer.cc:114] Skipping the delay kernel, measurement accuracy will be reduced\n",
            "W0000 00:00:1747175329.390777    8793 gpu_timer.cc:114] Skipping the delay kernel, measurement accuracy will be reduced\n",
            "W0000 00:00:1747175329.394897    8793 gpu_timer.cc:114] Skipping the delay kernel, measurement accuracy will be reduced\n",
            "W0000 00:00:1747175329.437717    8793 gpu_timer.cc:114] Skipping the delay kernel, measurement accuracy will be reduced\n",
            "W0000 00:00:1747175329.442366    8793 gpu_timer.cc:114] Skipping the delay kernel, measurement accuracy will be reduced\n",
            "W0000 00:00:1747175329.446902    8793 gpu_timer.cc:114] Skipping the delay kernel, measurement accuracy will be reduced\n",
            "W0000 00:00:1747175329.451851    8793 gpu_timer.cc:114] Skipping the delay kernel, measurement accuracy will be reduced\n",
            "W0000 00:00:1747175330.436787    8793 gpu_timer.cc:114] Skipping the delay kernel, measurement accuracy will be reduced\n",
            "W0000 00:00:1747175330.468519    8793 gpu_timer.cc:114] Skipping the delay kernel, measurement accuracy will be reduced\n",
            "W0000 00:00:1747175330.493652    8793 gpu_timer.cc:114] Skipping the delay kernel, measurement accuracy will be reduced\n",
            "W0000 00:00:1747175330.499366    8793 gpu_timer.cc:114] Skipping the delay kernel, measurement accuracy will be reduced\n",
            "W0000 00:00:1747175330.523721    8793 gpu_timer.cc:114] Skipping the delay kernel, measurement accuracy will be reduced\n",
            "W0000 00:00:1747175330.554927    8793 gpu_timer.cc:114] Skipping the delay kernel, measurement accuracy will be reduced\n",
            "W0000 00:00:1747175330.636748    8793 gpu_timer.cc:114] Skipping the delay kernel, measurement accuracy will be reduced\n",
            "W0000 00:00:1747175330.641906    8793 gpu_timer.cc:114] Skipping the delay kernel, measurement accuracy will be reduced\n",
            "W0000 00:00:1747175330.647802    8793 gpu_timer.cc:114] Skipping the delay kernel, measurement accuracy will be reduced\n",
            "W0000 00:00:1747175330.652804    8793 gpu_timer.cc:114] Skipping the delay kernel, measurement accuracy will be reduced\n",
            "W0000 00:00:1747175330.658088    8793 gpu_timer.cc:114] Skipping the delay kernel, measurement accuracy will be reduced\n",
            "W0000 00:00:1747175330.671332    8793 gpu_timer.cc:114] Skipping the delay kernel, measurement accuracy will be reduced\n",
            "W0000 00:00:1747175330.676931    8793 gpu_timer.cc:114] Skipping the delay kernel, measurement accuracy will be reduced\n",
            "W0000 00:00:1747175330.682244    8793 gpu_timer.cc:114] Skipping the delay kernel, measurement accuracy will be reduced\n",
            "W0000 00:00:1747175331.075944    8793 gpu_timer.cc:114] Skipping the delay kernel, measurement accuracy will be reduced\n",
            "W0000 00:00:1747175331.081013    8793 gpu_timer.cc:114] Skipping the delay kernel, measurement accuracy will be reduced\n",
            "W0000 00:00:1747175331.086093    8793 gpu_timer.cc:114] Skipping the delay kernel, measurement accuracy will be reduced\n",
            "W0000 00:00:1747175331.156637    8793 gpu_timer.cc:114] Skipping the delay kernel, measurement accuracy will be reduced\n",
            "W0000 00:00:1747175331.161713    8793 gpu_timer.cc:114] Skipping the delay kernel, measurement accuracy will be reduced\n",
            "W0000 00:00:1747175331.251463    8793 gpu_timer.cc:114] Skipping the delay kernel, measurement accuracy will be reduced\n",
            "W0000 00:00:1747175331.292748    8793 gpu_timer.cc:114] Skipping the delay kernel, measurement accuracy will be reduced\n"
          ]
        },
        {
          "name": "stdout",
          "output_type": "stream",
          "text": [
            "562/562 [==============================] - ETA: 0s - loss: 0.9057 - accuracy: 0.6482"
          ]
        },
        {
          "name": "stderr",
          "output_type": "stream",
          "text": [
            "W0000 00:00:1747175344.248115    8788 gpu_timer.cc:114] Skipping the delay kernel, measurement accuracy will be reduced\n",
            "W0000 00:00:1747175344.250635    8788 gpu_timer.cc:114] Skipping the delay kernel, measurement accuracy will be reduced\n",
            "W0000 00:00:1747175344.252563    8788 gpu_timer.cc:114] Skipping the delay kernel, measurement accuracy will be reduced\n",
            "W0000 00:00:1747175344.254520    8788 gpu_timer.cc:114] Skipping the delay kernel, measurement accuracy will be reduced\n",
            "W0000 00:00:1747175344.256570    8788 gpu_timer.cc:114] Skipping the delay kernel, measurement accuracy will be reduced\n",
            "W0000 00:00:1747175344.258581    8788 gpu_timer.cc:114] Skipping the delay kernel, measurement accuracy will be reduced\n",
            "W0000 00:00:1747175344.260541    8788 gpu_timer.cc:114] Skipping the delay kernel, measurement accuracy will be reduced\n",
            "W0000 00:00:1747175344.262553    8788 gpu_timer.cc:114] Skipping the delay kernel, measurement accuracy will be reduced\n",
            "W0000 00:00:1747175344.264623    8788 gpu_timer.cc:114] Skipping the delay kernel, measurement accuracy will be reduced\n",
            "W0000 00:00:1747175344.288703    8788 gpu_timer.cc:114] Skipping the delay kernel, measurement accuracy will be reduced\n",
            "W0000 00:00:1747175344.290678    8788 gpu_timer.cc:114] Skipping the delay kernel, measurement accuracy will be reduced\n",
            "W0000 00:00:1747175344.292662    8788 gpu_timer.cc:114] Skipping the delay kernel, measurement accuracy will be reduced\n",
            "W0000 00:00:1747175344.294717    8788 gpu_timer.cc:114] Skipping the delay kernel, measurement accuracy will be reduced\n",
            "W0000 00:00:1747175344.296759    8788 gpu_timer.cc:114] Skipping the delay kernel, measurement accuracy will be reduced\n",
            "W0000 00:00:1747175344.298931    8788 gpu_timer.cc:114] Skipping the delay kernel, measurement accuracy will be reduced\n",
            "W0000 00:00:1747175344.300995    8788 gpu_timer.cc:114] Skipping the delay kernel, measurement accuracy will be reduced\n",
            "W0000 00:00:1747175344.303169    8788 gpu_timer.cc:114] Skipping the delay kernel, measurement accuracy will be reduced\n",
            "W0000 00:00:1747175344.305244    8788 gpu_timer.cc:114] Skipping the delay kernel, measurement accuracy will be reduced\n",
            "W0000 00:00:1747175344.307397    8788 gpu_timer.cc:114] Skipping the delay kernel, measurement accuracy will be reduced\n",
            "W0000 00:00:1747175344.309548    8788 gpu_timer.cc:114] Skipping the delay kernel, measurement accuracy will be reduced\n",
            "W0000 00:00:1747175344.396818    8788 gpu_timer.cc:114] Skipping the delay kernel, measurement accuracy will be reduced\n",
            "W0000 00:00:1747175344.399227    8788 gpu_timer.cc:114] Skipping the delay kernel, measurement accuracy will be reduced\n",
            "W0000 00:00:1747175344.401343    8788 gpu_timer.cc:114] Skipping the delay kernel, measurement accuracy will be reduced\n",
            "W0000 00:00:1747175344.403755    8788 gpu_timer.cc:114] Skipping the delay kernel, measurement accuracy will be reduced\n",
            "W0000 00:00:1747175344.405824    8788 gpu_timer.cc:114] Skipping the delay kernel, measurement accuracy will be reduced\n",
            "W0000 00:00:1747175344.408241    8788 gpu_timer.cc:114] Skipping the delay kernel, measurement accuracy will be reduced\n",
            "W0000 00:00:1747175344.410448    8788 gpu_timer.cc:114] Skipping the delay kernel, measurement accuracy will be reduced\n"
          ]
        },
        {
          "name": "stdout",
          "output_type": "stream",
          "text": [
            "562/562 [==============================] - 24s 24ms/step - loss: 0.9057 - accuracy: 0.6482 - val_loss: 0.6844 - val_accuracy: 0.7420\n",
            "Epoch 2/3\n",
            "562/562 [==============================] - 6s 11ms/step - loss: 0.6570 - accuracy: 0.7576 - val_loss: 0.6381 - val_accuracy: 0.7726\n",
            "Epoch 3/3\n",
            "562/562 [==============================] - 6s 11ms/step - loss: 0.6181 - accuracy: 0.7731 - val_loss: 0.5991 - val_accuracy: 0.7832\n"
          ]
        }
      ],
      "source": [
        "# Fit the model\n",
        "model_1_history = model_1.fit(\n",
        "    train_dataset,\n",
        "    steps_per_epoch=int(0.1 * len(train_dataset)),  # only fit on 10% of batches for faster training time\n",
        "    epochs=3,\n",
        "    validation_data=valid_dataset,\n",
        "    validation_steps=int(0.1 * len(valid_dataset)))  # only validate on 10% of batches"
      ]
    },
    {
      "cell_type": "markdown",
      "id": "d22fb7cc",
      "metadata": {},
      "source": [
        "Brilliant! We've got our first trained deep sequence model, and it didn't take too long (and if we didn't prefetch our batched data, it would've taken longer).\n",
        "\n",
        "Time to make some predictions with our model and then evaluate them."
      ]
    },
    {
      "cell_type": "code",
      "execution_count": 41,
      "id": "37caa5bf",
      "metadata": {},
      "outputs": [
        {
          "name": "stdout",
          "output_type": "stream",
          "text": [
            "945/945 [==============================] - 5s 6ms/step - loss: 0.5982 - accuracy: 0.7870\n"
          ]
        },
        {
          "name": "stderr",
          "output_type": "stream",
          "text": [
            "W0000 00:00:1747175362.201079    8787 gpu_timer.cc:114] Skipping the delay kernel, measurement accuracy will be reduced\n",
            "W0000 00:00:1747175362.206084    8787 gpu_timer.cc:114] Skipping the delay kernel, measurement accuracy will be reduced\n",
            "W0000 00:00:1747175362.210169    8787 gpu_timer.cc:114] Skipping the delay kernel, measurement accuracy will be reduced\n",
            "W0000 00:00:1747175362.213618    8787 gpu_timer.cc:114] Skipping the delay kernel, measurement accuracy will be reduced\n",
            "W0000 00:00:1747175362.217491    8787 gpu_timer.cc:114] Skipping the delay kernel, measurement accuracy will be reduced\n",
            "W0000 00:00:1747175362.220879    8787 gpu_timer.cc:114] Skipping the delay kernel, measurement accuracy will be reduced\n",
            "W0000 00:00:1747175362.224804    8787 gpu_timer.cc:114] Skipping the delay kernel, measurement accuracy will be reduced\n",
            "W0000 00:00:1747175362.228326    8787 gpu_timer.cc:114] Skipping the delay kernel, measurement accuracy will be reduced\n",
            "W0000 00:00:1747175362.232311    8787 gpu_timer.cc:114] Skipping the delay kernel, measurement accuracy will be reduced\n",
            "W0000 00:00:1747175362.235882    8787 gpu_timer.cc:114] Skipping the delay kernel, measurement accuracy will be reduced\n",
            "W0000 00:00:1747175362.239755    8787 gpu_timer.cc:114] Skipping the delay kernel, measurement accuracy will be reduced\n",
            "W0000 00:00:1747175362.243245    8787 gpu_timer.cc:114] Skipping the delay kernel, measurement accuracy will be reduced\n",
            "W0000 00:00:1747175362.247180    8787 gpu_timer.cc:114] Skipping the delay kernel, measurement accuracy will be reduced\n",
            "W0000 00:00:1747175362.250713    8787 gpu_timer.cc:114] Skipping the delay kernel, measurement accuracy will be reduced\n",
            "W0000 00:00:1747175362.254670    8787 gpu_timer.cc:114] Skipping the delay kernel, measurement accuracy will be reduced\n",
            "W0000 00:00:1747175362.258526    8787 gpu_timer.cc:114] Skipping the delay kernel, measurement accuracy will be reduced\n",
            "W0000 00:00:1747175362.262493    8787 gpu_timer.cc:114] Skipping the delay kernel, measurement accuracy will be reduced\n",
            "W0000 00:00:1747175362.266255    8787 gpu_timer.cc:114] Skipping the delay kernel, measurement accuracy will be reduced\n",
            "W0000 00:00:1747175362.270492    8787 gpu_timer.cc:114] Skipping the delay kernel, measurement accuracy will be reduced\n",
            "W0000 00:00:1747175362.274421    8787 gpu_timer.cc:114] Skipping the delay kernel, measurement accuracy will be reduced\n",
            "W0000 00:00:1747175362.278371    8787 gpu_timer.cc:114] Skipping the delay kernel, measurement accuracy will be reduced\n",
            "W0000 00:00:1747175362.282099    8787 gpu_timer.cc:114] Skipping the delay kernel, measurement accuracy will be reduced\n",
            "W0000 00:00:1747175362.285988    8787 gpu_timer.cc:114] Skipping the delay kernel, measurement accuracy will be reduced\n",
            "W0000 00:00:1747175362.290310    8787 gpu_timer.cc:114] Skipping the delay kernel, measurement accuracy will be reduced\n",
            "W0000 00:00:1747175362.294743    8787 gpu_timer.cc:114] Skipping the delay kernel, measurement accuracy will be reduced\n",
            "W0000 00:00:1747175362.299100    8787 gpu_timer.cc:114] Skipping the delay kernel, measurement accuracy will be reduced\n",
            "W0000 00:00:1747175362.303349    8787 gpu_timer.cc:114] Skipping the delay kernel, measurement accuracy will be reduced\n"
          ]
        },
        {
          "data": {
            "text/plain": [
              "[0.5981932878494263, 0.787038266658783]"
            ]
          },
          "execution_count": 41,
          "metadata": {},
          "output_type": "execute_result"
        }
      ],
      "source": [
        "# Evaluate on whole validation dataset (we only validated on 10% of batches during training)\n",
        "model_1.evaluate(valid_dataset)"
      ]
    },
    {
      "cell_type": "code",
      "execution_count": 42,
      "id": "713d29a9",
      "metadata": {},
      "outputs": [
        {
          "name": "stdout",
          "output_type": "stream",
          "text": [
            "945/945 [==============================] - 3s 3ms/step\n"
          ]
        },
        {
          "data": {
            "text/plain": [
              "array([[4.7579822e-01, 1.2688999e-01, 4.3008536e-02, 3.3056894e-01,\n",
              "        2.3734264e-02],\n",
              "       [4.1258517e-01, 3.2649243e-01, 1.3073000e-02, 2.3586716e-01,\n",
              "        1.1982301e-02],\n",
              "       [2.1537335e-01, 7.3224520e-03, 3.5881572e-03, 7.7366477e-01,\n",
              "        5.1314473e-05],\n",
              "       ...,\n",
              "       [1.5630307e-05, 6.5934431e-04, 8.7075250e-04, 8.6990949e-06,\n",
              "        9.9844557e-01],\n",
              "       [5.3886849e-02, 4.3721572e-01, 6.7136161e-02, 5.7682559e-02,\n",
              "        3.8407862e-01],\n",
              "       [1.4500442e-01, 6.9862628e-01, 5.3692330e-02, 6.2531583e-02,\n",
              "        4.0145405e-02]], dtype=float32)"
            ]
          },
          "execution_count": 42,
          "metadata": {},
          "output_type": "execute_result"
        }
      ],
      "source": [
        "# Make predictions (our model outputs prediction probabilities for each class)\n",
        "model_1_pred_probs = model_1.predict(valid_dataset)\n",
        "model_1_pred_probs"
      ]
    },
    {
      "cell_type": "code",
      "execution_count": 43,
      "id": "572b92b2",
      "metadata": {},
      "outputs": [
        {
          "data": {
            "text/plain": [
              "<tf.Tensor: shape=(30212,), dtype=int64, numpy=array([0, 0, 3, ..., 4, 1, 1])>"
            ]
          },
          "execution_count": 43,
          "metadata": {},
          "output_type": "execute_result"
        }
      ],
      "source": [
        "# Convert pred probs to classes\n",
        "model_1_preds = tf.argmax(model_1_pred_probs, axis=1)\n",
        "model_1_preds"
      ]
    },
    {
      "cell_type": "code",
      "execution_count": 44,
      "id": "69b9bea2",
      "metadata": {},
      "outputs": [
        {
          "data": {
            "text/plain": [
              "{'accuracy': 78.70382629418773,\n",
              " 'precision': 0.7840530098755606,\n",
              " 'recall': 0.7870382629418774,\n",
              " 'f1': 0.7848609563308755}"
            ]
          },
          "execution_count": 44,
          "metadata": {},
          "output_type": "execute_result"
        }
      ],
      "source": [
        "# Calculate model_1 results\n",
        "model_1_results = calculate_results(y_true=val_labels_encoded, y_pred=model_1_preds)\n",
        "model_1_results"
      ]
    },
    {
      "cell_type": "markdown",
      "id": "cba6b20b",
      "metadata": {},
      "source": [
        "## Model 2: Feature extraction with pretrained token embeddings\n",
        "\n",
        "Training our own embeddings took a little while to run, slowing our experiments down.\n",
        "\n",
        "Since we're moving towards replicating the model architecture in [*Neural Networks for Joint Sentence Classification\n",
        "in Medical Paper Abstracts*](https://arxiv.org/pdf/1612.05251.pdf), it mentions they used a [pretrained GloVe embedding](https://nlp.stanford.edu/projects/glove/) as a way to initialise their token embeddings.\n",
        "\n",
        "To emulate this, let's see what results we can get with the [pretrained Universal Sentence Encoder embeddings from TensorFlow Hub](https://tfhub.dev/google/universal-sentence-encoder/4).\n",
        "\n",
        "> 🔑 **Note:** We could use GloVe embeddings as per the paper but since we're working with TensorFlow, we'll use what's available from TensorFlow Hub (GloVe embeddings aren't). We'll save [using pretrained GloVe embeddings](https://keras.io/examples/nlp/pretrained_word_embeddings/) as an extension.\n",
        "\n",
        "The model structure will look like:\n",
        "\n",
        "```\n",
        "Inputs (string) -> Pretrained embeddings from TensorFlow Hub (Universal Sentence Encoder) -> Layers -> Output (prediction probabilities)\n",
        "```\n",
        "\n",
        "You'll notice the lack of tokenization layer we've used in a previous model. This is because the Universal Sentence Encoder (USE) takes care of tokenization for us.\n",
        "\n",
        "This type of model is called transfer learning, or more specifically, **feature extraction transfer learning**. In other words, taking the patterns a model has learned elsewhere and applying it to our own problem.\n",
        "\n",
        "![TensorFlow Hub Universal Feature Encoder feature extractor model we're building](https://raw.githubusercontent.com/mrdbourke/tensorflow-deep-learning/main/images/09-model-tf-hub-USE-to-dense-layer.png)\n",
        "*The feature extractor model we're building using a pretrained embedding from TensorFlow Hub.*\n",
        "\n",
        "To download the pretrained USE into a layer we can use in our model, we can use the [`hub.KerasLayer`](https://www.tensorflow.org/hub/api_docs/python/hub/KerasLayer) class.\n",
        "\n",
        "We'll keep the pretrained embeddings frozen (by setting `trainable=False`) and add a trainable couple of layers on the top to tailor the model outputs to our own data.\n",
        "\n",
        "> 🔑 **Note:** Due to having to download a relatively large model (~916MB), the cell below may take a little while to run."
      ]
    },
    {
      "cell_type": "code",
      "execution_count": 45,
      "id": "77492f0d",
      "metadata": {},
      "outputs": [],
      "source": [
        "# Download pretrained TensorFlow Hub USE\n",
        "import tensorflow_hub as hub\n",
        "\n",
        "tf_hub_embedding_layer = hub.KerasLayer(\"https://tfhub.dev/google/universal-sentence-encoder/4\",\n",
        "                                        trainable=False,\n",
        "                                        name=\"universal_sentence_encoder\")"
      ]
    },
    {
      "cell_type": "markdown",
      "id": "607da65e",
      "metadata": {},
      "source": [
        "Beautiful, now our pretrained USE is downloaded and instantiated as a `hub.KerasLayer` instance, let's test it out on a random sentence."
      ]
    },
    {
      "cell_type": "code",
      "execution_count": 46,
      "id": "6b41e5f3",
      "metadata": {},
      "outputs": [
        {
          "name": "stdout",
          "output_type": "stream",
          "text": [
            "Random training sentence:\n",
            "the trial was stopped approximately midway after a futility analysis showing that the likelihood of detecting a signal at study term was < @ % .\n",
            "\n",
            "Sentence after embedding:\n",
            "[ 0.0650117   0.00385047 -0.06746168 -0.07474765  0.01796043 -0.06520119\n",
            " -0.0259374   0.01689676  0.08163143  0.03355263  0.03398858 -0.07235607\n",
            "  0.08533923  0.03043628 -0.00425636 -0.03371403  0.08017725  0.06799704\n",
            "  0.08635104 -0.03681577 -0.07356745 -0.00239182 -0.05426771  0.02035256\n",
            " -0.05276709  0.06084636  0.05076749  0.01471602 -0.06148778 -0.03940796] (truncated output)...\n",
            "\n",
            "Length of sentence embedding:\n",
            "512\n"
          ]
        }
      ],
      "source": [
        "# Test out the embedding on a random sentence\n",
        "random_training_sentence = random.choice(train_sentences)\n",
        "print(f\"Random training sentence:\\n{random_training_sentence}\\n\")\n",
        "\n",
        "use_embedded_sentence = tf_hub_embedding_layer([random_training_sentence])\n",
        "print(f\"Sentence after embedding:\\n{use_embedded_sentence[0][:30]} (truncated output)...\\n\")\n",
        "print(f\"Length of sentence embedding:\\n{len(use_embedded_sentence[0])}\")"
      ]
    },
    {
      "cell_type": "markdown",
      "id": "51805407",
      "metadata": {},
      "source": [
        "Nice! As we mentioned before the pretrained USE module from TensorFlow Hub takes care of tokenizing our text for us and outputs a 512 dimensional embedding vector.\n",
        "\n",
        "Let's put together and compile a model using our `tf_hub_embedding_layer`."
      ]
    },
    {
      "cell_type": "markdown",
      "id": "c98fc61a",
      "metadata": {},
      "source": [
        "### Building and fitting an NLP feature extraction model from TensorFlow Hub"
      ]
    },
    {
      "cell_type": "code",
      "execution_count": 47,
      "id": "f401af9d",
      "metadata": {},
      "outputs": [],
      "source": [
        "# Define feature extractor model using TF Hub layer\n",
        "inputs = layers.Input(shape=[], dtype=tf.string)\n",
        "pretrained_embedding = tf_hub_embedding_layer(inputs)  # tokenize text and create embedding\n",
        "x = layers.Dense(128, activation=\"relu\")(pretrained_embedding)  # add a fully connected layer on top of the embedding\n",
        "# Note: you could add more layers here if you wanted to\n",
        "outputs = layers.Dense(5, activation=\"softmax\")(x)  # create the output layer\n",
        "model_2 = keras.Model(inputs=inputs, outputs=outputs)\n",
        "\n",
        "# Compile the model\n",
        "model_2.compile(loss=\"categorical_crossentropy\", optimizer=keras.optimizers.Adam(), metrics=[\"accuracy\"])"
      ]
    },
    {
      "cell_type": "code",
      "execution_count": 48,
      "id": "171851f0",
      "metadata": {},
      "outputs": [
        {
          "name": "stdout",
          "output_type": "stream",
          "text": [
            "Model: \"model_1\"\n",
            "_________________________________________________________________\n",
            " Layer (type)                Output Shape              Param #   \n",
            "=================================================================\n",
            " input_2 (InputLayer)        [(None,)]                 0         \n",
            "                                                                 \n",
            " universal_sentence_encoder  (None, 512)               256797824 \n",
            "  (KerasLayer)                                                   \n",
            "                                                                 \n",
            " dense_1 (Dense)             (None, 128)               65664     \n",
            "                                                                 \n",
            " dense_2 (Dense)             (None, 5)                 645       \n",
            "                                                                 \n",
            "=================================================================\n",
            "Total params: 256864133 (979.86 MB)\n",
            "Trainable params: 66309 (259.02 KB)\n",
            "Non-trainable params: 256797824 (979.61 MB)\n",
            "_________________________________________________________________\n"
          ]
        }
      ],
      "source": [
        "# Get a summary of the model\n",
        "model_2.summary()"
      ]
    },
    {
      "cell_type": "markdown",
      "id": "92beff70",
      "metadata": {},
      "source": [
        "Checking the summary of our model we can see there's a large number of total parameters, however, the majority of these are non-trainable. This is because we set `training=False` when we instatiated our USE feature extractor layer.\n",
        "\n",
        "So when we train our model, only the top two output layers will be trained."
      ]
    },
    {
      "cell_type": "code",
      "execution_count": 49,
      "id": "d25fa316",
      "metadata": {},
      "outputs": [
        {
          "name": "stdout",
          "output_type": "stream",
          "text": [
            "Epoch 1/3\n",
            "562/562 [==============================] - 19s 30ms/step - loss: 0.9138 - accuracy: 0.6517 - val_loss: 0.7945 - val_accuracy: 0.6902\n",
            "Epoch 2/3\n",
            "562/562 [==============================] - 16s 29ms/step - loss: 0.7681 - accuracy: 0.7022 - val_loss: 0.7528 - val_accuracy: 0.7078\n",
            "Epoch 3/3\n",
            "562/562 [==============================] - 17s 30ms/step - loss: 0.7497 - accuracy: 0.7132 - val_loss: 0.7353 - val_accuracy: 0.7141\n"
          ]
        },
        {
          "data": {
            "text/plain": [
              "<tf_keras.src.callbacks.History at 0x7fbe58546f00>"
            ]
          },
          "execution_count": 49,
          "metadata": {},
          "output_type": "execute_result"
        }
      ],
      "source": [
        "# Fit feature extractor model for 3 epochs\n",
        "model_2.fit(train_dataset,\n",
        "            steps_per_epoch=int(0.1 * len(train_dataset)),\n",
        "            epochs=3,\n",
        "            validation_data=valid_dataset,\n",
        "            validation_steps=int(0.1 * len(valid_dataset)))"
      ]
    },
    {
      "cell_type": "code",
      "execution_count": 50,
      "id": "6d96b0b2",
      "metadata": {},
      "outputs": [
        {
          "name": "stdout",
          "output_type": "stream",
          "text": [
            "945/945 [==============================] - 23s 24ms/step - loss: 0.7386 - accuracy: 0.7141\n"
          ]
        },
        {
          "data": {
            "text/plain": [
              "[0.7386170029640198, 0.7140540480613708]"
            ]
          },
          "execution_count": 50,
          "metadata": {},
          "output_type": "execute_result"
        }
      ],
      "source": [
        "# Evaluate on whole validation dataset\n",
        "model_2.evaluate(valid_dataset)"
      ]
    },
    {
      "cell_type": "markdown",
      "id": "a6bfaac4",
      "metadata": {},
      "source": [
        "Since we aren't training our own custom embedding layer, training is much quicker.\n",
        "\n",
        "Let's make some predictions and evaluate our feature extraction model."
      ]
    },
    {
      "cell_type": "code",
      "execution_count": 51,
      "id": "4083c4df",
      "metadata": {},
      "outputs": [
        {
          "name": "stdout",
          "output_type": "stream",
          "text": [
            "945/945 [==============================] - 20s 21ms/step\n"
          ]
        },
        {
          "data": {
            "text/plain": [
              "array([[4.59756732e-01, 3.11671019e-01, 2.56556575e-03, 2.15772316e-01,\n",
              "        1.02343345e-02],\n",
              "       [3.67738277e-01, 4.95968521e-01, 3.93365230e-03, 1.28966555e-01,\n",
              "        3.39305331e-03],\n",
              "       [2.39673868e-01, 1.69192836e-01, 1.95029266e-02, 5.28139651e-01,\n",
              "        4.34907414e-02],\n",
              "       ...,\n",
              "       [1.62255112e-03, 4.83559165e-03, 4.25703377e-02, 7.46416219e-04,\n",
              "        9.50225115e-01],\n",
              "       [3.96435056e-03, 5.21393344e-02, 1.63363442e-01, 1.35151017e-03,\n",
              "        7.79181421e-01],\n",
              "       [1.72857016e-01, 2.51700222e-01, 5.26267707e-01, 7.14436453e-03,\n",
              "        4.20307666e-02]], dtype=float32)"
            ]
          },
          "execution_count": 51,
          "metadata": {},
          "output_type": "execute_result"
        }
      ],
      "source": [
        "# Make predictions with feature extraction model\n",
        "model_2_pred_probs = model_2.predict(valid_dataset)\n",
        "model_2_pred_probs"
      ]
    },
    {
      "cell_type": "code",
      "execution_count": 52,
      "id": "4c48596d",
      "metadata": {},
      "outputs": [
        {
          "data": {
            "text/plain": [
              "<tf.Tensor: shape=(30212,), dtype=int64, numpy=array([0, 1, 3, ..., 4, 4, 2])>"
            ]
          },
          "execution_count": 52,
          "metadata": {},
          "output_type": "execute_result"
        }
      ],
      "source": [
        "# Convert the predictions with feature extraction model to classes\n",
        "model_2_preds = tf.argmax(model_2_pred_probs, axis=1)\n",
        "model_2_preds"
      ]
    },
    {
      "cell_type": "code",
      "execution_count": 53,
      "id": "6fac1912",
      "metadata": {},
      "outputs": [
        {
          "data": {
            "text/plain": [
              "{'accuracy': 71.4020918840196,\n",
              " 'precision': 0.7144387784623923,\n",
              " 'recall': 0.7140209188401959,\n",
              " 'f1': 0.7111058858900793}"
            ]
          },
          "execution_count": 53,
          "metadata": {},
          "output_type": "execute_result"
        }
      ],
      "source": [
        "# Calculate results from TF Hub pretrained embeddings results on validation set\n",
        "model_2_results = calculate_results(y_true=val_labels_encoded, y_pred=model_2_preds)\n",
        "model_2_results"
      ]
    },
    {
      "cell_type": "markdown",
      "id": "87eaa133",
      "metadata": {},
      "source": [
        "## Model 3: Conv1D with character embeddings\n",
        "\n",
        "### Creating a character-level tokenizer\n",
        "\n",
        "The [*Neural Networks for Joint Sentence Classification\n",
        "in Medical Paper Abstracts*](https://arxiv.org/pdf/1612.05251.pdf) paper mentions their model uses a hybrid of token and character embeddings.\n",
        "\n",
        "We've built models with a custom token embedding and a pretrained token embedding, how about we build one using a character embedding?\n",
        "\n",
        "The difference between a character and token embedding is that the **character embedding** is created using sequences split into characters (e.g. `hello` -> [`h`, `e`, `l`, `l`, `o`]) where as a **token embedding** is created on sequences split into tokens.\n",
        "\n",
        "![example of difference between token level and character level embeddings](https://raw.githubusercontent.com/mrdbourke/tensorflow-deep-learning/main/images/09-token-vs-character-embeddings.png)\n",
        "*Token level embeddings split sequences into tokens (words) and embeddings each of them, character embeddings split sequences into characters and creates a feature vector for each.*\n",
        "\n",
        "We can create a character-level embedding by first vectorizing our sequences (after they've been split into characters) using the [`TextVectorization`](https://www.tensorflow.org/api_docs/python/tf/keras/layers/experimental/preprocessing/TextVectorization) class and then passing those vectorized sequences through an [`Embedding`](https://www.tensorflow.org/api_docs/python/tf/keras/layers/Embedding) layer.\n",
        "\n",
        "Before we can vectorize our sequences on a character-level we'll need to split them into characters. Let's write a function to do so."
      ]
    },
    {
      "cell_type": "code",
      "execution_count": 54,
      "id": "2b0684fb",
      "metadata": {},
      "outputs": [
        {
          "data": {
            "text/plain": [
              "'t h e   t r i a l   w a s   s t o p p e d   a p p r o x i m a t e l y   m i d w a y   a f t e r   a   f u t i l i t y   a n a l y s i s   s h o w i n g   t h a t   t h e   l i k e l i h o o d   o f   d e t e c t i n g   a   s i g n a l   a t   s t u d y   t e r m   w a s   <   @   %   .'"
            ]
          },
          "execution_count": 54,
          "metadata": {},
          "output_type": "execute_result"
        }
      ],
      "source": [
        "# Make function to split sentences into characters\n",
        "def split_chars(text):\n",
        "    return \" \".join(list(text))\n",
        "\n",
        "\n",
        "# Test splitting non-character-level sequence into characters\n",
        "split_chars(random_training_sentence)"
      ]
    },
    {
      "cell_type": "markdown",
      "id": "427d95bb",
      "metadata": {},
      "source": [
        "Great! Looks like our character-splitting function works. Let's create character-level datasets by splitting our sequence datasets into characters."
      ]
    },
    {
      "cell_type": "code",
      "execution_count": 55,
      "id": "5bf6dbea",
      "metadata": {},
      "outputs": [
        {
          "name": "stdout",
          "output_type": "stream",
          "text": [
            "t o   i n v e s t i g a t e   t h e   e f f i c a c y   o f   @   w e e k s   o f   d a i l y   l o w - d o s e   o r a l   p r e d n i s o l o n e   i n   i m p r o v i n g   p a i n   ,   m o b i l i t y   ,   a n d   s y s t e m i c   l o w - g r a d e   i n f l a m m a t i o n   i n   t h e   s h o r t   t e r m   a n d   w h e t h e r   t h e   e f f e c t   w o u l d   b e   s u s t a i n e d   a t   @   w e e k s   i n   o l d e r   a d u l t s   w i t h   m o d e r a t e   t o   s e v e r e   k n e e   o s t e o a r t h r i t i s   (   o a   )   .\n"
          ]
        }
      ],
      "source": [
        "# Split sequence-level data splits into character-level data splits\n",
        "train_chars = [split_chars(sentence) for sentence in train_sentences]\n",
        "val_chars = [split_chars(sentence) for sentence in val_sentences]\n",
        "test_chars = [split_chars(sentence) for sentence in test_sentences]\n",
        "print(train_chars[0])"
      ]
    },
    {
      "cell_type": "markdown",
      "id": "b4c0c88f",
      "metadata": {},
      "source": [
        "To figure out how long our vectorized character sequences should be, let's check the distribution of our character sequence lengths."
      ]
    },
    {
      "cell_type": "code",
      "execution_count": 56,
      "id": "04807508",
      "metadata": {},
      "outputs": [
        {
          "data": {
            "text/plain": [
              "149.3662574983337"
            ]
          },
          "execution_count": 56,
          "metadata": {},
          "output_type": "execute_result"
        }
      ],
      "source": [
        "# What's the average character length?\n",
        "char_lens = [len(sentence) for sentence in train_sentences]\n",
        "mean_char_len = np.mean(char_lens)\n",
        "mean_char_len"
      ]
    },
    {
      "cell_type": "code",
      "execution_count": 57,
      "id": "8ace2fe3",
      "metadata": {},
      "outputs": [
        {
          "data": {
            "text/plain": [
              "(array([1.41175e+05, 3.71110e+04, 1.60000e+03, 1.27000e+02, 2.10000e+01,\n",
              "        5.00000e+00, 1.00000e+00]),\n",
              " array([1.00000000e+00, 1.98857143e+02, 3.96714286e+02, 5.94571429e+02,\n",
              "        7.92428571e+02, 9.90285714e+02, 1.18814286e+03, 1.38600000e+03]),\n",
              " <BarContainer object of 7 artists>)"
            ]
          },
          "execution_count": 57,
          "metadata": {},
          "output_type": "execute_result"
        },
        {
          "data": {
            "image/png": "[encoded data removed]",
            "text/plain": [
              "<Figure size 640x480 with 1 Axes>"
            ]
          },
          "metadata": {},
          "output_type": "display_data"
        }
      ],
      "source": [
        "# Check the distribution of our sequences at character-level\n",
        "import matplotlib.pyplot as plt\n",
        "\n",
        "plt.hist(char_lens, bins=7)"
      ]
    },
    {
      "cell_type": "markdown",
      "id": "38ca076a",
      "metadata": {},
      "source": [
        "Okay, looks like most of our sequences are between 0 and 200 characters long.\n",
        "\n",
        "Let's use NumPy's percentile to figure out what length covers 95% of our sequences."
      ]
    },
    {
      "cell_type": "code",
      "execution_count": 58,
      "id": "e16f78d4",
      "metadata": {},
      "outputs": [
        {
          "data": {
            "text/plain": [
              "290"
            ]
          },
          "execution_count": 58,
          "metadata": {},
          "output_type": "execute_result"
        }
      ],
      "source": [
        "# Find what character length covers 95% of sequences\n",
        "output_seq_char_len = int(np.percentile(char_lens, 95))\n",
        "output_seq_char_len"
      ]
    },
    {
      "cell_type": "markdown",
      "id": "276ad0ca",
      "metadata": {},
      "source": [
        "Wonderful, now we know the sequence length which covers 95% of sequences, we'll use that in our `TextVectorization` layer as the `output_sequence_length` parameter.\n",
        "\n",
        "> 🔑 **Note:** You can experiment here to figure out what the optimal `output_sequence_length` should be, perhaps using the mean results in as good results as using the 95% percentile.\n",
        "\n",
        "We'll set `max_tokens` (the total number of different characters in our sequences) to 28, in other words, 26 letters of the alphabet + space + OOV (out of vocabulary or unknown) tokens."
      ]
    },
    {
      "cell_type": "code",
      "execution_count": 59,
      "id": "56d19976",
      "metadata": {},
      "outputs": [
        {
          "data": {
            "text/plain": [
              "'abcdefghijklmnopqrstuvwxyz0123456789!\"#$%&\\'()*+,-./:;<=>?@[\\\\]^_`{|}~'"
            ]
          },
          "execution_count": 59,
          "metadata": {},
          "output_type": "execute_result"
        }
      ],
      "source": [
        "# Get all keyboard characters for char-level embedding\n",
        "import string\n",
        "\n",
        "alphabet = string.ascii_lowercase + string.digits + string.punctuation\n",
        "alphabet"
      ]
    },
    {
      "cell_type": "code",
      "execution_count": 60,
      "id": "bbd7db39",
      "metadata": {},
      "outputs": [],
      "source": [
        "# Create char-level token vectorizer instance\n",
        "NUM_CHAR_TOKENS = len(alphabet) + 2  # num characters in alphabet + space + OOV token\n",
        "char_vectorizer = TextVectorization(max_tokens=NUM_CHAR_TOKENS,\n",
        "                                    output_sequence_length=output_seq_char_len,\n",
        "                                    standardize=\"lower_and_strip_punctuation\",\n",
        "                                    name=\"char_vectorizer\")\n",
        "\n",
        "# Adapt character vectorizer to training characters\n",
        "char_vectorizer.adapt(train_chars)"
      ]
    },
    {
      "cell_type": "markdown",
      "id": "d518a19a",
      "metadata": {},
      "source": [
        "Nice! Now we've adapted our `char_vectorizer` to our character-level sequences, let's check out some characteristics about it using the [`get_vocabulary()`](https://www.tensorflow.org/api_docs/python/tf/keras/layers/experimental/preprocessing/TextVectorization#get_vocabulary) method."
      ]
    },
    {
      "cell_type": "code",
      "execution_count": 61,
      "id": "b031d295",
      "metadata": {},
      "outputs": [
        {
          "name": "stdout",
          "output_type": "stream",
          "text": [
            "Number of different characters in character vocab: 28\n",
            "5 most common characters: ['', '[UNK]', 'e', 't', 'i']\n",
            "5 least common characters: ['k', 'x', 'z', 'q', 'j']\n"
          ]
        }
      ],
      "source": [
        "# Check character vocabulary characteristics\n",
        "char_vocab = char_vectorizer.get_vocabulary()\n",
        "print(f\"Number of different characters in character vocab: {len(char_vocab)}\")\n",
        "print(f\"5 most common characters: {char_vocab[:5]}\")\n",
        "print(f\"5 least common characters: {char_vocab[-5:]}\")"
      ]
    },
    {
      "cell_type": "markdown",
      "id": "376b0827",
      "metadata": {},
      "source": [
        "We can also test it on random sequences of characters to make sure it's working."
      ]
    },
    {
      "cell_type": "code",
      "execution_count": 62,
      "id": "77234b04",
      "metadata": {},
      "outputs": [
        {
          "name": "stdout",
          "output_type": "stream",
          "text": [
            "Charified text:\n",
            "i n   a d d i t i o n   ,   v o @   ,   h r   ,   a n d   r p e   w e r e   l o w e r   a t   s u b m a x i m a l   l e v e l   o f   r @   a f t e r   w b c   t h a n   i n   p b o   (   p   =   @   t o   <   @   ,   d   =   @ - @   @   )   .\n",
            "\n",
            "Length of chars: 88\n",
            "\n",
            "Vectorized chars:\n",
            "[[ 4  6  5 10 10  4  3  4  7  6 21  7 13  8  5  6 10  8 14  2 20  2  8  2\n",
            "  12  7 20  2  8  5  3  9 16 22 15  5 24  4 15  5 12 12  2 21  2 12  7 17\n",
            "   8  5 17  3  2  8 20 22 11  3 13  5  6  4  6 14 22  7 14  3  7 10  0  0\n",
            "   0  0  0  0  0  0  0  0  0  0  0  0  0  0  0  0  0  0  0  0  0  0  0  0\n",
            "   0  0  0  0  0  0  0  0  0  0  0  0  0  0  0  0  0  0  0  0  0  0  0  0\n",
            "   0  0  0  0  0  0  0  0  0  0  0  0  0  0  0  0  0  0  0  0  0  0  0  0\n",
            "   0  0  0  0  0  0  0  0  0  0  0  0  0  0  0  0  0  0  0  0  0  0  0  0\n",
            "   0  0  0  0  0  0  0  0  0  0  0  0  0  0  0  0  0  0  0  0  0  0  0  0\n",
            "   0  0  0  0  0  0  0  0  0  0  0  0  0  0  0  0  0  0  0  0  0  0  0  0\n",
            "   0  0  0  0  0  0  0  0  0  0  0  0  0  0  0  0  0  0  0  0  0  0  0  0\n",
            "   0  0  0  0  0  0  0  0  0  0  0  0  0  0  0  0  0  0  0  0  0  0  0  0\n",
            "   0  0  0  0  0  0  0  0  0  0  0  0  0  0  0  0  0  0  0  0  0  0  0  0\n",
            "   0  0]]\n",
            "\n",
            "Length of vectorized chars: 290\n"
          ]
        }
      ],
      "source": [
        "# Test out character vectorizer\n",
        "random_train_chars = random.choice(train_chars)\n",
        "print(f\"Charified text:\\n{random_train_chars}\")\n",
        "print(f\"\\nLength of chars: {len(random_train_chars.split())}\")\n",
        "\n",
        "vectorized_chars = char_vectorizer([random_train_chars])\n",
        "print(f\"\\nVectorized chars:\\n{vectorized_chars}\")\n",
        "print(f\"\\nLength of vectorized chars: {len(vectorized_chars[0])}\")"
      ]
    },
    {
      "cell_type": "markdown",
      "id": "06c41a93",
      "metadata": {},
      "source": [
        "You'll notice sequences with a length shorter than 290 (`output_seq_char_length`) get padded with zeros on the end, this ensures all sequences passed to our model are the same length.\n",
        "\n",
        "Also, due to the `standardize` parameter of `TextVectorization` being `\"lower_and_strip_punctuation\"` and the `split` parameter being `\"whitespace\"` by default, symbols (such as `@`) and spaces are removed.\n",
        "\n",
        "> 🔑 **Note:** If you didn't want punctuation to be removed (keep the `@`, `%` etc), you can create a custom standardization callable and pass it as the `standardize` parameter. See the [`TextVectorization`](https://www.tensorflow.org/api_docs/python/tf/keras/layers/TextVectorization) layer documentation for more.\n"
      ]
    },
    {
      "cell_type": "markdown",
      "id": "257f1551",
      "metadata": {},
      "source": [
        "### Creating a character-level embedding\n",
        "\n",
        "We've got a way to vectorize our character-level sequences, now's time to create a character-level embedding.\n",
        "\n",
        "Just like our custom token embedding, we can do so using the [`tensorflow.keras.layers.Embedding`](https://www.tensorflow.org/api_docs/python/tf/keras/layers/Embedding) class.\n",
        "\n",
        "Our character-level embedding layer requires an input dimension and output dimension. \n",
        "\n",
        "The input dimension (`input_dim`) will be equal to the number of different characters in our `char_vocab` (28). And since we're following the structure of the model in Figure 1 of [*Neural Networks for Joint Sentence Classification\n",
        "in Medical Paper Abstracts*](https://arxiv.org/pdf/1612.05251.pdf), the output dimension of the character embedding (`output_dim`) will be 25."
      ]
    },
    {
      "cell_type": "code",
      "execution_count": 63,
      "id": "039bcec2",
      "metadata": {},
      "outputs": [
        {
          "name": "stdout",
          "output_type": "stream",
          "text": [
            "Charified text (before vectorization and embedding):\n",
            "i n   a d d i t i o n   ,   v o @   ,   h r   ,   a n d   r p e   w e r e   l o w e r   a t   s u b m a x i m a l   l e v e l   o f   r @   a f t e r   w b c   t h a n   i n   p b o   (   p   =   @   t o   <   @   ,   d   =   @ - @   @   )   .\n",
            "\n",
            "Embedded chars (after vectorization and embedding):\n",
            "[[[ 0.01665363 -0.04115089  0.0447329  ... -0.00707658 -0.00679579\n",
            "   -0.03959572]\n",
            "  [ 0.02753549 -0.04423553 -0.00769166 ...  0.04501131  0.01861367\n",
            "   -0.03171685]\n",
            "  [ 0.00488373 -0.0308799   0.00021038 ...  0.00404876 -0.00234031\n",
            "   -0.00179211]\n",
            "  ...\n",
            "  [-0.04104863  0.01231418  0.0385442  ...  0.02054194  0.04462678\n",
            "   -0.02802185]\n",
            "  [-0.04104863  0.01231418  0.0385442  ...  0.02054194  0.04462678\n",
            "   -0.02802185]\n",
            "  [-0.04104863  0.01231418  0.0385442  ...  0.02054194  0.04462678\n",
            "   -0.02802185]]]\n",
            "\n",
            "Character embedding shape: (1, 290, 25)\n"
          ]
        }
      ],
      "source": [
        "# Create char embedding layer\n",
        "char_embed = layers.Embedding(\n",
        "    input_dim=NUM_CHAR_TOKENS,  # number of different characters\n",
        "    output_dim=25,  # embedding dimension of each character (same as Figure 1 in https://arxiv.org/pdf/1612.05251.pdf)\n",
        "    mask_zero=False,  # don't use masks (this messes up model_5 if set to True)\n",
        "    name=\"char_embed\")\n",
        "\n",
        "# Test out character embedding layer\n",
        "print(f\"Charified text (before vectorization and embedding):\\n{random_train_chars}\\n\")\n",
        "char_embed_example = char_embed(char_vectorizer([random_train_chars]))\n",
        "print(f\"Embedded chars (after vectorization and embedding):\\n{char_embed_example}\\n\")\n",
        "print(f\"Character embedding shape: {char_embed_example.shape}\")"
      ]
    },
    {
      "cell_type": "markdown",
      "id": "d0c5c325",
      "metadata": {},
      "source": [
        "Wonderful! Each of the characters in our sequences gets turned into a 25 dimension embedding."
      ]
    },
    {
      "cell_type": "markdown",
      "id": "7987bfeb",
      "metadata": {},
      "source": [
        "### Building a Conv1D model to fit on character embeddings\n",
        "Now we've got a way to turn our character-level sequences into numbers (`char_vectorizer`) as well as numerically represent them as an embedding (`char_embed`) let's test how effective they are at encoding the information in our sequences by creating a character-level sequence model.\n",
        "\n",
        "The model will have the same structure as our custom token embedding model (`model_1`) except it'll take character-level sequences as input instead of token-level sequences.\n",
        "\n",
        "```\n",
        "Input (character-level text) -> Tokenize -> Embedding -> Layers (Conv1D, GlobalMaxPool1D) -> Output (label probability)\n",
        "```\n"
      ]
    },
    {
      "cell_type": "code",
      "execution_count": 64,
      "id": "1a1f8c6c",
      "metadata": {},
      "outputs": [],
      "source": [
        "# Make Conv1D on chars only\n",
        "inputs = layers.Input(shape=(1,), dtype=\"string\")\n",
        "char_vectors = char_vectorizer(inputs)\n",
        "char_embeddings = char_embed(char_vectors)\n",
        "x = layers.Conv1D(64, kernel_size=5, padding=\"same\", activation=\"relu\")(char_embeddings)\n",
        "x = layers.GlobalMaxPool1D()(x)\n",
        "outputs = layers.Dense(num_classes, activation=\"softmax\")(x)\n",
        "model_3 = keras.Model(inputs=inputs, outputs=outputs, name=\"model_3_conv1D_char_embedding\")\n",
        "\n",
        "# Compile model\n",
        "model_3.compile(loss=\"categorical_crossentropy\", optimizer=keras.optimizers.Adam(), metrics=[\"accuracy\"])"
      ]
    },
    {
      "cell_type": "code",
      "execution_count": 65,
      "id": "594606b6",
      "metadata": {},
      "outputs": [
        {
          "name": "stdout",
          "output_type": "stream",
          "text": [
            "Model: \"model_3_conv1D_char_embedding\"\n",
            "_________________________________________________________________\n",
            " Layer (type)                Output Shape              Param #   \n",
            "=================================================================\n",
            " input_3 (InputLayer)        [(None, 1)]               0         \n",
            "                                                                 \n",
            " char_vectorizer (TextVecto  (None, 290)               0         \n",
            " rization)                                                       \n",
            "                                                                 \n",
            " char_embed (Embedding)      (None, 290, 25)           1750      \n",
            "                                                                 \n",
            " conv1d_1 (Conv1D)           (None, 290, 64)           8064      \n",
            "                                                                 \n",
            " global_max_pooling1d (Glob  (None, 64)                0         \n",
            " alMaxPooling1D)                                                 \n",
            "                                                                 \n",
            " dense_3 (Dense)             (None, 5)                 325       \n",
            "                                                                 \n",
            "=================================================================\n",
            "Total params: 10139 (39.61 KB)\n",
            "Trainable params: 10139 (39.61 KB)\n",
            "Non-trainable params: 0 (0.00 Byte)\n",
            "_________________________________________________________________\n"
          ]
        }
      ],
      "source": [
        "# Check the summary of conv1d_char_model\n",
        "model_3.summary()"
      ]
    },
    {
      "cell_type": "markdown",
      "id": "ec2f80eb",
      "metadata": {},
      "source": [
        "Before fitting our model on the data, we'll create char-level batched `PrefetchedDataset`'s."
      ]
    },
    {
      "cell_type": "code",
      "execution_count": 66,
      "id": "d9c49c77",
      "metadata": {},
      "outputs": [
        {
          "data": {
            "text/plain": [
              "<_PrefetchDataset element_spec=(TensorSpec(shape=(None,), dtype=tf.string, name=None), TensorSpec(shape=(None, 5), dtype=tf.float64, name=None))>"
            ]
          },
          "execution_count": 66,
          "metadata": {},
          "output_type": "execute_result"
        }
      ],
      "source": [
        "# Create char datasets\n",
        "train_char_dataset = tf.data.Dataset.from_tensor_slices((train_chars, train_labels_one_hot)).batch(32).prefetch(tf.data.AUTOTUNE)\n",
        "val_char_dataset = tf.data.Dataset.from_tensor_slices((val_chars, val_labels_one_hot)).batch(32).prefetch(tf.data.AUTOTUNE)\n",
        "\n",
        "train_char_dataset"
      ]
    },
    {
      "cell_type": "markdown",
      "id": "808667dc",
      "metadata": {},
      "source": [
        "Just like our token-level sequence model, to save time with our experiments, we'll fit the character-level model on 10% of batches."
      ]
    },
    {
      "cell_type": "code",
      "execution_count": 67,
      "id": "669ec905",
      "metadata": {},
      "outputs": [
        {
          "name": "stdout",
          "output_type": "stream",
          "text": [
            "Epoch 1/3\n"
          ]
        },
        {
          "name": "stderr",
          "output_type": "stream",
          "text": [
            "W0000 00:00:1747175947.216956    8790 gpu_timer.cc:114] Skipping the delay kernel, measurement accuracy will be reduced\n",
            "W0000 00:00:1747175947.223746    8790 gpu_timer.cc:114] Skipping the delay kernel, measurement accuracy will be reduced\n",
            "W0000 00:00:1747175947.228900    8790 gpu_timer.cc:114] Skipping the delay kernel, measurement accuracy will be reduced\n",
            "W0000 00:00:1747175947.234030    8790 gpu_timer.cc:114] Skipping the delay kernel, measurement accuracy will be reduced\n",
            "W0000 00:00:1747175947.239337    8790 gpu_timer.cc:114] Skipping the delay kernel, measurement accuracy will be reduced\n",
            "W0000 00:00:1747175947.244348    8790 gpu_timer.cc:114] Skipping the delay kernel, measurement accuracy will be reduced\n",
            "W0000 00:00:1747175947.249654    8790 gpu_timer.cc:114] Skipping the delay kernel, measurement accuracy will be reduced\n",
            "W0000 00:00:1747175947.255043    8790 gpu_timer.cc:114] Skipping the delay kernel, measurement accuracy will be reduced\n",
            "W0000 00:00:1747175947.260398    8790 gpu_timer.cc:114] Skipping the delay kernel, measurement accuracy will be reduced\n",
            "W0000 00:00:1747175947.265636    8790 gpu_timer.cc:114] Skipping the delay kernel, measurement accuracy will be reduced\n",
            "W0000 00:00:1747175947.270903    8790 gpu_timer.cc:114] Skipping the delay kernel, measurement accuracy will be reduced\n",
            "W0000 00:00:1747175947.276003    8790 gpu_timer.cc:114] Skipping the delay kernel, measurement accuracy will be reduced\n",
            "W0000 00:00:1747175947.281264    8790 gpu_timer.cc:114] Skipping the delay kernel, measurement accuracy will be reduced\n",
            "W0000 00:00:1747175947.286236    8790 gpu_timer.cc:114] Skipping the delay kernel, measurement accuracy will be reduced\n",
            "W0000 00:00:1747175947.291019    8790 gpu_timer.cc:114] Skipping the delay kernel, measurement accuracy will be reduced\n",
            "W0000 00:00:1747175947.296181    8790 gpu_timer.cc:114] Skipping the delay kernel, measurement accuracy will be reduced\n",
            "W0000 00:00:1747175947.301920    8790 gpu_timer.cc:114] Skipping the delay kernel, measurement accuracy will be reduced\n",
            "W0000 00:00:1747175947.307286    8790 gpu_timer.cc:114] Skipping the delay kernel, measurement accuracy will be reduced\n",
            "W0000 00:00:1747175947.312280    8790 gpu_timer.cc:114] Skipping the delay kernel, measurement accuracy will be reduced\n",
            "W0000 00:00:1747175947.318170    8790 gpu_timer.cc:114] Skipping the delay kernel, measurement accuracy will be reduced\n",
            "W0000 00:00:1747175947.324281    8790 gpu_timer.cc:114] Skipping the delay kernel, measurement accuracy will be reduced\n",
            "W0000 00:00:1747175947.330036    8790 gpu_timer.cc:114] Skipping the delay kernel, measurement accuracy will be reduced\n",
            "W0000 00:00:1747175947.334909    8790 gpu_timer.cc:114] Skipping the delay kernel, measurement accuracy will be reduced\n",
            "W0000 00:00:1747175947.339898    8790 gpu_timer.cc:114] Skipping the delay kernel, measurement accuracy will be reduced\n",
            "W0000 00:00:1747175947.344612    8790 gpu_timer.cc:114] Skipping the delay kernel, measurement accuracy will be reduced\n",
            "W0000 00:00:1747175947.349432    8790 gpu_timer.cc:114] Skipping the delay kernel, measurement accuracy will be reduced\n",
            "W0000 00:00:1747175947.354379    8790 gpu_timer.cc:114] Skipping the delay kernel, measurement accuracy will be reduced\n",
            "W0000 00:00:1747175947.460109    8790 gpu_timer.cc:114] Skipping the delay kernel, measurement accuracy will be reduced\n",
            "W0000 00:00:1747175947.584092    8793 gpu_timer.cc:114] Skipping the delay kernel, measurement accuracy will be reduced\n",
            "W0000 00:00:1747175947.591537    8793 gpu_timer.cc:114] Skipping the delay kernel, measurement accuracy will be reduced\n",
            "W0000 00:00:1747175947.596796    8793 gpu_timer.cc:114] Skipping the delay kernel, measurement accuracy will be reduced\n",
            "W0000 00:00:1747175947.601793    8793 gpu_timer.cc:114] Skipping the delay kernel, measurement accuracy will be reduced\n",
            "W0000 00:00:1747175947.607157    8793 gpu_timer.cc:114] Skipping the delay kernel, measurement accuracy will be reduced\n",
            "W0000 00:00:1747175947.612439    8793 gpu_timer.cc:114] Skipping the delay kernel, measurement accuracy will be reduced\n",
            "W0000 00:00:1747175947.617707    8793 gpu_timer.cc:114] Skipping the delay kernel, measurement accuracy will be reduced\n",
            "W0000 00:00:1747175947.623506    8793 gpu_timer.cc:114] Skipping the delay kernel, measurement accuracy will be reduced\n",
            "W0000 00:00:1747175947.629099    8793 gpu_timer.cc:114] Skipping the delay kernel, measurement accuracy will be reduced\n",
            "W0000 00:00:1747175947.635036    8793 gpu_timer.cc:114] Skipping the delay kernel, measurement accuracy will be reduced\n",
            "W0000 00:00:1747175947.640640    8793 gpu_timer.cc:114] Skipping the delay kernel, measurement accuracy will be reduced\n",
            "W0000 00:00:1747175947.645577    8793 gpu_timer.cc:114] Skipping the delay kernel, measurement accuracy will be reduced\n",
            "W0000 00:00:1747175947.650515    8793 gpu_timer.cc:114] Skipping the delay kernel, measurement accuracy will be reduced\n",
            "W0000 00:00:1747175947.657553    8793 gpu_timer.cc:114] Skipping the delay kernel, measurement accuracy will be reduced\n",
            "W0000 00:00:1747175947.662417    8793 gpu_timer.cc:114] Skipping the delay kernel, measurement accuracy will be reduced\n",
            "W0000 00:00:1747175947.667428    8793 gpu_timer.cc:114] Skipping the delay kernel, measurement accuracy will be reduced\n",
            "W0000 00:00:1747175947.686238    8793 gpu_timer.cc:114] Skipping the delay kernel, measurement accuracy will be reduced\n",
            "W0000 00:00:1747175947.693373    8793 gpu_timer.cc:114] Skipping the delay kernel, measurement accuracy will be reduced\n",
            "W0000 00:00:1747175947.698565    8793 gpu_timer.cc:114] Skipping the delay kernel, measurement accuracy will be reduced\n",
            "W0000 00:00:1747175947.703651    8793 gpu_timer.cc:114] Skipping the delay kernel, measurement accuracy will be reduced\n",
            "W0000 00:00:1747175947.708720    8793 gpu_timer.cc:114] Skipping the delay kernel, measurement accuracy will be reduced\n",
            "W0000 00:00:1747175947.713544    8793 gpu_timer.cc:114] Skipping the delay kernel, measurement accuracy will be reduced\n",
            "W0000 00:00:1747175947.717953    8793 gpu_timer.cc:114] Skipping the delay kernel, measurement accuracy will be reduced\n",
            "W0000 00:00:1747175947.722161    8793 gpu_timer.cc:114] Skipping the delay kernel, measurement accuracy will be reduced\n",
            "W0000 00:00:1747175947.728403    8793 gpu_timer.cc:114] Skipping the delay kernel, measurement accuracy will be reduced\n",
            "W0000 00:00:1747175947.733534    8793 gpu_timer.cc:114] Skipping the delay kernel, measurement accuracy will be reduced\n",
            "W0000 00:00:1747175947.740034    8793 gpu_timer.cc:114] Skipping the delay kernel, measurement accuracy will be reduced\n",
            "W0000 00:00:1747175947.745397    8793 gpu_timer.cc:114] Skipping the delay kernel, measurement accuracy will be reduced\n",
            "W0000 00:00:1747175947.759923    8793 gpu_timer.cc:114] Skipping the delay kernel, measurement accuracy will be reduced\n",
            "W0000 00:00:1747175947.767442    8793 gpu_timer.cc:114] Skipping the delay kernel, measurement accuracy will be reduced\n",
            "W0000 00:00:1747175947.774413    8793 gpu_timer.cc:114] Skipping the delay kernel, measurement accuracy will be reduced\n",
            "W0000 00:00:1747175947.780659    8793 gpu_timer.cc:114] Skipping the delay kernel, measurement accuracy will be reduced\n"
          ]
        },
        {
          "name": "stdout",
          "output_type": "stream",
          "text": [
            "558/562 [============================>.] - ETA: 0s - loss: 1.2743 - accuracy: 0.4868"
          ]
        },
        {
          "name": "stderr",
          "output_type": "stream",
          "text": [
            "W0000 00:00:1747175952.511635    8772 gpu_timer.cc:114] Skipping the delay kernel, measurement accuracy will be reduced\n",
            "W0000 00:00:1747175952.773904    8772 gpu_timer.cc:114] Skipping the delay kernel, measurement accuracy will be reduced\n",
            "W0000 00:00:1747175952.778323    8772 gpu_timer.cc:114] Skipping the delay kernel, measurement accuracy will be reduced\n",
            "W0000 00:00:1747175952.782560    8772 gpu_timer.cc:114] Skipping the delay kernel, measurement accuracy will be reduced\n",
            "W0000 00:00:1747175952.786994    8772 gpu_timer.cc:114] Skipping the delay kernel, measurement accuracy will be reduced\n",
            "W0000 00:00:1747175952.791393    8772 gpu_timer.cc:114] Skipping the delay kernel, measurement accuracy will be reduced\n",
            "W0000 00:00:1747175952.795845    8772 gpu_timer.cc:114] Skipping the delay kernel, measurement accuracy will be reduced\n",
            "W0000 00:00:1747175952.800111    8772 gpu_timer.cc:114] Skipping the delay kernel, measurement accuracy will be reduced\n",
            "W0000 00:00:1747175952.804753    8772 gpu_timer.cc:114] Skipping the delay kernel, measurement accuracy will be reduced\n",
            "W0000 00:00:1747175952.809167    8772 gpu_timer.cc:114] Skipping the delay kernel, measurement accuracy will be reduced\n",
            "W0000 00:00:1747175952.813359    8772 gpu_timer.cc:114] Skipping the delay kernel, measurement accuracy will be reduced\n",
            "W0000 00:00:1747175952.817763    8772 gpu_timer.cc:114] Skipping the delay kernel, measurement accuracy will be reduced\n",
            "W0000 00:00:1747175952.822479    8772 gpu_timer.cc:114] Skipping the delay kernel, measurement accuracy will be reduced\n",
            "W0000 00:00:1747175952.827281    8772 gpu_timer.cc:114] Skipping the delay kernel, measurement accuracy will be reduced\n",
            "W0000 00:00:1747175952.831938    8772 gpu_timer.cc:114] Skipping the delay kernel, measurement accuracy will be reduced\n",
            "W0000 00:00:1747175952.836435    8772 gpu_timer.cc:114] Skipping the delay kernel, measurement accuracy will be reduced\n",
            "W0000 00:00:1747175952.841034    8772 gpu_timer.cc:114] Skipping the delay kernel, measurement accuracy will be reduced\n",
            "W0000 00:00:1747175952.845772    8772 gpu_timer.cc:114] Skipping the delay kernel, measurement accuracy will be reduced\n",
            "W0000 00:00:1747175952.850415    8772 gpu_timer.cc:114] Skipping the delay kernel, measurement accuracy will be reduced\n",
            "W0000 00:00:1747175952.855289    8772 gpu_timer.cc:114] Skipping the delay kernel, measurement accuracy will be reduced\n",
            "W0000 00:00:1747175952.860446    8772 gpu_timer.cc:114] Skipping the delay kernel, measurement accuracy will be reduced\n",
            "W0000 00:00:1747175952.865468    8772 gpu_timer.cc:114] Skipping the delay kernel, measurement accuracy will be reduced\n",
            "W0000 00:00:1747175952.870842    8772 gpu_timer.cc:114] Skipping the delay kernel, measurement accuracy will be reduced\n",
            "W0000 00:00:1747175952.875495    8772 gpu_timer.cc:114] Skipping the delay kernel, measurement accuracy will be reduced\n",
            "W0000 00:00:1747175952.881324    8772 gpu_timer.cc:114] Skipping the delay kernel, measurement accuracy will be reduced\n"
          ]
        },
        {
          "name": "stdout",
          "output_type": "stream",
          "text": [
            "562/562 [==============================] - 6s 10ms/step - loss: 1.2719 - accuracy: 0.4877 - val_loss: 1.0467 - val_accuracy: 0.5828\n",
            "Epoch 2/3\n",
            "562/562 [==============================] - 5s 9ms/step - loss: 0.9916 - accuracy: 0.6028 - val_loss: 0.9394 - val_accuracy: 0.6217\n",
            "Epoch 3/3\n",
            "562/562 [==============================] - 5s 9ms/step - loss: 0.9270 - accuracy: 0.6290 - val_loss: 0.8743 - val_accuracy: 0.6516\n"
          ]
        }
      ],
      "source": [
        "# Fit the model on chars only\n",
        "model_3_history = model_3.fit(train_char_dataset,\n",
        "                              steps_per_epoch=int(0.1 * len(train_char_dataset)),\n",
        "                              epochs=3,\n",
        "                              validation_data=val_char_dataset,\n",
        "                              validation_steps=int(0.1 * len(val_char_dataset)))"
      ]
    },
    {
      "cell_type": "code",
      "execution_count": 68,
      "id": "a211a6ef",
      "metadata": {},
      "outputs": [
        {
          "name": "stdout",
          "output_type": "stream",
          "text": [
            "945/945 [==============================] - 5s 5ms/step - loss: 0.8909 - accuracy: 0.6495\n"
          ]
        },
        {
          "name": "stderr",
          "output_type": "stream",
          "text": [
            "W0000 00:00:1747175968.597445    8787 gpu_timer.cc:114] Skipping the delay kernel, measurement accuracy will be reduced\n",
            "W0000 00:00:1747175968.602441    8787 gpu_timer.cc:114] Skipping the delay kernel, measurement accuracy will be reduced\n",
            "W0000 00:00:1747175968.606379    8787 gpu_timer.cc:114] Skipping the delay kernel, measurement accuracy will be reduced\n",
            "W0000 00:00:1747175968.609715    8787 gpu_timer.cc:114] Skipping the delay kernel, measurement accuracy will be reduced\n",
            "W0000 00:00:1747175968.613535    8787 gpu_timer.cc:114] Skipping the delay kernel, measurement accuracy will be reduced\n",
            "W0000 00:00:1747175968.616883    8787 gpu_timer.cc:114] Skipping the delay kernel, measurement accuracy will be reduced\n",
            "W0000 00:00:1747175968.620749    8787 gpu_timer.cc:114] Skipping the delay kernel, measurement accuracy will be reduced\n",
            "W0000 00:00:1747175968.624403    8787 gpu_timer.cc:114] Skipping the delay kernel, measurement accuracy will be reduced\n",
            "W0000 00:00:1747175968.628503    8787 gpu_timer.cc:114] Skipping the delay kernel, measurement accuracy will be reduced\n",
            "W0000 00:00:1747175968.631989    8787 gpu_timer.cc:114] Skipping the delay kernel, measurement accuracy will be reduced\n",
            "W0000 00:00:1747175968.635609    8787 gpu_timer.cc:114] Skipping the delay kernel, measurement accuracy will be reduced\n",
            "W0000 00:00:1747175968.639630    8787 gpu_timer.cc:114] Skipping the delay kernel, measurement accuracy will be reduced\n",
            "W0000 00:00:1747175968.643760    8787 gpu_timer.cc:114] Skipping the delay kernel, measurement accuracy will be reduced\n",
            "W0000 00:00:1747175968.647495    8787 gpu_timer.cc:114] Skipping the delay kernel, measurement accuracy will be reduced\n",
            "W0000 00:00:1747175968.651220    8787 gpu_timer.cc:114] Skipping the delay kernel, measurement accuracy will be reduced\n",
            "W0000 00:00:1747175968.654784    8787 gpu_timer.cc:114] Skipping the delay kernel, measurement accuracy will be reduced\n",
            "W0000 00:00:1747175968.658970    8787 gpu_timer.cc:114] Skipping the delay kernel, measurement accuracy will be reduced\n",
            "W0000 00:00:1747175968.662979    8787 gpu_timer.cc:114] Skipping the delay kernel, measurement accuracy will be reduced\n",
            "W0000 00:00:1747175968.666637    8787 gpu_timer.cc:114] Skipping the delay kernel, measurement accuracy will be reduced\n",
            "W0000 00:00:1747175968.670532    8787 gpu_timer.cc:114] Skipping the delay kernel, measurement accuracy will be reduced\n",
            "W0000 00:00:1747175968.674389    8787 gpu_timer.cc:114] Skipping the delay kernel, measurement accuracy will be reduced\n",
            "W0000 00:00:1747175968.678763    8787 gpu_timer.cc:114] Skipping the delay kernel, measurement accuracy will be reduced\n",
            "W0000 00:00:1747175968.683565    8787 gpu_timer.cc:114] Skipping the delay kernel, measurement accuracy will be reduced\n",
            "W0000 00:00:1747175968.687106    8787 gpu_timer.cc:114] Skipping the delay kernel, measurement accuracy will be reduced\n",
            "W0000 00:00:1747175968.690496    8787 gpu_timer.cc:114] Skipping the delay kernel, measurement accuracy will be reduced\n"
          ]
        },
        {
          "data": {
            "text/plain": [
              "[0.8909382224082947, 0.6495432257652283]"
            ]
          },
          "execution_count": 68,
          "metadata": {},
          "output_type": "execute_result"
        }
      ],
      "source": [
        "# Evaluate model_3 on whole validation char dataset\n",
        "model_3.evaluate(val_char_dataset)"
      ]
    },
    {
      "cell_type": "code",
      "execution_count": 69,
      "id": "db138336",
      "metadata": {},
      "outputs": [
        {
          "name": "stdout",
          "output_type": "stream",
          "text": [
            "945/945 [==============================] - 3s 3ms/step\n"
          ]
        },
        {
          "data": {
            "text/plain": [
              "array([[0.1631834 , 0.3802896 , 0.08402724, 0.36167955, 0.01082019],\n",
              "       [0.22718267, 0.44856453, 0.0118377 , 0.2933386 , 0.01907649],\n",
              "       [0.14936242, 0.21952327, 0.11071415, 0.46606898, 0.05433118],\n",
              "       ...,\n",
              "       [0.01392196, 0.05164029, 0.1769422 , 0.03182864, 0.72566694],\n",
              "       [0.04391636, 0.13417636, 0.32308137, 0.07541531, 0.4234106 ],\n",
              "       [0.4637399 , 0.37976673, 0.04551943, 0.0997377 , 0.01123624]],\n",
              "      dtype=float32)"
            ]
          },
          "execution_count": 69,
          "metadata": {},
          "output_type": "execute_result"
        }
      ],
      "source": [
        "# Make predictions with character model only\n",
        "model_3_pred_probs = model_3.predict(val_char_dataset)\n",
        "model_3_pred_probs"
      ]
    },
    {
      "cell_type": "code",
      "execution_count": 70,
      "id": "e582a7dd",
      "metadata": {},
      "outputs": [
        {
          "data": {
            "text/plain": [
              "<tf.Tensor: shape=(30212,), dtype=int64, numpy=array([1, 1, 3, ..., 4, 4, 0])>"
            ]
          },
          "execution_count": 70,
          "metadata": {},
          "output_type": "execute_result"
        }
      ],
      "source": [
        "# Convert predictions to classes\n",
        "model_3_preds = tf.argmax(model_3_pred_probs, axis=1)\n",
        "model_3_preds"
      ]
    },
    {
      "cell_type": "code",
      "execution_count": 71,
      "id": "8a1d7502",
      "metadata": {},
      "outputs": [
        {
          "data": {
            "text/plain": [
              "{'accuracy': 64.95432278564809,\n",
              " 'precision': 0.6459162101831284,\n",
              " 'recall': 0.6495432278564809,\n",
              " 'f1': 0.6407914145032758}"
            ]
          },
          "execution_count": 71,
          "metadata": {},
          "output_type": "execute_result"
        }
      ],
      "source": [
        "# Calculate Conv1D char only model results\n",
        "model_3_results = calculate_results(y_true=val_labels_encoded, y_pred=model_3_preds)\n",
        "model_3_results"
      ]
    },
    {
      "cell_type": "markdown",
      "id": "3dee0691",
      "metadata": {},
      "source": [
        "## Model 4: Combining pretrained token embeddings + character embeddings (hybrid embedding layer)\n",
        "\n",
        "Alright, now things are going to get spicy.\n",
        "\n",
        "In moving closer to build a model similar to the one in Figure 1 of [*Neural Networks for Joint Sentence Classification\n",
        "in Medical Paper Abstracts*](https://arxiv.org/pdf/1612.05251.pdf), it's time we tackled the hybrid token embedding layer they speak of.\n",
        "\n",
        "This hybrid token embedding layer is a combination of token embeddings and character embeddings. In other words, they create a stacked embedding to represent sequences before passing them to the sequence label prediction layer.\n",
        "\n",
        "So far we've built two models which have used token and character-level embeddings, however, these two models have used each of these embeddings exclusively.\n",
        "\n",
        "To start replicating (or getting close to replicating) the model in Figure 1, we're going to go through the following steps:\n",
        "1. Create a token-level model (similar to `model_1`)\n",
        "2. Create a character-level model (similar to `model_3` with a slight modification to reflect the paper)\n",
        "3. Combine (using [`layers.Concatenate`](https://www.tensorflow.org/api_docs/python/tf/keras/layers/Concatenate)) the outputs of 1 and 2\n",
        "4. Build a series of output layers on top of 3 similar to Figure 1 and section 4.2 of [*Neural Networks for Joint Sentence Classification\n",
        "in Medical Paper Abstracts*](https://arxiv.org/pdf/1612.05251.pdf)\n",
        "5. Construct a model which takes token and character-level sequences as input and produces sequence label probabilities as output"
      ]
    },
    {
      "cell_type": "code",
      "execution_count": 72,
      "id": "722c5762",
      "metadata": {},
      "outputs": [],
      "source": [
        "# 1. Setup token inputs/model\n",
        "token_inputs = layers.Input(shape=[], dtype=tf.string, name=\"token_input\")\n",
        "token_embeddings = tf_hub_embedding_layer(token_inputs)\n",
        "token_output = layers.Dense(128, activation=\"relu\")(token_embeddings)\n",
        "token_model = keras.Model(inputs=token_inputs, outputs=token_output)\n",
        "\n",
        "# 2. Setup char inputs/model\n",
        "char_inputs = layers.Input(shape=(1,), dtype=tf.string, name=\"char_input\")\n",
        "char_vectors = char_vectorizer(char_inputs)\n",
        "char_embeddings = char_embed(char_vectors)\n",
        "char_bi_lstm = layers.Bidirectional(layers.LSTM(25))(char_embeddings)  # bi-LSTM shown in Figure 1 of https://arxiv.org/pdf/1612.05251.pdf\n",
        "char_model = keras.Model(inputs=char_inputs, outputs=char_bi_lstm)\n",
        "\n",
        "# 3. Concatenate token and char inputs (create hybrid token embedding)\n",
        "token_char_concat = layers.Concatenate(name=\"token_char_hybrid\")([token_model.output, char_model.output])\n",
        "\n",
        "# 4. Create output layers - addition of dropout discussed in 4.2 of https://arxiv.org/pdf/1612.05251.pdf\n",
        "combined_dropout = layers.Dropout(0.5)(token_char_concat)\n",
        "combined_dense = layers.Dense(200, activation=\"relu\")(\n",
        "    combined_dropout)  # slightly different to Figure 1 due to different shapes of token/char embedding layers\n",
        "final_dropout = layers.Dropout(0.5)(combined_dense)\n",
        "output_layer = layers.Dense(num_classes, activation=\"softmax\")(final_dropout)\n",
        "\n",
        "# 5. Construct model with char and token inputs\n",
        "model_4 = keras.Model(inputs=[token_model.input, char_model.input], outputs=output_layer, name=\"model_4_token_and_char_embeddings\")"
      ]
    },
    {
      "cell_type": "markdown",
      "id": "500e20f9",
      "metadata": {},
      "source": [
        "Woah... There's a lot going on here, let's get a summary and plot our model to visualize what's happening."
      ]
    },
    {
      "cell_type": "code",
      "execution_count": 73,
      "id": "f9626475",
      "metadata": {},
      "outputs": [
        {
          "name": "stdout",
          "output_type": "stream",
          "text": [
            "Model: \"model_4_token_and_char_embeddings\"\n",
            "__________________________________________________________________________________________________\n",
            " Layer (type)                Output Shape                 Param #   Connected to                  \n",
            "==================================================================================================\n",
            " char_input (InputLayer)     [(None, 1)]                  0         []                            \n",
            "                                                                                                  \n",
            " token_input (InputLayer)    [(None,)]                    0         []                            \n",
            "                                                                                                  \n",
            " char_vectorizer (TextVecto  (None, 290)                  0         ['char_input[0][0]']          \n",
            " rization)                                                                                        \n",
            "                                                                                                  \n",
            " universal_sentence_encoder  (None, 512)                  2567978   ['token_input[0][0]']         \n",
            "  (KerasLayer)                                            24                                      \n",
            "                                                                                                  \n",
            " char_embed (Embedding)      (None, 290, 25)              1750      ['char_vectorizer[1][0]']     \n",
            "                                                                                                  \n",
            " dense_4 (Dense)             (None, 128)                  65664     ['universal_sentence_encoder[1\n",
            "                                                                    ][0]']                        \n",
            "                                                                                                  \n",
            " bidirectional (Bidirection  (None, 50)                   10200     ['char_embed[1][0]']          \n",
            " al)                                                                                              \n",
            "                                                                                                  \n",
            " token_char_hybrid (Concate  (None, 178)                  0         ['dense_4[0][0]',             \n",
            " nate)                                                               'bidirectional[0][0]']       \n",
            "                                                                                                  \n",
            " dropout (Dropout)           (None, 178)                  0         ['token_char_hybrid[0][0]']   \n",
            "                                                                                                  \n",
            " dense_5 (Dense)             (None, 200)                  35800     ['dropout[0][0]']             \n",
            "                                                                                                  \n",
            " dropout_1 (Dropout)         (None, 200)                  0         ['dense_5[0][0]']             \n",
            "                                                                                                  \n",
            " dense_6 (Dense)             (None, 5)                    1005      ['dropout_1[0][0]']           \n",
            "                                                                                                  \n",
            "==================================================================================================\n",
            "Total params: 256912243 (980.04 MB)\n",
            "Trainable params: 114419 (446.95 KB)\n",
            "Non-trainable params: 256797824 (979.61 MB)\n",
            "__________________________________________________________________________________________________\n"
          ]
        }
      ],
      "source": [
        "# Get summary of token and character model\n",
        "model_4.summary()"
      ]
    },
    {
      "cell_type": "code",
      "execution_count": 74,
      "id": "8d0b0c15",
      "metadata": {},
      "outputs": [
        {
          "data": {
            "image/png": "[encoded data removed]",
            "text/plain": [
              "<IPython.core.display.Image object>"
            ]
          },
          "execution_count": 74,
          "metadata": {},
          "output_type": "execute_result"
        }
      ],
      "source": [
        "# Plot hybrid token and character model\n",
        "keras.utils.plot_model(model_4, show_shapes=True)"
      ]
    },
    {
      "cell_type": "markdown",
      "id": "d3cac132",
      "metadata": {},
      "source": [
        "Now that's a good looking model. Let's compile it just as we have the rest of our models.\n",
        "\n",
        "> 🔑 **Note:** Section 4.2 of [*Neural Networks for Joint Sentence Classification\n",
        "in Medical Paper Abstracts*](https://arxiv.org/pdf/1612.05251.pdf) mentions using the SGD (stochastic gradient descent) optimizer, however, to stay consistent with our other models, we're going to use the Adam optimizer. As an exercise, you could try using [`keras.optimizers.SGD`](https://www.tensorflow.org/api_docs/python/tf/keras/optimizers/SGD) instead of [`keras.optimizers.Adam`](https://www.tensorflow.org/api_docs/python/tf/keras/optimizers/Adam) and compare the results."
      ]
    },
    {
      "cell_type": "code",
      "execution_count": 75,
      "id": "5faa1aeb",
      "metadata": {},
      "outputs": [],
      "source": [
        "# Compile token char model\n",
        "model_4.compile(\n",
        "    loss=\"categorical_crossentropy\",\n",
        "    optimizer=keras.optimizers.Adam(\n",
        "    ),  # section 4.2 of https://arxiv.org/pdf/1612.05251.pdf mentions using SGD but we'll stick with Adam\n",
        "    metrics=[\"accuracy\"])"
      ]
    },
    {
      "cell_type": "markdown",
      "id": "a71cf732",
      "metadata": {},
      "source": [
        "And again, to keep our experiments fast, we'll fit our token-character-hybrid model on 10% of training and validate on 10% of validation batches. However, the difference with this model is that it requires two inputs, token-level sequences and character-level sequences.\n",
        "\n",
        "We can do this by create a `tf.data.Dataset` with a tuple as it's first input, for example:\n",
        "* `((token_data, char_data), (label))`\n",
        "\n",
        "Let's see it in action."
      ]
    },
    {
      "cell_type": "markdown",
      "id": "816e0e39",
      "metadata": {},
      "source": [
        "### Combining token and character data into a `tf.data` dataset"
      ]
    },
    {
      "cell_type": "code",
      "execution_count": 76,
      "id": "861bcfc5",
      "metadata": {},
      "outputs": [],
      "source": [
        "# Combine chars and tokens into a dataset\n",
        "train_char_token_data = tf.data.Dataset.from_tensor_slices((train_sentences, train_chars))  # make data\n",
        "train_char_token_labels = tf.data.Dataset.from_tensor_slices(train_labels_one_hot)  # make labels\n",
        "train_char_token_dataset = tf.data.Dataset.zip((train_char_token_data, train_char_token_labels))  # combine data and labels\n",
        "\n",
        "# Prefetch and batch train data\n",
        "train_char_token_dataset = train_char_token_dataset.batch(32).prefetch(tf.data.AUTOTUNE)\n",
        "\n",
        "# Repeat same steps validation data\n",
        "val_char_token_data = tf.data.Dataset.from_tensor_slices((val_sentences, val_chars))\n",
        "val_char_token_labels = tf.data.Dataset.from_tensor_slices(val_labels_one_hot)\n",
        "val_char_token_dataset = tf.data.Dataset.zip((val_char_token_data, val_char_token_labels))\n",
        "val_char_token_dataset = val_char_token_dataset.batch(32).prefetch(tf.data.AUTOTUNE)"
      ]
    },
    {
      "cell_type": "code",
      "execution_count": 77,
      "id": "077e4853",
      "metadata": {},
      "outputs": [
        {
          "data": {
            "text/plain": [
              "(<_PrefetchDataset element_spec=((TensorSpec(shape=(None,), dtype=tf.string, name=None), TensorSpec(shape=(None,), dtype=tf.string, name=None)), TensorSpec(shape=(None, 5), dtype=tf.float64, name=None))>,\n",
              " <_PrefetchDataset element_spec=((TensorSpec(shape=(None,), dtype=tf.string, name=None), TensorSpec(shape=(None,), dtype=tf.string, name=None)), TensorSpec(shape=(None, 5), dtype=tf.float64, name=None))>)"
            ]
          },
          "execution_count": 77,
          "metadata": {},
          "output_type": "execute_result"
        }
      ],
      "source": [
        "# Check out training char and token embedding dataset\n",
        "train_char_token_dataset, val_char_token_dataset"
      ]
    },
    {
      "cell_type": "markdown",
      "id": "8250b3ae",
      "metadata": {},
      "source": [
        "### Fitting a model on token and character-level sequences"
      ]
    },
    {
      "cell_type": "code",
      "execution_count": 78,
      "id": "db97ea96",
      "metadata": {},
      "outputs": [
        {
          "name": "stdout",
          "output_type": "stream",
          "text": [
            "Epoch 1/3\n"
          ]
        },
        {
          "name": "stdout",
          "output_type": "stream",
          "text": [
            "562/562 [==============================] - 37s 61ms/step - loss: 0.9727 - accuracy: 0.6132 - val_loss: 0.7811 - val_accuracy: 0.6965\n",
            "Epoch 2/3\n",
            "562/562 [==============================] - 36s 64ms/step - loss: 0.7941 - accuracy: 0.6938 - val_loss: 0.7116 - val_accuracy: 0.7340\n",
            "Epoch 3/3\n",
            "562/562 [==============================] - 39s 69ms/step - loss: 0.7686 - accuracy: 0.7035 - val_loss: 0.6843 - val_accuracy: 0.7447\n"
          ]
        }
      ],
      "source": [
        "# Fit the model on tokens and chars\n",
        "model_4_history = model_4.fit(\n",
        "    train_char_token_dataset,  # train on dataset of token and characters\n",
        "    steps_per_epoch=int(0.1 * len(train_char_token_dataset)),\n",
        "    epochs=3,\n",
        "    validation_data=val_char_token_dataset,\n",
        "    validation_steps=int(0.1 * len(val_char_token_dataset)))"
      ]
    },
    {
      "cell_type": "code",
      "execution_count": 79,
      "id": "2fcaf905",
      "metadata": {},
      "outputs": [
        {
          "name": "stdout",
          "output_type": "stream",
          "text": [
            "945/945 [==============================] - 35s 37ms/step - loss: 0.6962 - accuracy: 0.7350\n"
          ]
        },
        {
          "data": {
            "text/plain": [
              "[0.6961896419525146, 0.7350390553474426]"
            ]
          },
          "execution_count": 79,
          "metadata": {},
          "output_type": "execute_result"
        }
      ],
      "source": [
        "# Evaluate on the whole validation dataset\n",
        "model_4.evaluate(val_char_token_dataset)"
      ]
    },
    {
      "cell_type": "markdown",
      "id": "8f6f0204",
      "metadata": {},
      "source": [
        "Nice! Our token-character hybrid model has come to life!\n",
        "\n",
        "To make predictions with it, since it takes multiplie inputs, we can pass the `predict()` method a tuple of token-level sequences and character-level sequences.\n",
        "\n",
        "We can then evaluate the predictions as we've done before.\n"
      ]
    },
    {
      "cell_type": "code",
      "execution_count": 80,
      "id": "4f78388d",
      "metadata": {},
      "outputs": [
        {
          "name": "stdout",
          "output_type": "stream",
          "text": [
            "945/945 [==============================] - 34s 35ms/step\n"
          ]
        },
        {
          "data": {
            "text/plain": [
              "array([[3.9686966e-01, 3.6383677e-01, 3.7215760e-03, 2.3132759e-01,\n",
              "        4.2444128e-03],\n",
              "       [3.3285713e-01, 4.7028321e-01, 2.4173316e-03, 1.9362901e-01,\n",
              "        8.1334048e-04],\n",
              "       [3.1433368e-01, 1.0710915e-01, 4.3511480e-02, 5.0745517e-01,\n",
              "        2.7590523e-02],\n",
              "       ...,\n",
              "       [7.2276610e-04, 8.5334405e-03, 8.2749598e-02, 2.1685754e-04,\n",
              "        9.0777737e-01],\n",
              "       [5.5299085e-03, 4.9312804e-02, 2.2708745e-01, 2.4627394e-03,\n",
              "        7.1560705e-01],\n",
              "       [3.6366203e-01, 4.2470336e-01, 1.4598848e-01, 2.9927514e-02,\n",
              "        3.5718665e-02]], dtype=float32)"
            ]
          },
          "execution_count": 80,
          "metadata": {},
          "output_type": "execute_result"
        }
      ],
      "source": [
        "# Make predictions using the token-character model hybrid\n",
        "model_4_pred_probs = model_4.predict(val_char_token_dataset)\n",
        "model_4_pred_probs"
      ]
    },
    {
      "cell_type": "code",
      "execution_count": 81,
      "id": "cfa96095",
      "metadata": {},
      "outputs": [
        {
          "data": {
            "text/plain": [
              "<tf.Tensor: shape=(30212,), dtype=int64, numpy=array([0, 1, 3, ..., 4, 4, 1])>"
            ]
          },
          "execution_count": 81,
          "metadata": {},
          "output_type": "execute_result"
        }
      ],
      "source": [
        "# Turn prediction probabilities into prediction classes\n",
        "model_4_preds = tf.argmax(model_4_pred_probs, axis=1)\n",
        "model_4_preds"
      ]
    },
    {
      "cell_type": "code",
      "execution_count": 82,
      "id": "c5f243fe",
      "metadata": {},
      "outputs": [
        {
          "data": {
            "text/plain": [
              "{'accuracy': 73.5039057328214,\n",
              " 'precision': 0.7357594434255749,\n",
              " 'recall': 0.735039057328214,\n",
              " 'f1': 0.7331264389628003}"
            ]
          },
          "execution_count": 82,
          "metadata": {},
          "output_type": "execute_result"
        }
      ],
      "source": [
        "# Get results of token-char-hybrid model\n",
        "model_4_results = calculate_results(y_true=val_labels_encoded, y_pred=model_4_preds)\n",
        "model_4_results"
      ]
    },
    {
      "cell_type": "markdown",
      "id": "8c2f2935",
      "metadata": {},
      "source": [
        "## Model 5: Transfer Learning with pretrained token embeddings + character embeddings + positional embeddings \n",
        "\n",
        "It seems like combining token embeddings and character embeddings gave our model a little performance boost.\n",
        "\n",
        "But there's one more piece of the puzzle we can add in.\n",
        "\n",
        "What if we engineered our own features into the model?\n",
        "\n",
        "Meaning, what if we took our own knowledge about the data and encoded it in a numerical way to give our model more information about our samples?\n",
        "\n",
        "The process of applying your own knowledge to build features as input to a model is called **feature engineering**.\n",
        "\n",
        "Can you think of something important about the sequences we're trying to classify?\n",
        "\n",
        "If you were to look at an abstract, would you expect the sentences to appear in order? Or does it make sense if they were to appear sequentially? For example, sequences labelled `CONCLUSIONS` at the beginning and sequences labelled `OBJECTIVE` at the end?\n",
        "\n",
        "Abstracts typically come in a sequential order, such as:\n",
        "* `OBJECTIVE` ...\n",
        "* `METHODS` ...\n",
        "* `METHODS` ...\n",
        "* `METHODS` ...\n",
        "* `RESULTS` ...\n",
        "* `CONCLUSIONS` ...\n",
        "\n",
        "Or\n",
        "\n",
        "* `BACKGROUND` ...\n",
        "* `OBJECTIVE` ...\n",
        "* `METHODS` ...\n",
        "* `METHODS` ...\n",
        "* `RESULTS` ...\n",
        "* `RESULTS` ...\n",
        "* `CONCLUSIONS` ...\n",
        "* `CONCLUSIONS` ...\n",
        "\n",
        "Of course, we can't engineer the sequence labels themselves into the training data (we don't have these at test time), but we can encode the order of a set of sequences in an abstract.\n",
        "\n",
        "For example,\n",
        "* `Sentence 1 of 10` ...\n",
        "* `Sentence 2 of 10` ...\n",
        "* `Sentence 3 of 10` ...\n",
        "* `Sentence 4 of 10` ...\n",
        "* ...\n",
        "\n",
        "\n",
        "You might've noticed this when we created our `preprocess_text_with_line_numbers()` function. When we read in a text file of abstracts, we counted the number of lines in an abstract as well as the number of each line itself.\n",
        "\n",
        "Doing this led to the `\"line_number\"` and `\"total_lines\"` columns of our DataFrames."
      ]
    },
    {
      "cell_type": "code",
      "execution_count": 83,
      "id": "fbdc863e",
      "metadata": {},
      "outputs": [
        {
          "data": {
            "text/html": [
              "<div>\n",
              "<style scoped>\n",
              "    .dataframe tbody tr th:only-of-type {\n",
              "        vertical-align: middle;\n",
              "    }\n",
              "\n",
              "    .dataframe tbody tr th {\n",
              "        vertical-align: top;\n",
              "    }\n",
              "\n",
              "    .dataframe thead th {\n",
              "        text-align: right;\n",
              "    }\n",
              "</style>\n",
              "<table border=\"1\" class=\"dataframe\">\n",
              "  <thead>\n",
              "    <tr style=\"text-align: right;\">\n",
              "      <th></th>\n",
              "      <th>target</th>\n",
              "      <th>text</th>\n",
              "      <th>line_number</th>\n",
              "      <th>total_lines</th>\n",
              "    </tr>\n",
              "  </thead>\n",
              "  <tbody>\n",
              "    <tr>\n",
              "      <th>0</th>\n",
              "      <td>OBJECTIVE</td>\n",
              "      <td>to investigate the efficacy of @ weeks of dail...</td>\n",
              "      <td>0</td>\n",
              "      <td>11</td>\n",
              "    </tr>\n",
              "    <tr>\n",
              "      <th>1</th>\n",
              "      <td>METHODS</td>\n",
              "      <td>a total of @ patients with primary knee oa wer...</td>\n",
              "      <td>1</td>\n",
              "      <td>11</td>\n",
              "    </tr>\n",
              "    <tr>\n",
              "      <th>2</th>\n",
              "      <td>METHODS</td>\n",
              "      <td>outcome measures included pain reduction and i...</td>\n",
              "      <td>2</td>\n",
              "      <td>11</td>\n",
              "    </tr>\n",
              "    <tr>\n",
              "      <th>3</th>\n",
              "      <td>METHODS</td>\n",
              "      <td>pain was assessed using the visual analog pain...</td>\n",
              "      <td>3</td>\n",
              "      <td>11</td>\n",
              "    </tr>\n",
              "    <tr>\n",
              "      <th>4</th>\n",
              "      <td>METHODS</td>\n",
              "      <td>secondary outcome measures included the wester...</td>\n",
              "      <td>4</td>\n",
              "      <td>11</td>\n",
              "    </tr>\n",
              "  </tbody>\n",
              "</table>\n",
              "</div>"
            ],
            "text/plain": [
              "      target                                               text  line_number  \\\n",
              "0  OBJECTIVE  to investigate the efficacy of @ weeks of dail...            0   \n",
              "1    METHODS  a total of @ patients with primary knee oa wer...            1   \n",
              "2    METHODS  outcome measures included pain reduction and i...            2   \n",
              "3    METHODS  pain was assessed using the visual analog pain...            3   \n",
              "4    METHODS  secondary outcome measures included the wester...            4   \n",
              "\n",
              "   total_lines  \n",
              "0           11  \n",
              "1           11  \n",
              "2           11  \n",
              "3           11  \n",
              "4           11  "
            ]
          },
          "execution_count": 83,
          "metadata": {},
          "output_type": "execute_result"
        }
      ],
      "source": [
        "# Inspect training dataframe\n",
        "train_df.head()"
      ]
    },
    {
      "cell_type": "markdown",
      "id": "09ce80da",
      "metadata": {},
      "source": [
        "The `\"line_number\"` and `\"total_lines\"` columns are features which didn't necessarily come with the training data but can be passed to our model as a **positional embedding**. In other words, the positional embedding is where the sentence appears in an abstract.\n",
        "\n",
        "We can use these features because they will be available at test time. \n",
        "\n",
        "![example of engineering features into our dataset to help our model](https://raw.githubusercontent.com/mrdbourke/tensorflow-deep-learning/main/images/09-engineered-features-at-test-time.png)\n",
        "*Since abstracts typically have a sequential order about them (for example, background, objective, methods, results, conclusion), it makes sense to add the line number of where a particular sentence occurs to our model. The beautiful thing is, these features will be available at test time (we can just count the number of sentences in an abstract and the number of each one).*\n",
        "\n",
        "Meaning, if we were to predict the labels of sequences in an abstract our model had never seen, we could count the number of lines and the track the position of each individual line and pass it to our model.\n",
        "\n",
        "> 🛠 **Exercise:** Another way of creating our positional embedding feature would be to combine the `\"line_number\"` and `\"total_lines\"` columns into one, for example a `\"line_position\"` column may contain values like `1_of_11`, `2_of_11`, etc. Where `1_of_11` would be the first line in an abstract 11 sentences long. After going through the following steps, you might want to revisit this positional embedding stage and see how a combined column of `\"line_position\"` goes against two separate columns."
      ]
    },
    {
      "cell_type": "markdown",
      "id": "da10ae43",
      "metadata": {},
      "source": [
        "### Create positional embeddings\n",
        "\n",
        "Okay, enough talk about positional embeddings, let's create them.\n",
        "\n",
        "Since our `\"line_number\"` and `\"total_line\"` columns are already numerical, we could pass them as they are to our model.\n",
        "\n",
        "But to avoid our model thinking a line with `\"line_number\"=5` is five times greater than a line with `\"line_number\"=1`, we'll use one-hot-encoding to encode our `\"line_number\"` and `\"total_lines\"` features.\n",
        "\n",
        "To do this, we can use the [`tf.one_hot`](https://www.tensorflow.org/api_docs/python/tf/one_hot) utility.\n",
        "\n",
        "`tf.one_hot` returns a one-hot-encoded tensor. It accepts an array (or tensor) as input and the `depth` parameter determines the dimension of the returned tensor.\n",
        "\n",
        "To figure out what we should set the `depth` parameter to, let's investigate the distribution of the `\"line_number\"` column.\n",
        "\n",
        "> 🔑 **Note:** When it comes to one-hot-encoding our features, Scikit-Learn's [`OneHotEncoder`](https://scikit-learn.org/stable/modules/generated/sklearn.preprocessing.OneHotEncoder.html) class is another viable option here."
      ]
    },
    {
      "cell_type": "code",
      "execution_count": 84,
      "id": "de03e501",
      "metadata": {},
      "outputs": [
        {
          "data": {
            "text/plain": [
              "line_number\n",
              "0     15000\n",
              "1     15000\n",
              "2     15000\n",
              "3     15000\n",
              "4     14992\n",
              "5     14949\n",
              "6     14758\n",
              "7     14279\n",
              "8     13346\n",
              "9     11981\n",
              "10    10041\n",
              "11     7892\n",
              "12     5853\n",
              "13     4152\n",
              "14     2835\n",
              "15     1861\n",
              "16     1188\n",
              "17      751\n",
              "18      462\n",
              "19      286\n",
              "20      162\n",
              "21      101\n",
              "22       66\n",
              "23       33\n",
              "24       22\n",
              "25       14\n",
              "26        7\n",
              "27        4\n",
              "28        3\n",
              "29        1\n",
              "30        1\n",
              "Name: count, dtype: int64"
            ]
          },
          "execution_count": 84,
          "metadata": {},
          "output_type": "execute_result"
        }
      ],
      "source": [
        "# How many different line numbers are there?\n",
        "train_df[\"line_number\"].value_counts()"
      ]
    },
    {
      "cell_type": "code",
      "execution_count": 85,
      "id": "1afc4261",
      "metadata": {},
      "outputs": [
        {
          "data": {
            "text/plain": [
              "<Axes: ylabel='Frequency'>"
            ]
          },
          "execution_count": 85,
          "metadata": {},
          "output_type": "execute_result"
        },
        {
          "data": {
            "image/png": "[encoded data removed]",
            "text/plain": [
              "<Figure size 640x480 with 1 Axes>"
            ]
          },
          "metadata": {},
          "output_type": "display_data"
        }
      ],
      "source": [
        "# Check the distribution of \"line_number\" column\n",
        "train_df.line_number.plot.hist()"
      ]
    },
    {
      "cell_type": "markdown",
      "id": "df9acecb",
      "metadata": {},
      "source": [
        "Looking at the distribution of the `\"line_number\"` column, it looks like the majority of lines have a position of 15 or less.\n",
        "\n",
        "Knowing this, let's set the `depth` parameter of `tf.one_hot` to 15."
      ]
    },
    {
      "cell_type": "code",
      "execution_count": 86,
      "id": "6124b84f",
      "metadata": {},
      "outputs": [],
      "source": [
        "# Use TensorFlow to create one-hot-encoded tensors of our \"line_number\" column \n",
        "train_line_numbers_one_hot = tf.one_hot(train_df[\"line_number\"].to_numpy(), depth=15)\n",
        "val_line_numbers_one_hot = tf.one_hot(val_df[\"line_number\"].to_numpy(), depth=15)\n",
        "test_line_numbers_one_hot = tf.one_hot(test_df[\"line_number\"].to_numpy(), depth=15)"
      ]
    },
    {
      "cell_type": "markdown",
      "id": "3a1452ac",
      "metadata": {},
      "source": [
        "Setting the `depth` parameter of `tf.one_hot` to 15 means any sample with a `\"line_number\"` value of over 15 gets set to a tensor of all 0's, where as any sample with a `\"line_number\"` of under 15 gets turned into a tensor of all 0's but with a 1 at the index equal to the `\"line_number\"` value.\n",
        "\n",
        "> 🔑 **Note:** We could create a one-hot tensor which has room for all of the potential values of `\"line_number\"` (`depth=30`), however, this would end up in a tensor of double the size of our current one (`depth=15`) where the vast majority of values are 0. Plus, only ~2,000/180,000 samples have a `\"line_number\"` value of over 15. So we would not be gaining much information about our data for doubling our feature space. This kind of problem is called the **curse of dimensionality**. However, since this we're working with deep models, it might be worth trying to throw as much information at the model as possible and seeing what happens. I'll leave exploring values of the `depth` parameter as an extension."
      ]
    },
    {
      "cell_type": "code",
      "execution_count": 87,
      "id": "cc8dd6a9",
      "metadata": {},
      "outputs": [
        {
          "data": {
            "text/plain": [
              "(TensorShape([180040, 15]),\n",
              " <tf.Tensor: shape=(20, 15), dtype=float32, numpy=\n",
              " array([[1., 0., 0., 0., 0., 0., 0., 0., 0., 0., 0., 0., 0., 0., 0.],\n",
              "        [0., 1., 0., 0., 0., 0., 0., 0., 0., 0., 0., 0., 0., 0., 0.],\n",
              "        [0., 0., 1., 0., 0., 0., 0., 0., 0., 0., 0., 0., 0., 0., 0.],\n",
              "        [0., 0., 0., 1., 0., 0., 0., 0., 0., 0., 0., 0., 0., 0., 0.],\n",
              "        [0., 0., 0., 0., 1., 0., 0., 0., 0., 0., 0., 0., 0., 0., 0.],\n",
              "        [0., 0., 0., 0., 0., 1., 0., 0., 0., 0., 0., 0., 0., 0., 0.],\n",
              "        [0., 0., 0., 0., 0., 0., 1., 0., 0., 0., 0., 0., 0., 0., 0.],\n",
              "        [0., 0., 0., 0., 0., 0., 0., 1., 0., 0., 0., 0., 0., 0., 0.],\n",
              "        [0., 0., 0., 0., 0., 0., 0., 0., 1., 0., 0., 0., 0., 0., 0.],\n",
              "        [0., 0., 0., 0., 0., 0., 0., 0., 0., 1., 0., 0., 0., 0., 0.],\n",
              "        [0., 0., 0., 0., 0., 0., 0., 0., 0., 0., 1., 0., 0., 0., 0.],\n",
              "        [0., 0., 0., 0., 0., 0., 0., 0., 0., 0., 0., 1., 0., 0., 0.],\n",
              "        [1., 0., 0., 0., 0., 0., 0., 0., 0., 0., 0., 0., 0., 0., 0.],\n",
              "        [0., 1., 0., 0., 0., 0., 0., 0., 0., 0., 0., 0., 0., 0., 0.],\n",
              "        [0., 0., 1., 0., 0., 0., 0., 0., 0., 0., 0., 0., 0., 0., 0.],\n",
              "        [0., 0., 0., 1., 0., 0., 0., 0., 0., 0., 0., 0., 0., 0., 0.],\n",
              "        [0., 0., 0., 0., 1., 0., 0., 0., 0., 0., 0., 0., 0., 0., 0.],\n",
              "        [0., 0., 0., 0., 0., 1., 0., 0., 0., 0., 0., 0., 0., 0., 0.],\n",
              "        [0., 0., 0., 0., 0., 0., 1., 0., 0., 0., 0., 0., 0., 0., 0.],\n",
              "        [0., 0., 0., 0., 0., 0., 0., 1., 0., 0., 0., 0., 0., 0., 0.]],\n",
              "       dtype=float32)>)"
            ]
          },
          "execution_count": 87,
          "metadata": {},
          "output_type": "execute_result"
        }
      ],
      "source": [
        "# Check one-hot encoded \"line_number\" feature samples\n",
        "train_line_numbers_one_hot.shape, train_line_numbers_one_hot[:20]"
      ]
    },
    {
      "cell_type": "markdown",
      "id": "9d83f41d",
      "metadata": {},
      "source": [
        "We can do the same as we've done for our `\"line_number\"` column witht he `\"total_lines\"` column. First, let's find an appropriate value for the `depth` parameter of `tf.one_hot`."
      ]
    },
    {
      "cell_type": "code",
      "execution_count": 88,
      "id": "fef1a0c9",
      "metadata": {},
      "outputs": [
        {
          "data": {
            "text/plain": [
              "total_lines\n",
              "11    24468\n",
              "10    23639\n",
              "12    22113\n",
              "9     19400\n",
              "13    18438\n",
              "14    14610\n",
              "8     12285\n",
              "15    10768\n",
              "7      7464\n",
              "16     7429\n",
              "17     5202\n",
              "6      3353\n",
              "18     3344\n",
              "19     2480\n",
              "20     1281\n",
              "5      1146\n",
              "21      770\n",
              "22      759\n",
              "23      264\n",
              "4       215\n",
              "24      200\n",
              "25      182\n",
              "26       81\n",
              "28       58\n",
              "3        32\n",
              "30       31\n",
              "27       28\n",
              "Name: count, dtype: int64"
            ]
          },
          "execution_count": 88,
          "metadata": {},
          "output_type": "execute_result"
        }
      ],
      "source": [
        "# How many different numbers of lines are there?\n",
        "train_df[\"total_lines\"].value_counts()"
      ]
    },
    {
      "cell_type": "code",
      "execution_count": 89,
      "id": "fa4f9bdf",
      "metadata": {},
      "outputs": [
        {
          "data": {
            "text/plain": [
              "<Axes: ylabel='Frequency'>"
            ]
          },
          "execution_count": 89,
          "metadata": {},
          "output_type": "execute_result"
        },
        {
          "data": {
            "image/png": "[encoded data removed]",
            "text/plain": [
              "<Figure size 640x480 with 1 Axes>"
            ]
          },
          "metadata": {},
          "output_type": "display_data"
        }
      ],
      "source": [
        "# Check the distribution of total lines\n",
        "train_df.total_lines.plot.hist()"
      ]
    },
    {
      "cell_type": "markdown",
      "id": "e05fd81d",
      "metadata": {},
      "source": [
        "Looking at the distribution of our `\"total_lines\"` column, a value of 20 looks like it covers the majority of samples.\n",
        "\n",
        "We can confirm this with [`np.percentile()`](https://numpy.org/doc/stable/reference/generated/numpy.percentile.html)."
      ]
    },
    {
      "cell_type": "code",
      "execution_count": 90,
      "id": "4df305a6",
      "metadata": {},
      "outputs": [
        {
          "data": {
            "text/plain": [
              "20.0"
            ]
          },
          "execution_count": 90,
          "metadata": {},
          "output_type": "execute_result"
        }
      ],
      "source": [
        "# Check the coverage of a \"total_lines\" value of 20\n",
        "np.percentile(train_df.total_lines, 98) # a value of 20 covers 98% of samples"
      ]
    },
    {
      "cell_type": "markdown",
      "id": "bfb57011",
      "metadata": {},
      "source": [
        "Beautiful! Plenty of converage. Let's one-hot-encode our `\"total_lines\"` column just as we did our `\"line_number\"` column."
      ]
    },
    {
      "cell_type": "code",
      "execution_count": 91,
      "id": "bc871b5b",
      "metadata": {},
      "outputs": [
        {
          "data": {
            "text/plain": [
              "(TensorShape([180040, 20]),\n",
              " <tf.Tensor: shape=(10, 20), dtype=float32, numpy=\n",
              " array([[0., 0., 0., 0., 0., 0., 0., 0., 0., 0., 0., 1., 0., 0., 0., 0.,\n",
              "         0., 0., 0., 0.],\n",
              "        [0., 0., 0., 0., 0., 0., 0., 0., 0., 0., 0., 1., 0., 0., 0., 0.,\n",
              "         0., 0., 0., 0.],\n",
              "        [0., 0., 0., 0., 0., 0., 0., 0., 0., 0., 0., 1., 0., 0., 0., 0.,\n",
              "         0., 0., 0., 0.],\n",
              "        [0., 0., 0., 0., 0., 0., 0., 0., 0., 0., 0., 1., 0., 0., 0., 0.,\n",
              "         0., 0., 0., 0.],\n",
              "        [0., 0., 0., 0., 0., 0., 0., 0., 0., 0., 0., 1., 0., 0., 0., 0.,\n",
              "         0., 0., 0., 0.],\n",
              "        [0., 0., 0., 0., 0., 0., 0., 0., 0., 0., 0., 1., 0., 0., 0., 0.,\n",
              "         0., 0., 0., 0.],\n",
              "        [0., 0., 0., 0., 0., 0., 0., 0., 0., 0., 0., 1., 0., 0., 0., 0.,\n",
              "         0., 0., 0., 0.],\n",
              "        [0., 0., 0., 0., 0., 0., 0., 0., 0., 0., 0., 1., 0., 0., 0., 0.,\n",
              "         0., 0., 0., 0.],\n",
              "        [0., 0., 0., 0., 0., 0., 0., 0., 0., 0., 0., 1., 0., 0., 0., 0.,\n",
              "         0., 0., 0., 0.],\n",
              "        [0., 0., 0., 0., 0., 0., 0., 0., 0., 0., 0., 1., 0., 0., 0., 0.,\n",
              "         0., 0., 0., 0.]], dtype=float32)>)"
            ]
          },
          "execution_count": 91,
          "metadata": {},
          "output_type": "execute_result"
        }
      ],
      "source": [
        "# Use TensorFlow to create one-hot-encoded tensors of our \"total_lines\" column\n",
        "train_total_lines_one_hot = tf.one_hot(train_df[\"total_lines\"].to_numpy(), depth=20)\n",
        "val_total_lines_one_hot = tf.one_hot(val_df[\"total_lines\"].to_numpy(), depth=20)\n",
        "test_total_lines_one_hot = tf.one_hot(test_df[\"total_lines\"].to_numpy(), depth=20)\n",
        "\n",
        "# Check shape and samples of total lines one-hot tensor\n",
        "train_total_lines_one_hot.shape, train_total_lines_one_hot[:10]"
      ]
    },
    {
      "cell_type": "markdown",
      "id": "f3a17c7c",
      "metadata": {},
      "source": [
        "### Building a tribrid embedding model\n",
        "\n",
        "Woohoo! Positional embedding tensors ready.\n",
        "\n",
        "It's time to build the biggest model we've built yet. One which incorporates token embeddings, character embeddings and our newly crafted positional embeddings.\n",
        "\n",
        "We'll be venturing into uncovered territory but there will be nothing here you haven't practiced before.\n",
        "\n",
        "More specifically we're going to go through the following steps:\n",
        "\n",
        "1. Create a token-level model (similar to `model_1`)\n",
        "2. Create a character-level model (similar to `model_3` with a slight modification to reflect the paper)\n",
        "3. Create a `\"line_number\"` model (takes in one-hot-encoded `\"line_number\"` tensor and passes it through a non-linear layer)\n",
        "4. Create a `\"total_lines\"` model (takes in one-hot-encoded `\"total_lines\"` tensor and passes it through a non-linear layer)\n",
        "5. Combine (using [`layers.Concatenate`](https://www.tensorflow.org/api_docs/python/tf/keras/layers/Concatenate)) the outputs of 1 and 2 into a token-character-hybrid embedding and pass it series of output to Figure 1 and section 4.2 of [*Neural Networks for Joint Sentence Classification\n",
        "in Medical Paper Abstracts*](https://arxiv.org/pdf/1612.05251.pdf)\n",
        "6. Combine (using [`layers.Concatenate`](https://www.tensorflow.org/api_docs/python/tf/keras/layers/Concatenate)) the outputs of 3, 4 and 5 into a token-character-positional tribrid embedding \n",
        "7. Create an output layer to accept the tribrid embedding and output predicted label probabilities\n",
        "8. Combine the inputs of 1, 2, 3, 4 and outputs of 7 into a [`tf.keras.Model`](https://www.tensorflow.org/api_docs/python/tf/keras/Model)\n",
        "\n",
        "Woah! That's alot... but nothing we're not capable of. Let's code it."
      ]
    },
    {
      "cell_type": "code",
      "execution_count": 92,
      "id": "572f5277",
      "metadata": {},
      "outputs": [],
      "source": [
        "# 1. Token inputs\n",
        "token_inputs = layers.Input(shape=[], dtype=\"string\", name=\"token_inputs\")\n",
        "token_embeddings = tf_hub_embedding_layer(token_inputs)\n",
        "token_outputs = layers.Dense(128, activation=\"relu\")(token_embeddings)\n",
        "token_model = keras.Model(inputs=token_inputs, outputs=token_outputs)\n",
        "\n",
        "# 2. Char inputs\n",
        "char_inputs = layers.Input(shape=(1,), dtype=\"string\", name=\"char_inputs\")\n",
        "char_vectors = char_vectorizer(char_inputs)\n",
        "char_embeddings = char_embed(char_vectors)\n",
        "char_bi_lstm = layers.Bidirectional(layers.LSTM(32))(char_embeddings)\n",
        "char_model = keras.Model(inputs=char_inputs, outputs=char_bi_lstm)\n",
        "\n",
        "# 3. Line numbers inputs\n",
        "line_number_inputs = layers.Input(shape=(15,), dtype=tf.int32, name=\"line_number_input\")\n",
        "x = layers.Dense(32, activation=\"relu\")(line_number_inputs)\n",
        "line_number_model = keras.Model(inputs=line_number_inputs, outputs=x)\n",
        "\n",
        "# 4. Total lines inputs\n",
        "total_lines_inputs = layers.Input(shape=(20,), dtype=tf.int32, name=\"total_lines_input\")\n",
        "y = layers.Dense(32, activation=\"relu\")(total_lines_inputs)\n",
        "total_line_model = keras.Model(inputs=total_lines_inputs, outputs=y)\n",
        "\n",
        "# 5. Combine token and char embeddings into a hybrid embedding\n",
        "combined_embeddings = layers.Concatenate(name=\"token_char_hybrid_embedding\")([token_model.output, char_model.output])\n",
        "z = layers.Dense(256, activation=\"relu\")(combined_embeddings)\n",
        "z = layers.Dropout(0.5)(z)\n",
        "\n",
        "# 6. Combine positional embeddings with combined token and char embeddings into a tribrid embedding\n",
        "z = layers.Concatenate(name=\"token_char_positional_embedding\")([line_number_model.output, total_line_model.output, z])\n",
        "\n",
        "# 7. Create output layer\n",
        "output_layer = layers.Dense(5, activation=\"softmax\", name=\"output_layer\")(z)\n",
        "\n",
        "# 8. Put together model\n",
        "model_5 = keras.Model(inputs=[line_number_model.input, total_line_model.input, token_model.input, char_model.input], outputs=output_layer)"
      ]
    },
    {
      "cell_type": "markdown",
      "id": "91ec9361",
      "metadata": {},
      "source": [
        "There's a lot going on here... let's visualize what's happening with a summary by plotting our model."
      ]
    },
    {
      "cell_type": "code",
      "execution_count": 93,
      "id": "a26d7c75",
      "metadata": {},
      "outputs": [
        {
          "name": "stdout",
          "output_type": "stream",
          "text": [
            "Model: \"model_8\"\n",
            "__________________________________________________________________________________________________\n",
            " Layer (type)                Output Shape                 Param #   Connected to                  \n",
            "==================================================================================================\n",
            " char_inputs (InputLayer)    [(None, 1)]                  0         []                            \n",
            "                                                                                                  \n",
            " token_inputs (InputLayer)   [(None,)]                    0         []                            \n",
            "                                                                                                  \n",
            " char_vectorizer (TextVecto  (None, 290)                  0         ['char_inputs[0][0]']         \n",
            " rization)                                                                                        \n",
            "                                                                                                  \n",
            " universal_sentence_encoder  (None, 512)                  2567978   ['token_inputs[0][0]']        \n",
            "  (KerasLayer)                                            24                                      \n",
            "                                                                                                  \n",
            " char_embed (Embedding)      (None, 290, 25)              1750      ['char_vectorizer[2][0]']     \n",
            "                                                                                                  \n",
            " dense_7 (Dense)             (None, 128)                  65664     ['universal_sentence_encoder[2\n",
            "                                                                    ][0]']                        \n",
            "                                                                                                  \n",
            " bidirectional_1 (Bidirecti  (None, 64)                   14848     ['char_embed[2][0]']          \n",
            " onal)                                                                                            \n",
            "                                                                                                  \n",
            " token_char_hybrid_embeddin  (None, 192)                  0         ['dense_7[0][0]',             \n",
            " g (Concatenate)                                                     'bidirectional_1[0][0]']     \n",
            "                                                                                                  \n",
            " line_number_input (InputLa  [(None, 15)]                 0         []                            \n",
            " yer)                                                                                             \n",
            "                                                                                                  \n",
            " total_lines_input (InputLa  [(None, 20)]                 0         []                            \n",
            " yer)                                                                                             \n",
            "                                                                                                  \n",
            " dense_10 (Dense)            (None, 256)                  49408     ['token_char_hybrid_embedding[\n",
            "                                                                    0][0]']                       \n",
            "                                                                                                  \n",
            " dense_8 (Dense)             (None, 32)                   512       ['line_number_input[0][0]']   \n",
            "                                                                                                  \n",
            " dense_9 (Dense)             (None, 32)                   672       ['total_lines_input[0][0]']   \n",
            "                                                                                                  \n",
            " dropout_2 (Dropout)         (None, 256)                  0         ['dense_10[0][0]']            \n",
            "                                                                                                  \n",
            " token_char_positional_embe  (None, 320)                  0         ['dense_8[0][0]',             \n",
            " dding (Concatenate)                                                 'dense_9[0][0]',             \n",
            "                                                                     'dropout_2[0][0]']           \n",
            "                                                                                                  \n",
            " output_layer (Dense)        (None, 5)                    1605      ['token_char_positional_embedd\n",
            "                                                                    ing[0][0]']                   \n",
            "                                                                                                  \n",
            "==================================================================================================\n",
            "Total params: 256932283 (980.12 MB)\n",
            "Trainable params: 134459 (525.23 KB)\n",
            "Non-trainable params: 256797824 (979.61 MB)\n",
            "__________________________________________________________________________________________________\n"
          ]
        }
      ],
      "source": [
        "# Get a summary of our token, char and positional embedding model\n",
        "model_5.summary()"
      ]
    },
    {
      "cell_type": "code",
      "execution_count": 94,
      "id": "377a2dc9",
      "metadata": {},
      "outputs": [
        {
          "data": {
            "image/png": "[encoded data removed]",
            "text/plain": [
              "<IPython.core.display.Image object>"
            ]
          },
          "execution_count": 94,
          "metadata": {},
          "output_type": "execute_result"
        }
      ],
      "source": [
        "# Plot the token, char, positional embedding model\n",
        "keras.utils.plot_model(model_5)"
      ]
    },
    {
      "cell_type": "markdown",
      "id": "08de8070",
      "metadata": {},
      "source": [
        "Visualizing the model makes it much easier to understand.\n",
        "\n",
        "Essentially what we're doing is trying to encode as much information about our sequences as possible into various embeddings (the inputs to our model) so our model has the best chance to figure out what label belongs to a sequence (the outputs of our model).\n",
        "\n",
        "You'll notice our model is looking very similar to the model shown in Figure 1 of [*Neural Networks for Joint Sentence Classification\n",
        "in Medical Paper Abstracts*](https://arxiv.org/pdf/1612.05251.pdf). However, a few differences still remain:\n",
        "* We're using pretrained TensorFlow Hub token embeddings instead of GloVe emebddings.\n",
        "* We're using a Dense layer on top of our token-character hybrid embeddings instead of a bi-LSTM layer.\n",
        "* Section 3.1.3 of the paper mentions a label sequence optimization layer (which helps to make sure sequence labels come out in a respectable order) but it isn't shown in Figure 1. To makeup for the lack of this layer in our model, we've created the positional embeddings layers.\n",
        "* Section 4.2 of the paper mentions the token and character embeddings are updated during training, our pretrained TensorFlow Hub embeddings remain frozen.\n",
        "* The paper uses the [`SGD`](https://www.tensorflow.org/api_docs/python/tf/keras/optimizers/SGD) optimizer, we're going to stick with [`Adam`](https://www.tensorflow.org/api_docs/python/tf/keras/optimizers/Adam).\n",
        "\n",
        "All of the differences above are potential extensions of this project."
      ]
    },
    {
      "cell_type": "code",
      "execution_count": 95,
      "id": "8af9f2ec",
      "metadata": {},
      "outputs": [
        {
          "name": "stdout",
          "output_type": "stream",
          "text": [
            "<tf_keras.src.engine.input_layer.InputLayer object at 0x7fbe585476b0> True\n",
            "<tf_keras.src.engine.input_layer.InputLayer object at 0x7fbdade96d50> True\n",
            "<tf_keras.src.layers.preprocessing.text_vectorization.TextVectorization object at 0x7fbe581c25d0> True\n",
            "<tensorflow_hub.keras_layer.KerasLayer object at 0x7fbe901cfec0> False\n",
            "<tf_keras.src.layers.core.embedding.Embedding object at 0x7fbe585f7920> True\n",
            "<tf_keras.src.layers.core.dense.Dense object at 0x7fbdacfbd4c0> True\n",
            "<tf_keras.src.layers.rnn.bidirectional.Bidirectional object at 0x7fbdd042e1b0> True\n",
            "<tf_keras.src.layers.merging.concatenate.Concatenate object at 0x7fbe7024a1e0> True\n",
            "<tf_keras.src.engine.input_layer.InputLayer object at 0x7fbe705e8bf0> True\n",
            "<tf_keras.src.engine.input_layer.InputLayer object at 0x7fbdd0e3b080> True\n",
            "<tf_keras.src.layers.core.dense.Dense object at 0x7fbe7055a060> True\n",
            "<tf_keras.src.layers.core.dense.Dense object at 0x7fbdadd1ab40> True\n",
            "<tf_keras.src.layers.core.dense.Dense object at 0x7fbdade4f1a0> True\n",
            "<tf_keras.src.layers.regularization.dropout.Dropout object at 0x7fbdade6cce0> True\n",
            "<tf_keras.src.layers.merging.concatenate.Concatenate object at 0x7fbdd0e3b110> True\n",
            "<tf_keras.src.layers.core.dense.Dense object at 0x7fbe90137a10> True\n"
          ]
        }
      ],
      "source": [
        "# Check which layers of our model are trainable or not\n",
        "for layer in model_5.layers:\n",
        "    print(layer, layer.trainable)"
      ]
    },
    {
      "cell_type": "markdown",
      "id": "e731901d",
      "metadata": {},
      "source": [
        "Now our model is constructed, let's compile it.\n",
        "\n",
        "This time, we're going to introduce a new parameter to our loss function called `label_smoothing`. Label smoothing helps to regularize our model (prevent overfitting) by making sure it doesn't get too focused on applying one particular label to a sample.\n",
        "\n",
        "For example, instead of having an output prediction of: \n",
        "* `[0.0, 0.0, 1.0, 0.0, 0.0]` for a sample (the model is very confident the right label is index 2).\n",
        "\n",
        "It's predictions will get smoothed to be something like:\n",
        "* `[0.01, 0.01, 0.096, 0.01, 0.01]` giving a small activation to each of the other labels, in turn, hopefully improving generalization.\n",
        "\n",
        "> 📖 **Resource:** For more on label smoothing, see the great blog post by PyImageSearch, [*Label smoothing with Keras, TensorFlow, and Deep Learning*](https://www.pyimagesearch.com/2019/12/30/label-smoothing-with-keras-tensorflow-and-deep-learning/)."
      ]
    },
    {
      "cell_type": "code",
      "execution_count": 96,
      "id": "67ee414f",
      "metadata": {},
      "outputs": [],
      "source": [
        "# Compile token, char, positional embedding model\n",
        "model_5.compile(\n",
        "    loss=keras.losses.CategoricalCrossentropy(\n",
        "        label_smoothing=0.2),  # add label smoothing (examples which are really confident get smoothed a little)\n",
        "    optimizer=keras.optimizers.Adam(),\n",
        "    metrics=[\"accuracy\"])"
      ]
    },
    {
      "cell_type": "markdown",
      "id": "e2376a45",
      "metadata": {},
      "source": [
        "### Create tribrid embedding datasets and fit tribrid model\n",
        "\n",
        "Model compiled!\n",
        "\n",
        "Again, to keep our experiments swift, let's fit on 20,000 examples for 3 epochs.\n",
        "\n",
        "This time our model requires four feature inputs:\n",
        "1. Train line numbers one-hot tensor (`train_line_numbers_one_hot`)\n",
        "2. Train total lines one-hot tensor (`train_total_lines_one_hot`)\n",
        "3. Token-level sequences tensor (`train_sentences`)\n",
        "4. Char-level sequences tensor (`train_chars`)\n",
        "\n",
        "We can pass these as tuples to our `tf.data.Dataset.from_tensor_slices()` method to create appropriately shaped and batched `PrefetchedDataset`'s."
      ]
    },
    {
      "cell_type": "code",
      "execution_count": 97,
      "id": "2b1d2cf9",
      "metadata": {},
      "outputs": [
        {
          "data": {
            "text/plain": [
              "(<_PrefetchDataset element_spec=((TensorSpec(shape=(None, 15), dtype=tf.float32, name=None), TensorSpec(shape=(None, 20), dtype=tf.float32, name=None), TensorSpec(shape=(None,), dtype=tf.string, name=None), TensorSpec(shape=(None,), dtype=tf.string, name=None)), TensorSpec(shape=(None, 5), dtype=tf.float64, name=None))>,\n",
              " <_PrefetchDataset element_spec=((TensorSpec(shape=(None, 15), dtype=tf.float32, name=None), TensorSpec(shape=(None, 20), dtype=tf.float32, name=None), TensorSpec(shape=(None,), dtype=tf.string, name=None), TensorSpec(shape=(None,), dtype=tf.string, name=None)), TensorSpec(shape=(None, 5), dtype=tf.float64, name=None))>)"
            ]
          },
          "execution_count": 97,
          "metadata": {},
          "output_type": "execute_result"
        }
      ],
      "source": [
        "# Create training and validation datasets (all four kinds of inputs)\n",
        "train_pos_char_token_data = tf.data.Dataset.from_tensor_slices((\n",
        "    train_line_numbers_one_hot,  # line numbers\n",
        "    train_total_lines_one_hot,  # total lines\n",
        "    train_sentences,  # train tokens\n",
        "    train_chars))  # train chars\n",
        "train_pos_char_token_labels = tf.data.Dataset.from_tensor_slices(train_labels_one_hot)  # train labels\n",
        "train_pos_char_token_dataset = tf.data.Dataset.zip((train_pos_char_token_data, train_pos_char_token_labels))  # combine data and labels\n",
        "train_pos_char_token_dataset = train_pos_char_token_dataset.batch(32).prefetch(\n",
        "    tf.data.AUTOTUNE)  # turn into batches and prefetch appropriately\n",
        "\n",
        "# Validation dataset\n",
        "val_pos_char_token_data = tf.data.Dataset.from_tensor_slices((val_line_numbers_one_hot, val_total_lines_one_hot, val_sentences, val_chars))\n",
        "val_pos_char_token_labels = tf.data.Dataset.from_tensor_slices(val_labels_one_hot)\n",
        "val_pos_char_token_dataset = tf.data.Dataset.zip((val_pos_char_token_data, val_pos_char_token_labels))\n",
        "val_pos_char_token_dataset = val_pos_char_token_dataset.batch(32).prefetch(tf.data.AUTOTUNE)  # turn into batches and prefetch appropriately\n",
        "\n",
        "# Check input shapes\n",
        "train_pos_char_token_dataset, val_pos_char_token_dataset"
      ]
    },
    {
      "cell_type": "code",
      "execution_count": 98,
      "id": "80d3208b",
      "metadata": {},
      "outputs": [
        {
          "name": "stdout",
          "output_type": "stream",
          "text": [
            "Epoch 1/3\n"
          ]
        },
        {
          "name": "stdout",
          "output_type": "stream",
          "text": [
            "562/562 [==============================] - 47s 80ms/step - loss: 1.0996 - accuracy: 0.7228 - val_loss: 0.9782 - val_accuracy: 0.8112\n",
            "Epoch 2/3\n",
            "562/562 [==============================] - 45s 80ms/step - loss: 0.9662 - accuracy: 0.8155 - val_loss: 0.9495 - val_accuracy: 0.8285\n",
            "Epoch 3/3\n",
            "562/562 [==============================] - 44s 78ms/step - loss: 0.9504 - accuracy: 0.8221 - val_loss: 0.9357 - val_accuracy: 0.8338\n"
          ]
        }
      ],
      "source": [
        "# Fit the token, char and positional embedding model\n",
        "history_model_5 = model_5.fit(train_pos_char_token_dataset,\n",
        "                              steps_per_epoch=int(0.1 * len(train_pos_char_token_dataset)),\n",
        "                              epochs=3,\n",
        "                              validation_data=val_pos_char_token_dataset,\n",
        "                              validation_steps=int(0.1 * len(val_pos_char_token_dataset)))"
      ]
    },
    {
      "cell_type": "markdown",
      "id": "3abcc52a",
      "metadata": {},
      "source": [
        "Tribrid model trained! Time to make some predictions with it and evaluate them just as we've done before."
      ]
    },
    {
      "cell_type": "code",
      "execution_count": 99,
      "id": "34db4648",
      "metadata": {},
      "outputs": [
        {
          "name": "stdout",
          "output_type": "stream",
          "text": [
            "945/945 [==============================] - 40s 42ms/step\n"
          ]
        },
        {
          "data": {
            "text/plain": [
              "array([[0.48077014, 0.11569167, 0.01250057, 0.3705812 , 0.02045641],\n",
              "       [0.5448108 , 0.10437316, 0.03907388, 0.3011109 , 0.01063128],\n",
              "       [0.2640762 , 0.11430517, 0.12992924, 0.4125096 , 0.07917975],\n",
              "       ...,\n",
              "       [0.03617096, 0.10556444, 0.04280942, 0.0333267 , 0.7821285 ],\n",
              "       [0.0337914 , 0.31687015, 0.07659393, 0.02645292, 0.5462916 ],\n",
              "       [0.21114223, 0.6110101 , 0.09636222, 0.04036654, 0.0411189 ]],\n",
              "      dtype=float32)"
            ]
          },
          "execution_count": 99,
          "metadata": {},
          "output_type": "execute_result"
        }
      ],
      "source": [
        "# Make predictions with token-char-positional hybrid model\n",
        "model_5_pred_probs = model_5.predict(val_pos_char_token_dataset, verbose=1)\n",
        "model_5_pred_probs"
      ]
    },
    {
      "cell_type": "code",
      "execution_count": 100,
      "id": "0fb6912c",
      "metadata": {},
      "outputs": [
        {
          "data": {
            "text/plain": [
              "<tf.Tensor: shape=(30212,), dtype=int64, numpy=array([0, 0, 3, ..., 4, 4, 1])>"
            ]
          },
          "execution_count": 100,
          "metadata": {},
          "output_type": "execute_result"
        }
      ],
      "source": [
        "# Turn prediction probabilities into prediction classes\n",
        "model_5_preds = tf.argmax(model_5_pred_probs, axis=1)\n",
        "model_5_preds"
      ]
    },
    {
      "cell_type": "code",
      "execution_count": 101,
      "id": "a2315ab5",
      "metadata": {},
      "outputs": [
        {
          "data": {
            "text/plain": [
              "{'accuracy': 83.48007414272475,\n",
              " 'precision': 0.8339291154599952,\n",
              " 'recall': 0.8348007414272475,\n",
              " 'f1': 0.8336219693957314}"
            ]
          },
          "execution_count": 101,
          "metadata": {},
          "output_type": "execute_result"
        }
      ],
      "source": [
        "# Calculate results of token-char-positional hybrid model\n",
        "model_5_results = calculate_results(y_true=val_labels_encoded, y_pred=model_5_preds)\n",
        "model_5_results"
      ]
    },
    {
      "cell_type": "markdown",
      "id": "87d49257",
      "metadata": {},
      "source": [
        "## Compare model results\n",
        "\n",
        "Far out, we've come a long way. From a baseline model to training a model containing three different kinds of embeddings.\n",
        "\n",
        "Now it's time to compare each model's performance against each other.\n",
        "\n",
        "We'll also be able to compare our model's to the [_PubMed 200k RCT:\n",
        "a Dataset for Sequential Sentence Classification in Medical Abstracts_](https://arxiv.org/pdf/1710.06071.pdf) paper.\n",
        "\n",
        "Since all of our model results are in dictionaries, let's combine them into a pandas DataFrame to visualize them.\n"
      ]
    },
    {
      "cell_type": "code",
      "execution_count": 102,
      "id": "761195e6",
      "metadata": {},
      "outputs": [
        {
          "data": {
            "text/html": [
              "<div>\n",
              "<style scoped>\n",
              "    .dataframe tbody tr th:only-of-type {\n",
              "        vertical-align: middle;\n",
              "    }\n",
              "\n",
              "    .dataframe tbody tr th {\n",
              "        vertical-align: top;\n",
              "    }\n",
              "\n",
              "    .dataframe thead th {\n",
              "        text-align: right;\n",
              "    }\n",
              "</style>\n",
              "<table border=\"1\" class=\"dataframe\">\n",
              "  <thead>\n",
              "    <tr style=\"text-align: right;\">\n",
              "      <th></th>\n",
              "      <th>accuracy</th>\n",
              "      <th>precision</th>\n",
              "      <th>recall</th>\n",
              "      <th>f1</th>\n",
              "    </tr>\n",
              "  </thead>\n",
              "  <tbody>\n",
              "    <tr>\n",
              "      <th>baseline</th>\n",
              "      <td>72.183238</td>\n",
              "      <td>0.718647</td>\n",
              "      <td>0.721832</td>\n",
              "      <td>0.698925</td>\n",
              "    </tr>\n",
              "    <tr>\n",
              "      <th>custom_token_embed_conv1d</th>\n",
              "      <td>78.703826</td>\n",
              "      <td>0.784053</td>\n",
              "      <td>0.787038</td>\n",
              "      <td>0.784861</td>\n",
              "    </tr>\n",
              "    <tr>\n",
              "      <th>pretrained_token_embed</th>\n",
              "      <td>71.402092</td>\n",
              "      <td>0.714439</td>\n",
              "      <td>0.714021</td>\n",
              "      <td>0.711106</td>\n",
              "    </tr>\n",
              "    <tr>\n",
              "      <th>custom_char_embed_conv1d</th>\n",
              "      <td>64.954323</td>\n",
              "      <td>0.645916</td>\n",
              "      <td>0.649543</td>\n",
              "      <td>0.640791</td>\n",
              "    </tr>\n",
              "    <tr>\n",
              "      <th>hybrid_char_token_embed</th>\n",
              "      <td>73.503906</td>\n",
              "      <td>0.735759</td>\n",
              "      <td>0.735039</td>\n",
              "      <td>0.733126</td>\n",
              "    </tr>\n",
              "    <tr>\n",
              "      <th>tribrid_pos_char_token_embed</th>\n",
              "      <td>83.480074</td>\n",
              "      <td>0.833929</td>\n",
              "      <td>0.834801</td>\n",
              "      <td>0.833622</td>\n",
              "    </tr>\n",
              "  </tbody>\n",
              "</table>\n",
              "</div>"
            ],
            "text/plain": [
              "                               accuracy  precision    recall        f1\n",
              "baseline                      72.183238   0.718647  0.721832  0.698925\n",
              "custom_token_embed_conv1d     78.703826   0.784053  0.787038  0.784861\n",
              "pretrained_token_embed        71.402092   0.714439  0.714021  0.711106\n",
              "custom_char_embed_conv1d      64.954323   0.645916  0.649543  0.640791\n",
              "hybrid_char_token_embed       73.503906   0.735759  0.735039  0.733126\n",
              "tribrid_pos_char_token_embed  83.480074   0.833929  0.834801  0.833622"
            ]
          },
          "execution_count": 102,
          "metadata": {},
          "output_type": "execute_result"
        }
      ],
      "source": [
        "# Combine model results into a DataFrame\n",
        "all_model_results = pd.DataFrame({\n",
        "    \"baseline\": baseline_results,\n",
        "    \"custom_token_embed_conv1d\": model_1_results,\n",
        "    \"pretrained_token_embed\": model_2_results,\n",
        "    \"custom_char_embed_conv1d\": model_3_results,\n",
        "    \"hybrid_char_token_embed\": model_4_results,\n",
        "    \"tribrid_pos_char_token_embed\": model_5_results\n",
        "})\n",
        "all_model_results = all_model_results.transpose()\n",
        "all_model_results"
      ]
    },
    {
      "cell_type": "code",
      "execution_count": 103,
      "id": "cae478b9",
      "metadata": {},
      "outputs": [],
      "source": [
        "# Reduce the accuracy to same scale as other metrics\n",
        "all_model_results[\"accuracy\"] = all_model_results[\"accuracy\"] / 100"
      ]
    },
    {
      "cell_type": "code",
      "execution_count": 104,
      "id": "78dea367",
      "metadata": {},
      "outputs": [
        {
          "data": {
            "text/plain": [
              "<matplotlib.legend.Legend at 0x7fbe584be0c0>"
            ]
          },
          "execution_count": 104,
          "metadata": {},
          "output_type": "execute_result"
        },
        {
          "data": {
            "image/png": "[encoded data removed]",
            "text/plain": [
              "<Figure size 1000x700 with 1 Axes>"
            ]
          },
          "metadata": {},
          "output_type": "display_data"
        }
      ],
      "source": [
        "# Plot and compare all of the model results\n",
        "all_model_results.plot(kind=\"bar\", figsize=(10, 7)).legend(bbox_to_anchor=(1.0, 1.0))"
      ]
    },
    {
      "cell_type": "markdown",
      "id": "eebd5b3b",
      "metadata": {},
      "source": [
        "Since the [*PubMed 200k RCT:\n",
        "a Dataset for Sequential Sentence Classification in Medical Abstracts*](https://arxiv.org/pdf/1710.06071.pdf) paper compares their tested model's F1-scores on the test dataset, let's take at our model's F1-scores.\n",
        "\n",
        "> 🔑 **Note:** We could've also made these comparisons in TensorBoard using the [`TensorBoard`](https://www.tensorflow.org/api_docs/python/tf/keras/callbacks/TensorBoard) callback during training."
      ]
    },
    {
      "cell_type": "code",
      "execution_count": 105,
      "id": "dd31b79a",
      "metadata": {},
      "outputs": [
        {
          "data": {
            "text/plain": [
              "<Axes: >"
            ]
          },
          "execution_count": 105,
          "metadata": {},
          "output_type": "execute_result"
        },
        {
          "data": {
            "image/png": "[encoded data removed]",
            "text/plain": [
              "<Figure size 1000x700 with 1 Axes>"
            ]
          },
          "metadata": {},
          "output_type": "display_data"
        }
      ],
      "source": [
        "# Sort model results by f1-score\n",
        "all_model_results.sort_values(\"f1\", ascending=False)[\"f1\"].plot(kind=\"bar\", figsize=(10, 7))"
      ]
    },
    {
      "cell_type": "markdown",
      "id": "12cecd1e",
      "metadata": {},
      "source": [
        "Nice! Based on F1-scores, it looks like our tribrid embedding model performs the best by a fair margin.\n",
        "\n",
        "Though, in comparison to the results reported in Table 3 of the [*PubMed 200k RCT:\n",
        "a Dataset for Sequential Sentence Classification in Medical Abstracts*](https://arxiv.org/pdf/1710.06071.pdf) paper, our model's F1-score is still underperforming (the authors model achieves an F1-score of 90.0 on the 20k RCT dataset versus our F1-score of ~82.6).\n",
        "\n",
        "There are some things to note about this difference:\n",
        "* Our models (with an exception for the baseline) have been trained on ~18,000 (10% of batches) samples of sequences and labels rather than the full ~180,000 in the 20k RCT dataset.\n",
        "  * This is often the case in machine learning experiments though, make sure training works on a smaller number of samples, then upscale when needed (an extension to this project will be training a model on the full dataset).\n",
        "* Our model's prediction performance levels have been evaluated on the validation dataset not the test dataset (we'll evaluate our best model on the test dataset shortly)."
      ]
    }
  ],
  "metadata": {
    "kernelspec": {
      "display_name": "venv",
      "language": "python",
      "name": "python3"
    },
    "language_info": {
      "codemirror_mode": {
        "name": "ipython",
        "version": 3
      },
      "file_extension": ".py",
      "mimetype": "text/x-python",
      "name": "python",
      "nbconvert_exporter": "python",
      "pygments_lexer": "ipython3",
      "version": "3.12.6"
    }
  },
  "nbformat": 4,
  "nbformat_minor": 5
}
