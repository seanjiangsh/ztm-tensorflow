{
 "cells": [
  {
   "cell_type": "markdown",
   "metadata": {},
   "source": [
    "# 03. Convolutional Neural Networks and Computer Vision with TensorFlow\n",
    "\n",
    "So far we've covered the basics of TensorFlow and built a handful of models to work across different problems.\n",
    "\n",
    "Now we're going to get specific and see how a special kind of neural network, [convolutional neural networks (CNNs)](https://en.wikipedia.org/wiki/Convolutional_neural_network) can be used for computer vision (detecting patterns in visual data).\n",
    "\n",
    "> 🔑 **Note:** In deep learning, many different kinds of model architectures can be used for different problems. For example, you could use a convolutional neural network for making predictions on image data and/or text data. However, in practice some architectures typically work better than others.\n",
    "\n",
    "For example, you might want to:\n",
    "* Classify whether a picture of food contains pizza 🍕 or steak 🥩 (we're going to do this)\n",
    "* Detect whether or not an object appears in an image (e.g. did a specific car pass through a security camera?)\n",
    "\n",
    "In this notebook, we're going to follow the TensorFlow modelling workflow we've been following so far whilst learning about how to build and use CNNs.\n",
    "\n",
    "## Introduction:\n",
    "\n",
    "### What we're going to cover\n",
    "\n",
    "Specifically, we're going to go through the follow with TensorFlow:\n",
    "\n",
    "- Getting a dataset to work with\n",
    "- Architecture of a convolutional neural network\n",
    "- A quick end-to-end example (what we're working towards)\n",
    "- Steps in modelling for binary image classification with CNNs\n",
    "  - Becoming one with the data\n",
    "  - Preparing data for modelling\n",
    "  - Creating a CNN model (starting with a baseline)\n",
    "  - Fitting a model (getting it to find patterns in our data)\n",
    "  - Evaluating a model\n",
    "  - Improving a model\n",
    "  - Making a prediction with a trained model\n",
    "- Steps in modelling for multi-class image classification with CNNs\n",
    " - Same as above (but this time with a different dataset)"
   ]
  }
 ],
 "metadata": {
  "kernelspec": {
   "display_name": "venv",
   "language": "python",
   "name": "python3"
  },
  "language_info": {
   "name": "python",
   "version": "3.12.6"
  }
 },
 "nbformat": 4,
 "nbformat_minor": 2
}
