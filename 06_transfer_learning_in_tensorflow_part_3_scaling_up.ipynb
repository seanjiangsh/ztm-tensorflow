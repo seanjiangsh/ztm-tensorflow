{
 "cells": [
  {
   "cell_type": "markdown",
   "metadata": {},
   "source": [
    "# 06. Transfer Learning with TensorFlow Part 3: Scaling up (🍔👁 Food Vision mini)\n",
    "\n",
    "In the previous two notebooks ([transfer learning part 1: feature extraction](https://github.com/mrdbourke/tensorflow-deep-learning/blob/main/04_transfer_learning_in_tensorflow_part_1_feature_extraction.ipynb) and [part 2: fine-tuning](https://github.com/mrdbourke/tensorflow-deep-learning/blob/main/05_transfer_learning_in_tensorflow_part_2_fine_tuning.ipynb)) we've seen the power of transfer learning.\n",
    "\n",
    "Now we know our smaller modelling experiments are working, it's time to step things up a notch with more data.\n",
    "\n",
    "This is a common practice in machine learning and deep learning: get a model working on a small amount of data before scaling it up to a larger amount of data.\n",
    "\n",
    "> 🔑 **Note:** You haven't forgotten the machine learning practitioners motto have you? \"Experiment, experiment, experiment.\"\n",
    "\n",
    "It's time to get closer to our Food Vision project coming to life. In this notebook we're going to scale up from using 10 classes of the Food101 data to using all of the classes in the Food101 dataset.\n",
    "\n",
    "Our goal is to **beat the original [Food101 paper](https://data.vision.ee.ethz.ch/cvl/datasets_extra/food-101/static/bossard_eccv14_food-101.pdf)'s results with 10% of data**.\n",
    "\n",
    "![](https://raw.githubusercontent.com/mrdbourke/tensorflow-deep-learning/main/images/06-ml-serial-experimentation.png)\n",
    "*Machine learning practitioners are serial experimenters. Start small, get a model working, see if your experiments work then gradually scale them up to where you want to go (we're going to be looking at scaling up throughout this notebook).*\n",
    "\n",
    "## What we're going to cover\n",
    "\n",
    "We're going to go through the follow with TensorFlow:\n",
    "\n",
    "- Downloading and preparing 10% of the Food101 data (10% of training data)\n",
    "- Training a feature extraction transfer learning model on 10% of the Food101 training data\n",
    "- Fine-tuning our feature extraction model\n",
    "- Saving and loaded our trained model\n",
    "- Evaluating the performance of our Food Vision model trained on 10% of the training data\n",
    "  - Finding our model's most wrong predictions\n",
    "- Making predictions with our Food Vision model on custom images of food\n"
   ]
  },
  {
   "cell_type": "code",
   "execution_count": null,
   "metadata": {},
   "outputs": [],
   "source": [
    "# Are we using a GPU? \n",
    "!nvidia-smi"
   ]
  }
 ],
 "metadata": {
  "kernelspec": {
   "display_name": "venv",
   "language": "python",
   "name": "python3"
  },
  "language_info": {
   "name": "python",
   "version": "3.12.6"
  }
 },
 "nbformat": 4,
 "nbformat_minor": 2
}
