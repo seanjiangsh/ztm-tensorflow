{
 "cells": [
  {
   "cell_type": "markdown",
   "metadata": {},
   "source": [
    "# 04. Transfer Learning with TensorFlow Part 1: Feature Extraction\n",
    "\n",
    "We've built a bunch of convolutional neural networks from scratch and they all seem to be learning, however, there is still plenty of room for improvement.\n",
    "\n",
    "To improve our model(s), we could spend a while trying different configurations, adding more layers, changing the learning rate, adjusting the number of neurons per layer and more.\n",
    "\n",
    "However, doing this is very time consuming.\n",
    "\n",
    "Luckily, there's a technique we can use to save time.\n",
    "\n",
    "It's called **transfer learning**, in other words, taking the patterns (also called weights) another model has learned from another problem and using them for our own problem.\n",
    "\n",
    "There are two main benefits to using transfer learning:\n",
    "1. Can leverage an existing neural network architecture proven to work on problems similar to our own.\n",
    "2. Can leverage a working neural network architecture which has **already learned** patterns on similar data to our own. This often results in achieving great results with less custom data.\n",
    "\n",
    "What this means is, instead of hand-crafting our own neural network architectures or building them from scratch, we can utilise models which have worked for others.\n",
    "\n",
    "And instead of training our own models from scratch on our own datasets, we can take the patterns a model has learned from datasets such as [ImageNet](http://www.image-net.org/) (millions of images of different objects) and use them as the foundation of our own. Doing this often leads to getting great results with less data.\n",
    "\n",
    "Over the next few notebooks, we'll see the power of transfer learning in action.\n",
    "\n",
    "## What we're going to cover\n",
    "\n",
    "We're going to go through the following with TensorFlow:\n",
    "\n",
    "- Introduce transfer learning (a way to beat all of our old self-built models)\n",
    "- Using a smaller dataset to experiment faster (10% of training samples of 10 classes of food)\n",
    "- Build a transfer learning feature extraction model using TensorFlow Hub\n",
    "- Introduce the TensorBoard callback to track model training results\n",
    "- Compare model results using TensorBoard\n"
   ]
  },
  {
   "cell_type": "markdown",
   "metadata": {},
   "source": [
    "## Using a GPU\n",
    "\n",
    "To begin, let's check to see if we're using a GPU. Using a GPU will make sure our model trains faster than using just a CPU.\n"
   ]
  },
  {
   "cell_type": "code",
   "execution_count": 3,
   "metadata": {},
   "outputs": [
    {
     "name": "stdout",
     "output_type": "stream",
     "text": [
      "Tue Dec 31 08:04:49 2024       \n",
      "+-----------------------------------------------------------------------------------------+\n",
      "| NVIDIA-SMI 560.35.02              Driver Version: 560.94         CUDA Version: 12.6     |\n",
      "|-----------------------------------------+------------------------+----------------------+\n",
      "| GPU  Name                 Persistence-M | Bus-Id          Disp.A | Volatile Uncorr. ECC |\n",
      "| Fan  Temp   Perf          Pwr:Usage/Cap |           Memory-Usage | GPU-Util  Compute M. |\n",
      "|                                         |                        |               MIG M. |\n",
      "|=========================================+========================+======================|\n",
      "|   0  NVIDIA GeForce RTX 4070 ...    On  |   00000000:65:00.0 Off |                  N/A |\n",
      "| N/A   44C    P3             11W /   74W |       0MiB /   8188MiB |      0%      Default |\n",
      "|                                         |                        |                  N/A |\n",
      "+-----------------------------------------+------------------------+----------------------+\n",
      "                                                                                         \n",
      "+-----------------------------------------------------------------------------------------+\n",
      "| Processes:                                                                              |\n",
      "|  GPU   GI   CI        PID   Type   Process name                              GPU Memory |\n",
      "|        ID   ID                                                               Usage      |\n",
      "|=========================================================================================|\n",
      "|  No running processes found                                                             |\n",
      "+-----------------------------------------------------------------------------------------+\n"
     ]
    }
   ],
   "source": [
    "# Are we using a GPU?\n",
    "!nvidia-smi"
   ]
  },
  {
   "cell_type": "markdown",
   "metadata": {},
   "source": [
    "## Transfer leanring with TensorFlow Hub: Getting great results with 10% of the data\n",
    "\n",
    "If you've been thinking, \"surely someone else has spent the time crafting the right model for the job...\" then you're in luck. \n",
    "\n",
    "For many of the problems you'll want to use deep learning for, chances are, a working model already exists.\n",
    "\n",
    "And the good news is, you can access many of them on TensorFlow Hub.\n",
    "\n",
    "[TensorFlow Hub](https://tfhub.dev/) is a repository for existing model components. It makes it so you can import and use a fully trained model with as little as a URL.\n",
    "\n",
    "Now, I really want to demonstrate the power of transfer learning to you.\n",
    "\n",
    "To do so, what if I told you we could get much of the same results (or better) than our best model has gotten so far with only 10% of the original data, in other words, 10x less data.\n",
    "\n",
    "This seems counterintuitive right?\n",
    "\n",
    "Wouldn't you think more examples of what a picture of food looked like led to better results?\n",
    "\n",
    "And you'd be right if you thought so, generally, more data leads to better results.\n",
    "\n",
    "However, what if you didn't have more data? What if instead of 750 images per class, you had 75 images per class?\n",
    "\n",
    "Collecting 675 more images of a certain class could take a long time.\n",
    "\n",
    "So this is where another major benefit of transfer learning comes in.\n",
    "\n",
    "**Transfer learning often allows you to get great results with less data.**\n",
    "\n",
    "But don't just take my word for it. Let's download a subset of the data we've been using, namely 10% of the training data from the `10_food_classes` dataset and use it to train a food image classifier on.\n",
    "\n",
    "![](https://raw.githubusercontent.com/mrdbourke/tensorflow-deep-learning/main/images/04-transfer-learning-feature-extraction.png)\n",
    "*What we're working towards building. Taking a pre-trained model and adding our own custom layers on top, extracting all of the underlying patterns learned on another dataset our own images.*\n",
    "\n"
   ]
  },
  {
   "cell_type": "markdown",
   "metadata": {},
   "source": [
    "## Downloading and becoming one with the data"
   ]
  },
  {
   "cell_type": "code",
   "execution_count": 4,
   "metadata": {},
   "outputs": [],
   "source": [
    "# Download zip file of 10_food_classes_10_percent images\n",
    "\n",
    "# Download data (Skip, load the data locally)\n",
    "# !wget https://storage.googleapis.com/ztm_tf_course/food_vision/10_food_classes_10_percent.zip\n"
   ]
  },
  {
   "cell_type": "code",
   "execution_count": 5,
   "metadata": {},
   "outputs": [
    {
     "name": "stdout",
     "output_type": "stream",
     "text": [
      "There are 2 directories and 0 images in 'data/image_data/10_food_classes_10_percent'.\n",
      "There are 10 directories and 0 images in 'data/image_data/10_food_classes_10_percent/test'.\n",
      "There are 0 directories and 250 images in 'data/image_data/10_food_classes_10_percent/test/chicken_curry'.\n",
      "There are 0 directories and 250 images in 'data/image_data/10_food_classes_10_percent/test/chicken_wings'.\n",
      "There are 0 directories and 250 images in 'data/image_data/10_food_classes_10_percent/test/fried_rice'.\n",
      "There are 0 directories and 250 images in 'data/image_data/10_food_classes_10_percent/test/grilled_salmon'.\n",
      "There are 0 directories and 250 images in 'data/image_data/10_food_classes_10_percent/test/hamburger'.\n",
      "There are 0 directories and 250 images in 'data/image_data/10_food_classes_10_percent/test/ice_cream'.\n",
      "There are 0 directories and 250 images in 'data/image_data/10_food_classes_10_percent/test/pizza'.\n",
      "There are 0 directories and 250 images in 'data/image_data/10_food_classes_10_percent/test/ramen'.\n",
      "There are 0 directories and 250 images in 'data/image_data/10_food_classes_10_percent/test/steak'.\n",
      "There are 0 directories and 250 images in 'data/image_data/10_food_classes_10_percent/test/sushi'.\n",
      "There are 10 directories and 0 images in 'data/image_data/10_food_classes_10_percent/train'.\n",
      "There are 0 directories and 75 images in 'data/image_data/10_food_classes_10_percent/train/chicken_curry'.\n",
      "There are 0 directories and 75 images in 'data/image_data/10_food_classes_10_percent/train/chicken_wings'.\n",
      "There are 0 directories and 75 images in 'data/image_data/10_food_classes_10_percent/train/fried_rice'.\n",
      "There are 0 directories and 75 images in 'data/image_data/10_food_classes_10_percent/train/grilled_salmon'.\n",
      "There are 0 directories and 75 images in 'data/image_data/10_food_classes_10_percent/train/hamburger'.\n",
      "There are 0 directories and 75 images in 'data/image_data/10_food_classes_10_percent/train/ice_cream'.\n",
      "There are 0 directories and 75 images in 'data/image_data/10_food_classes_10_percent/train/pizza'.\n",
      "There are 0 directories and 75 images in 'data/image_data/10_food_classes_10_percent/train/ramen'.\n",
      "There are 0 directories and 75 images in 'data/image_data/10_food_classes_10_percent/train/steak'.\n",
      "There are 0 directories and 75 images in 'data/image_data/10_food_classes_10_percent/train/sushi'.\n"
     ]
    }
   ],
   "source": [
    "# How many images in each folder?\n",
    "import os\n",
    "\n",
    "food_classes_dir = \"data/image_data/10_food_classes_10_percent\"\n",
    "# Walk through 10 percent data directory and list number of files\n",
    "for dirpath, dirnames, filenames in os.walk(food_classes_dir):\n",
    "    print(f\"There are {len(dirnames)} directories and {len(filenames)} images in '{dirpath}'.\")"
   ]
  },
  {
   "cell_type": "markdown",
   "metadata": {},
   "source": [
    "Notice how each of the training directories now has 75 images rather than 750 images. This is key to demonstrating how well transfer learning can perform with less labelled images.\n",
    "\n",
    "The test directories still have the same amount of images. This means we'll be training on less data but evaluating our models on the same amount of test data."
   ]
  },
  {
   "cell_type": "markdown",
   "metadata": {},
   "source": [
    "## Creating data loaders (preparing the data)\n",
    "\n",
    "Now we've downloaded the data, let's use the [`ImageDataGenerator`](https://www.tensorflow.org/api_docs/python/tf/keras/preprocessing/image/ImageDataGenerator) class along with the `flow_from_directory` method to load in our images."
   ]
  },
  {
   "cell_type": "code",
   "execution_count": 7,
   "metadata": {},
   "outputs": [
    {
     "name": "stdout",
     "output_type": "stream",
     "text": [
      "Training images:\n",
      "Found 750 images belonging to 10 classes.\n",
      "Testing images:\n",
      "Found 2500 images belonging to 10 classes.\n"
     ]
    }
   ],
   "source": [
    "# Setup data inputs\n",
    "from tensorflow.keras.preprocessing.image import ImageDataGenerator\n",
    "\n",
    "IMAGE_SHAPE = (224, 224)\n",
    "BATCH_SIZE = 32\n",
    "\n",
    "train_dir = food_classes_dir + \"/train/\"\n",
    "test_dir = food_classes_dir + \"/test/\"\n",
    "\n",
    "train_datagen = ImageDataGenerator(rescale=1/255.)\n",
    "test_datagen = ImageDataGenerator(rescale=1/255.)\n",
    "\n",
    "print(\"Training images:\")\n",
    "train_data_10_percent = train_datagen.flow_from_directory(\n",
    "    train_dir,\n",
    "    target_size=IMAGE_SHAPE,\n",
    "    batch_size=BATCH_SIZE,\n",
    "    class_mode=\"categorical\")\n",
    "\n",
    "print(\"Testing images:\")\n",
    "test_data = train_datagen.flow_from_directory(\n",
    "    test_dir,\n",
    "    target_size=IMAGE_SHAPE,\n",
    "    batch_size=BATCH_SIZE,\n",
    "    class_mode=\"categorical\")"
   ]
  },
  {
   "cell_type": "markdown",
   "metadata": {},
   "source": [
    "Excellent! Loading in the data we can see we've got 750 images in the training dataset belonging to 10 classes (75 per class) and 2500 images in the test set belonging to 10 classes (250 per class)."
   ]
  }
 ],
 "metadata": {
  "kernelspec": {
   "display_name": "venv",
   "language": "python",
   "name": "python3"
  },
  "language_info": {
   "codemirror_mode": {
    "name": "ipython",
    "version": 3
   },
   "file_extension": ".py",
   "mimetype": "text/x-python",
   "name": "python",
   "nbconvert_exporter": "python",
   "pygments_lexer": "ipython3",
   "version": "3.12.6"
  }
 },
 "nbformat": 4,
 "nbformat_minor": 2
}
